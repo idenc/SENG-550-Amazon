{
 "cells": [
  {
   "cell_type": "code",
   "execution_count": 1,
   "metadata": {},
   "outputs": [],
   "source": [
    "import os\n",
    "\n",
    "os.environ['HADOOP_HOME'] = r'/home/ubuntu/spark-2.4.7-bin-hadoop2.7/hadoop-2.7.0/'\n",
    "os.environ['HADOOP_COMMON_LIB_NATIVE_DIR'] = os.environ['HADOOP_HOME'] + '/lib/native'\n",
    "os.environ['HADOOP_OPTS'] = \"-Djava.library.path={}/lib\".format(\n",
    "    os.environ['HADOOP_HOME'])"
   ]
  },
  {
   "cell_type": "markdown",
   "metadata": {},
   "source": [
    "# Set up import and configure spark"
   ]
  },
  {
   "cell_type": "code",
   "execution_count": 2,
   "metadata": {},
   "outputs": [],
   "source": [
    "from pyspark.sql.functions import from_unixtime, to_date, year, udf, explode, split, col, length, rank, dense_rank, avg, sum\n",
    "from pyspark.sql import SparkSession\n",
    "import sparknlp\n",
    "import pandas as pd\n",
    "pd.set_option('display.max_columns', 100, 'display.max_colwidth', 1000, 'display.max_rows', 1000,\n",
    "              'display.float_format', lambda x: '%.2f' % x)\n",
    "\n",
    "spark = SparkSession.builder \\\n",
    "    .master(\"local[*]\")\\\n",
    "    .config(\"spark.driver.memory\", \"4G\")\\\n",
    "    .config(\"spark.driver.maxResultSize\", \"2G\") \\\n",
    "    .config(\"spark.jars.packages\", \"com.johnsnowlabs.nlp:spark-nlp_2.11:2.4.5\")\\\n",
    "    .config(\"spark.kryoserializer.buffer.max\", \"1G\")\\\n",
    "    .getOrCreate()"
   ]
  },
  {
   "cell_type": "code",
   "execution_count": 3,
   "metadata": {
    "application/vnd.databricks.v1+cell": {
     "inputWidgets": {},
     "nuid": "58fe338b-2203-40c9-8b14-5bb9577087c6",
     "showTitle": false,
     "title": ""
    }
   },
   "outputs": [
    {
     "data": {
      "text/plain": [
       "'2.6.3'"
      ]
     },
     "execution_count": 3,
     "metadata": {},
     "output_type": "execute_result"
    }
   ],
   "source": [
    "import tempfile\n",
    "import os\n",
    "import sparknlp\n",
    "from textblob import TextBlob\n",
    "from wordcloud import WordCloud\n",
    "from collections import Counter\n",
    "from nltk.corpus import stopwords\n",
    "import seaborn as sns\n",
    "import matplotlib.pyplot as plt\n",
    "import random\n",
    "import string\n",
    "import csv\n",
    "import numpy as np\n",
    "from pyspark.ml import Pipeline\n",
    "from pyspark.mllib.evaluation import MulticlassMetrics, BinaryClassificationMetrics\n",
    "from pyspark.mllib.tree import DecisionTree, DecisionTreeModel\n",
    "from pyspark.mllib.regression import LabeledPoint\n",
    "from pyspark.mllib.linalg import Vectors\n",
    "from pyspark.mllib.classification import NaiveBayes, NaiveBayesModel, SVMWithSGD, LogisticRegressionWithSGD\n",
    "from pyspark.ml.feature import HashingTF, Tokenizer\n",
    "\n",
    "%matplotlib inline\n",
    "# If difficulty in import sc or SparkContext Manually\n",
    "# Please uncomment the following to do so\n",
    "#import pyspark\n",
    "#sc = pyspark.SparkContext('local[*]')\n",
    "\n",
    "plt.rcdefaults()\n",
    "\n",
    "\n",
    "sparknlp.version()  # This is from JohnSnowLab"
   ]
  },
  {
   "cell_type": "markdown",
   "metadata": {},
   "source": [
    "# Load the training and testing JSON files"
   ]
  },
  {
   "cell_type": "code",
   "execution_count": 4,
   "metadata": {},
   "outputs": [],
   "source": [
    "def load_json(file_location):\n",
    "    file_type = \"json\"\n",
    "\n",
    "    # CSV options\n",
    "    infer_schema = \"false\"\n",
    "    first_row_is_header = \"false\"\n",
    "    delimiter = \",\"\n",
    "\n",
    "    # The applied options are for CSV files. For other file types, these will be ignored.\n",
    "    return spark.read.format(file_type) \\\n",
    "        .option(\"inferSchema\", infer_schema) \\\n",
    "        .option(\"header\", first_row_is_header) \\\n",
    "        .option(\"sep\", delimiter) \\\n",
    "        .load(file_location)"
   ]
  },
  {
   "cell_type": "markdown",
   "metadata": {},
   "source": [
    "Load training data"
   ]
  },
  {
   "cell_type": "code",
   "execution_count": 5,
   "metadata": {
    "application/vnd.databricks.v1+cell": {
     "inputWidgets": {},
     "nuid": "6482be4c-f067-47c9-b0ac-35c938b94601",
     "showTitle": false,
     "title": ""
    }
   },
   "outputs": [],
   "source": [
    "train_reviews = load_json(\n",
    "    \"/home/ubuntu/notebooks/sample_amazon_review_5_train.json\")"
   ]
  },
  {
   "cell_type": "markdown",
   "metadata": {},
   "source": [
    "Load testing data"
   ]
  },
  {
   "cell_type": "code",
   "execution_count": 6,
   "metadata": {},
   "outputs": [],
   "source": [
    "test_reviews = load_json(\n",
    "    \"/home/ubuntu/notebooks/sampled_amazon_review_5_val.json\")"
   ]
  },
  {
   "cell_type": "code",
   "execution_count": 7,
   "metadata": {},
   "outputs": [
    {
     "data": {
      "text/plain": [
       "DataFrame[asin: string, image: array<string>, overall: double, reviewText: string, reviewTime: string, reviewerID: string, reviewerName: string, style: struct<Capacity::string,Color Name::string,Color::string,Colorj::string,Configuration::string,Connectivity::string,Design::string,Diameter::string,Digital Storage Capacity::string,Display Height::string,Edition::string,Flavor Name::string,Flavor::string,Flex::string,Format::string,Gem Type::string,Gift Amount::string,Grip Type::string,Hand Orientation::string,Item Display Length::string,Item Display Weight::string,Item Package Quantity::string,Item Shape::string,Length::string,Loft::string,Material Type::string,Material::string,Metal Stamp::string,Metal Type::string,Model Number::string,Model::string,Number of Items::string,Offer Type::string,Outside Diameter::string,Overall Length::string,Package Quantity::string,Package Type::string,Part Number::string,Pattern::string,Platform for Display::string,Platform::string,Preamplifier Output Channel Quantity::string,Primary Stone Gem Type::string,Product Packaging::string,Scent Name::string,Scent::string,Service plan term::string,Shaft Material::string,Shape::string,Size Name::string,Size per Pearl::string,Size::string,Style Name::string,Style::string,Subscription Length::string,Team Name::string,Tension Supported::string,Total Diamond Weight::string,Unit Count::string,Wattage::string,Width::string,processor_description::string,style name::string,style::string>, summary: string, unixReviewTime: bigint, verified: boolean, vote: string]"
      ]
     },
     "execution_count": 7,
     "metadata": {},
     "output_type": "execute_result"
    }
   ],
   "source": [
    "# Ensure reading from disk does not happen more than once\n",
    "train_reviews.cache()\n",
    "test_reviews.cache()"
   ]
  },
  {
   "cell_type": "code",
   "execution_count": 8,
   "metadata": {
    "application/vnd.databricks.v1+cell": {
     "inputWidgets": {},
     "nuid": "bd82bb99-1479-4d5c-be10-8c36df0f1d44",
     "showTitle": false,
     "title": ""
    }
   },
   "outputs": [],
   "source": [
    "# Create a view of train and test\n",
    "train_reviews.createOrReplaceTempView(\"train_reviews\")\n",
    "test_reviews.createOrReplaceTempView(\"test_reviews\")"
   ]
  },
  {
   "cell_type": "code",
   "execution_count": 9,
   "metadata": {
    "application/vnd.databricks.v1+cell": {
     "inputWidgets": {},
     "nuid": "b5f66379-6f7f-42ec-8e82-d0e0926a1721",
     "showTitle": false,
     "title": ""
    }
   },
   "outputs": [
    {
     "data": {
      "text/html": [
       "<div>\n",
       "<style scoped>\n",
       "    .dataframe tbody tr th:only-of-type {\n",
       "        vertical-align: middle;\n",
       "    }\n",
       "\n",
       "    .dataframe tbody tr th {\n",
       "        vertical-align: top;\n",
       "    }\n",
       "\n",
       "    .dataframe thead th {\n",
       "        text-align: right;\n",
       "    }\n",
       "</style>\n",
       "<table border=\"1\" class=\"dataframe\">\n",
       "  <thead>\n",
       "    <tr style=\"text-align: right;\">\n",
       "      <th></th>\n",
       "      <th>reviewText</th>\n",
       "      <th>overall</th>\n",
       "    </tr>\n",
       "  </thead>\n",
       "  <tbody>\n",
       "    <tr>\n",
       "      <th>0</th>\n",
       "      <td>This is a great start, and a very cool example of the potential of Echo in a connected home.  It's not perfect, though, and I don't get the sense that the Garageio manufacturer is incrementally enhancing this skill - I fear that's it's as good as its going to get.\\n\\nIssue #1\\n\\nEach garage door is given a name.  I have one with my name and one with my wife's name.  Our names are both single syllable, but start with different letters and have completely different phenomes.\\n\\nMe: Alexa, ask garageio to close Dean's door.\\nEcho: Closing Mary's door.\\nMe:  What the heck?!?\\n\\nIt happens all the time, even when standing right next to the Echo.  Sure, I could rename the doors to something that the Echo can distinguish between, but it shouldn't be necessary.  I recognize that this is likely an Amazon thing and not a Garageio thing, but the fact that Echo sits in my house and can't distinguish between the spoken names of two residents in the home is kinda sad.\\n\\nIssue #2\\n\\nWe have thre...</td>\n",
       "      <td>2.00</td>\n",
       "    </tr>\n",
       "    <tr>\n",
       "      <th>1</th>\n",
       "      <td>I've played the game a handful of times and its rare it actually gets my animal right. It takes the same general concept of 21 questions but the pay off is never there.</td>\n",
       "      <td>1.00</td>\n",
       "    </tr>\n",
       "    <tr>\n",
       "      <th>2</th>\n",
       "      <td>I have been using automatic for more than a year and Alexa took it to another next level . This skill can even do more based our historic driving data and also using the driving score.</td>\n",
       "      <td>4.00</td>\n",
       "    </tr>\n",
       "    <tr>\n",
       "      <th>3</th>\n",
       "      <td>Exactly what I needed for my mother!</td>\n",
       "      <td>5.00</td>\n",
       "    </tr>\n",
       "    <tr>\n",
       "      <th>4</th>\n",
       "      <td>It does not tell you when the reruns are on., only the next show you in the series.  Not bad but not usefull if you want to watch sonething like love it or list it or sone other show that does mot need to be the newest show. It woukd also be nice to be able to set your cable company and fet actual channels, yo be hobest if I have to look up what network is on what channel I may as well look up the time too.  Other then those things it does work as stated</td>\n",
       "      <td>3.00</td>\n",
       "    </tr>\n",
       "    <tr>\n",
       "      <th>...</th>\n",
       "      <td>...</td>\n",
       "      <td>...</td>\n",
       "    </tr>\n",
       "    <tr>\n",
       "      <th>359988</th>\n",
       "      <td>Editing has been done and corrections made so the 5 stars are now well and truly worth it. Once again Halloween LaVue has gotten into more trouble than you can shake a stick at, or in this case a wedding dress at. This time though Halloweens mum and BFF are also affected. That doesn't go down well at all.</td>\n",
       "      <td>5.00</td>\n",
       "    </tr>\n",
       "    <tr>\n",
       "      <th>359989</th>\n",
       "      <td>Thank you</td>\n",
       "      <td>5.00</td>\n",
       "    </tr>\n",
       "    <tr>\n",
       "      <th>359990</th>\n",
       "      <td>Beautiful shirt!! It is super cute and fits so nicely. It hangs beautifully on me. Absolutely love it. It isn't to thick and it's not too thin either it is just right and the garments stitching is good. It is a high quality shirt. Absolutely love the material. It is super soft.</td>\n",
       "      <td>5.00</td>\n",
       "    </tr>\n",
       "    <tr>\n",
       "      <th>359991</th>\n",
       "      <td>Top was too big, bottoms too small, cheaply made</td>\n",
       "      <td>1.00</td>\n",
       "    </tr>\n",
       "    <tr>\n",
       "      <th>359992</th>\n",
       "      <td>This is a great book for mental health professionals. I use it with my young clients who have experienced trauma in their lives.  It's strightforward and easy to understand.</td>\n",
       "      <td>5.00</td>\n",
       "    </tr>\n",
       "  </tbody>\n",
       "</table>\n",
       "<p>359993 rows × 2 columns</p>\n",
       "</div>"
      ],
      "text/plain": [
       "                                                                                                                                                                                                                                                                                                                                                                                                                                                                                                                                                                                                                                                                                                                                                                                                                                                                                                                                                                                                                                     reviewText  \\\n",
       "0       This is a great start, and a very cool example of the potential of Echo in a connected home.  It's not perfect, though, and I don't get the sense that the Garageio manufacturer is incrementally enhancing this skill - I fear that's it's as good as its going to get.\\n\\nIssue #1\\n\\nEach garage door is given a name.  I have one with my name and one with my wife's name.  Our names are both single syllable, but start with different letters and have completely different phenomes.\\n\\nMe: Alexa, ask garageio to close Dean's door.\\nEcho: Closing Mary's door.\\nMe:  What the heck?!?\\n\\nIt happens all the time, even when standing right next to the Echo.  Sure, I could rename the doors to something that the Echo can distinguish between, but it shouldn't be necessary.  I recognize that this is likely an Amazon thing and not a Garageio thing, but the fact that Echo sits in my house and can't distinguish between the spoken names of two residents in the home is kinda sad.\\n\\nIssue #2\\n\\nWe have thre...   \n",
       "1                                                                                                                                                                                                                                                                                                                                                                                                                                                                                                                                                                                                                                                                                                                                                                                                                                                                      I've played the game a handful of times and its rare it actually gets my animal right. It takes the same general concept of 21 questions but the pay off is never there.   \n",
       "2                                                                                                                                                                                                                                                                                                                                                                                                                                                                                                                                                                                                                                                                                                                                                                                                                                                      I have been using automatic for more than a year and Alexa took it to another next level . This skill can even do more based our historic driving data and also using the driving score.   \n",
       "3                                                                                                                                                                                                                                                                                                                                                                                                                                                                                                                                                                                                                                                                                                                                                                                                                                                                                                                                                                                                          Exactly what I needed for my mother!   \n",
       "4                                                                                                                                                                                                                                                                                                                                                                                                                                                                                                                                                                    It does not tell you when the reruns are on., only the next show you in the series.  Not bad but not usefull if you want to watch sonething like love it or list it or sone other show that does mot need to be the newest show. It woukd also be nice to be able to set your cable company and fet actual channels, yo be hobest if I have to look up what network is on what channel I may as well look up the time too.  Other then those things it does work as stated   \n",
       "...                                                                                                                                                                                                                                                                                                                                                                                                                                                                                                                                                                                                                                                                                                                                                                                                                                                                                                                                                                                                                                         ...   \n",
       "359988                                                                                                                                                                                                                                                                                                                                                                                                                                                                                                                                                                                                                                                                                                                       Editing has been done and corrections made so the 5 stars are now well and truly worth it. Once again Halloween LaVue has gotten into more trouble than you can shake a stick at, or in this case a wedding dress at. This time though Halloweens mum and BFF are also affected. That doesn't go down well at all.   \n",
       "359989                                                                                                                                                                                                                                                                                                                                                                                                                                                                                                                                                                                                                                                                                                                                                                                                                                                                                                                                                                                                                                Thank you   \n",
       "359990                                                                                                                                                                                                                                                                                                                                                                                                                                                                                                                                                                                                                                                                                                                                                   Beautiful shirt!! It is super cute and fits so nicely. It hangs beautifully on me. Absolutely love it. It isn't to thick and it's not too thin either it is just right and the garments stitching is good. It is a high quality shirt. Absolutely love the material. It is super soft.   \n",
       "359991                                                                                                                                                                                                                                                                                                                                                                                                                                                                                                                                                                                                                                                                                                                                                                                                                                                                                                                                                                                         Top was too big, bottoms too small, cheaply made   \n",
       "359992                                                                                                                                                                                                                                                                                                                                                                                                                                                                                                                                                                                                                                                                                                                                                                                                                                                            This is a great book for mental health professionals. I use it with my young clients who have experienced trauma in their lives.  It's strightforward and easy to understand.   \n",
       "\n",
       "        overall  \n",
       "0          2.00  \n",
       "1          1.00  \n",
       "2          4.00  \n",
       "3          5.00  \n",
       "4          3.00  \n",
       "...         ...  \n",
       "359988     5.00  \n",
       "359989     5.00  \n",
       "359990     5.00  \n",
       "359991     1.00  \n",
       "359992     5.00  \n",
       "\n",
       "[359993 rows x 2 columns]"
      ]
     },
     "execution_count": 9,
     "metadata": {},
     "output_type": "execute_result"
    }
   ],
   "source": [
    "spark.sql('select reviewText, overall from train_reviews').toPandas()"
   ]
  },
  {
   "cell_type": "markdown",
   "metadata": {
    "application/vnd.databricks.v1+cell": {
     "inputWidgets": {},
     "nuid": "0ea05d6a-fa87-49d8-b73f-18a80c328335",
     "showTitle": false,
     "title": ""
    }
   },
   "source": [
    "Filter out null reviews"
   ]
  },
  {
   "cell_type": "code",
   "execution_count": 10,
   "metadata": {
    "application/vnd.databricks.v1+cell": {
     "inputWidgets": {},
     "nuid": "f5786f40-5805-435e-af64-c713762a0a4e",
     "showTitle": false,
     "title": ""
    }
   },
   "outputs": [],
   "source": [
    "train_reviews = train_reviews.filter(train_reviews.reviewText.isNotNull())\n",
    "test_reviews = test_reviews.filter(test_reviews.reviewText.isNotNull())"
   ]
  },
  {
   "cell_type": "markdown",
   "metadata": {
    "application/vnd.databricks.v1+cell": {
     "inputWidgets": {},
     "nuid": "6eb478c1-045d-4754-931e-2e60cc691a3a",
     "showTitle": false,
     "title": ""
    }
   },
   "source": [
    "reviews.createOrReplaceTempView('reviews'): Creates a new temporary view using a SparkDataFrame in the Spark Session. If a temporary view with the same name already exists, replaces it."
   ]
  },
  {
   "cell_type": "code",
   "execution_count": 11,
   "metadata": {
    "application/vnd.databricks.v1+cell": {
     "inputWidgets": {},
     "nuid": "6445adce-7078-4bb6-b75d-9d02e824a904",
     "showTitle": false,
     "title": ""
    }
   },
   "outputs": [],
   "source": [
    "train_reviews.createOrReplaceTempView('train_reviews')\n",
    "test_reviews.createOrReplaceTempView('test_reviews')"
   ]
  },
  {
   "cell_type": "code",
   "execution_count": 12,
   "metadata": {
    "application/vnd.databricks.v1+cell": {
     "inputWidgets": {},
     "nuid": "744fe500-1a57-4e6f-b8d4-5f95d2832c08",
     "showTitle": false,
     "title": ""
    }
   },
   "outputs": [
    {
     "data": {
      "text/html": [
       "<div>\n",
       "<style scoped>\n",
       "    .dataframe tbody tr th:only-of-type {\n",
       "        vertical-align: middle;\n",
       "    }\n",
       "\n",
       "    .dataframe tbody tr th {\n",
       "        vertical-align: top;\n",
       "    }\n",
       "\n",
       "    .dataframe thead th {\n",
       "        text-align: right;\n",
       "    }\n",
       "</style>\n",
       "<table border=\"1\" class=\"dataframe\">\n",
       "  <thead>\n",
       "    <tr style=\"text-align: right;\">\n",
       "      <th></th>\n",
       "      <th>count(1)</th>\n",
       "    </tr>\n",
       "  </thead>\n",
       "  <tbody>\n",
       "    <tr>\n",
       "      <th>0</th>\n",
       "      <td>359835</td>\n",
       "    </tr>\n",
       "  </tbody>\n",
       "</table>\n",
       "</div>"
      ],
      "text/plain": [
       "   count(1)\n",
       "0    359835"
      ]
     },
     "execution_count": 12,
     "metadata": {},
     "output_type": "execute_result"
    }
   ],
   "source": [
    "spark.sql('SELECT COUNT(*) FROM train_reviews').toPandas()"
   ]
  },
  {
   "cell_type": "code",
   "execution_count": 13,
   "metadata": {},
   "outputs": [
    {
     "data": {
      "text/html": [
       "<div>\n",
       "<style scoped>\n",
       "    .dataframe tbody tr th:only-of-type {\n",
       "        vertical-align: middle;\n",
       "    }\n",
       "\n",
       "    .dataframe tbody tr th {\n",
       "        vertical-align: top;\n",
       "    }\n",
       "\n",
       "    .dataframe thead th {\n",
       "        text-align: right;\n",
       "    }\n",
       "</style>\n",
       "<table border=\"1\" class=\"dataframe\">\n",
       "  <thead>\n",
       "    <tr style=\"text-align: right;\">\n",
       "      <th></th>\n",
       "      <th>count(1)</th>\n",
       "    </tr>\n",
       "  </thead>\n",
       "  <tbody>\n",
       "    <tr>\n",
       "      <th>0</th>\n",
       "      <td>89964</td>\n",
       "    </tr>\n",
       "  </tbody>\n",
       "</table>\n",
       "</div>"
      ],
      "text/plain": [
       "   count(1)\n",
       "0     89964"
      ]
     },
     "execution_count": 13,
     "metadata": {},
     "output_type": "execute_result"
    }
   ],
   "source": [
    "spark.sql('SELECT COUNT(*) FROM test_reviews').toPandas()"
   ]
  },
  {
   "cell_type": "markdown",
   "metadata": {},
   "source": [
    "# Convert Review Rating to Sentiment Label"
   ]
  },
  {
   "cell_type": "code",
   "execution_count": 14,
   "metadata": {
    "application/vnd.databricks.v1+cell": {
     "inputWidgets": {},
     "nuid": "6b95b116-06ff-4584-bd4f-82f7c5cecef2",
     "showTitle": false,
     "title": ""
    },
    "scrolled": true
   },
   "outputs": [
    {
     "data": {
      "text/html": [
       "<div>\n",
       "<style scoped>\n",
       "    .dataframe tbody tr th:only-of-type {\n",
       "        vertical-align: middle;\n",
       "    }\n",
       "\n",
       "    .dataframe tbody tr th {\n",
       "        vertical-align: top;\n",
       "    }\n",
       "\n",
       "    .dataframe thead th {\n",
       "        text-align: right;\n",
       "    }\n",
       "</style>\n",
       "<table border=\"1\" class=\"dataframe\">\n",
       "  <thead>\n",
       "    <tr style=\"text-align: right;\">\n",
       "      <th></th>\n",
       "      <th>sentiment</th>\n",
       "      <th>reviewText</th>\n",
       "    </tr>\n",
       "  </thead>\n",
       "  <tbody>\n",
       "    <tr>\n",
       "      <th>0</th>\n",
       "      <td>0</td>\n",
       "      <td>This is a great start, and a very cool example of the potential of Echo in a connected home.  It's not perfect, though, and I don't get the sense that the Garageio manufacturer is incrementally enhancing this skill - I fear that's it's as good as its going to get.\\n\\nIssue #1\\n\\nEach garage door is given a name.  I have one with my name and one with my wife's name.  Our names are both single syllable, but start with different letters and have completely different phenomes.\\n\\nMe: Alexa, ask garageio to close Dean's door.\\nEcho: Closing Mary's door.\\nMe:  What the heck?!?\\n\\nIt happens all the time, even when standing right next to the Echo.  Sure, I could rename the doors to something that the Echo can distinguish between, but it shouldn't be necessary.  I recognize that this is likely an Amazon thing and not a Garageio thing, but the fact that Echo sits in my house and can't distinguish between the spoken names of two residents in the home is kinda sad.\\n\\nIssue #2\\n\\nWe have thre...</td>\n",
       "    </tr>\n",
       "    <tr>\n",
       "      <th>1</th>\n",
       "      <td>0</td>\n",
       "      <td>I've played the game a handful of times and its rare it actually gets my animal right. It takes the same general concept of 21 questions but the pay off is never there.</td>\n",
       "    </tr>\n",
       "    <tr>\n",
       "      <th>2</th>\n",
       "      <td>1</td>\n",
       "      <td>I have been using automatic for more than a year and Alexa took it to another next level . This skill can even do more based our historic driving data and also using the driving score.</td>\n",
       "    </tr>\n",
       "    <tr>\n",
       "      <th>3</th>\n",
       "      <td>1</td>\n",
       "      <td>Exactly what I needed for my mother!</td>\n",
       "    </tr>\n",
       "    <tr>\n",
       "      <th>4</th>\n",
       "      <td>0</td>\n",
       "      <td>It does not tell you when the reruns are on., only the next show you in the series.  Not bad but not usefull if you want to watch sonething like love it or list it or sone other show that does mot need to be the newest show. It woukd also be nice to be able to set your cable company and fet actual channels, yo be hobest if I have to look up what network is on what channel I may as well look up the time too.  Other then those things it does work as stated</td>\n",
       "    </tr>\n",
       "    <tr>\n",
       "      <th>...</th>\n",
       "      <td>...</td>\n",
       "      <td>...</td>\n",
       "    </tr>\n",
       "    <tr>\n",
       "      <th>359830</th>\n",
       "      <td>1</td>\n",
       "      <td>Editing has been done and corrections made so the 5 stars are now well and truly worth it. Once again Halloween LaVue has gotten into more trouble than you can shake a stick at, or in this case a wedding dress at. This time though Halloweens mum and BFF are also affected. That doesn't go down well at all.</td>\n",
       "    </tr>\n",
       "    <tr>\n",
       "      <th>359831</th>\n",
       "      <td>1</td>\n",
       "      <td>Thank you</td>\n",
       "    </tr>\n",
       "    <tr>\n",
       "      <th>359832</th>\n",
       "      <td>1</td>\n",
       "      <td>Beautiful shirt!! It is super cute and fits so nicely. It hangs beautifully on me. Absolutely love it. It isn't to thick and it's not too thin either it is just right and the garments stitching is good. It is a high quality shirt. Absolutely love the material. It is super soft.</td>\n",
       "    </tr>\n",
       "    <tr>\n",
       "      <th>359833</th>\n",
       "      <td>0</td>\n",
       "      <td>Top was too big, bottoms too small, cheaply made</td>\n",
       "    </tr>\n",
       "    <tr>\n",
       "      <th>359834</th>\n",
       "      <td>1</td>\n",
       "      <td>This is a great book for mental health professionals. I use it with my young clients who have experienced trauma in their lives.  It's strightforward and easy to understand.</td>\n",
       "    </tr>\n",
       "  </tbody>\n",
       "</table>\n",
       "<p>359835 rows × 2 columns</p>\n",
       "</div>"
      ],
      "text/plain": [
       "        sentiment  \\\n",
       "0               0   \n",
       "1               0   \n",
       "2               1   \n",
       "3               1   \n",
       "4               0   \n",
       "...           ...   \n",
       "359830          1   \n",
       "359831          1   \n",
       "359832          1   \n",
       "359833          0   \n",
       "359834          1   \n",
       "\n",
       "                                                                                                                                                                                                                                                                                                                                                                                                                                                                                                                                                                                                                                                                                                                                                                                                                                                                                                                                                                                                                                     reviewText  \n",
       "0       This is a great start, and a very cool example of the potential of Echo in a connected home.  It's not perfect, though, and I don't get the sense that the Garageio manufacturer is incrementally enhancing this skill - I fear that's it's as good as its going to get.\\n\\nIssue #1\\n\\nEach garage door is given a name.  I have one with my name and one with my wife's name.  Our names are both single syllable, but start with different letters and have completely different phenomes.\\n\\nMe: Alexa, ask garageio to close Dean's door.\\nEcho: Closing Mary's door.\\nMe:  What the heck?!?\\n\\nIt happens all the time, even when standing right next to the Echo.  Sure, I could rename the doors to something that the Echo can distinguish between, but it shouldn't be necessary.  I recognize that this is likely an Amazon thing and not a Garageio thing, but the fact that Echo sits in my house and can't distinguish between the spoken names of two residents in the home is kinda sad.\\n\\nIssue #2\\n\\nWe have thre...  \n",
       "1                                                                                                                                                                                                                                                                                                                                                                                                                                                                                                                                                                                                                                                                                                                                                                                                                                                                      I've played the game a handful of times and its rare it actually gets my animal right. It takes the same general concept of 21 questions but the pay off is never there.  \n",
       "2                                                                                                                                                                                                                                                                                                                                                                                                                                                                                                                                                                                                                                                                                                                                                                                                                                                      I have been using automatic for more than a year and Alexa took it to another next level . This skill can even do more based our historic driving data and also using the driving score.  \n",
       "3                                                                                                                                                                                                                                                                                                                                                                                                                                                                                                                                                                                                                                                                                                                                                                                                                                                                                                                                                                                                          Exactly what I needed for my mother!  \n",
       "4                                                                                                                                                                                                                                                                                                                                                                                                                                                                                                                                                                    It does not tell you when the reruns are on., only the next show you in the series.  Not bad but not usefull if you want to watch sonething like love it or list it or sone other show that does mot need to be the newest show. It woukd also be nice to be able to set your cable company and fet actual channels, yo be hobest if I have to look up what network is on what channel I may as well look up the time too.  Other then those things it does work as stated  \n",
       "...                                                                                                                                                                                                                                                                                                                                                                                                                                                                                                                                                                                                                                                                                                                                                                                                                                                                                                                                                                                                                                         ...  \n",
       "359830                                                                                                                                                                                                                                                                                                                                                                                                                                                                                                                                                                                                                                                                                                                       Editing has been done and corrections made so the 5 stars are now well and truly worth it. Once again Halloween LaVue has gotten into more trouble than you can shake a stick at, or in this case a wedding dress at. This time though Halloweens mum and BFF are also affected. That doesn't go down well at all.  \n",
       "359831                                                                                                                                                                                                                                                                                                                                                                                                                                                                                                                                                                                                                                                                                                                                                                                                                                                                                                                                                                                                                                Thank you  \n",
       "359832                                                                                                                                                                                                                                                                                                                                                                                                                                                                                                                                                                                                                                                                                                                                                   Beautiful shirt!! It is super cute and fits so nicely. It hangs beautifully on me. Absolutely love it. It isn't to thick and it's not too thin either it is just right and the garments stitching is good. It is a high quality shirt. Absolutely love the material. It is super soft.  \n",
       "359833                                                                                                                                                                                                                                                                                                                                                                                                                                                                                                                                                                                                                                                                                                                                                                                                                                                                                                                                                                                         Top was too big, bottoms too small, cheaply made  \n",
       "359834                                                                                                                                                                                                                                                                                                                                                                                                                                                                                                                                                                                                                                                                                                                                                                                                                                                            This is a great book for mental health professionals. I use it with my young clients who have experienced trauma in their lives.  It's strightforward and easy to understand.  \n",
       "\n",
       "[359835 rows x 2 columns]"
      ]
     },
     "execution_count": 14,
     "metadata": {},
     "output_type": "execute_result"
    }
   ],
   "source": [
    "from pyspark.sql.functions import lit, when, col, regexp_extract\n",
    "\n",
    "# label all reviews with greater than 3 stars as a positive review (1), else negative (0)\n",
    "labelled_train = train_reviews.withColumn(\n",
    "    'overall', when(col(\"overall\") > 3, 1).otherwise(0))\n",
    "labelled_test = test_reviews.withColumn(\n",
    "    'overall', when(col(\"overall\") > 3, 1).otherwise(0))\n",
    "# Drop all columns except reviewText, and sentiment label\n",
    "labelled_train = labelled_train.select(\n",
    "    [c for c in labelled_train.columns if c in {'reviewText', 'overall'}])\n",
    "labelled_test = labelled_test.select(\n",
    "    [c for c in labelled_test.columns if c in {'reviewText', 'overall'}])\n",
    "\n",
    "# Rename overall to sentiment\n",
    "labelled_train = labelled_train.withColumnRenamed(\"overall\", \"sentiment\")\n",
    "labelled_test = labelled_test.withColumnRenamed(\"overall\", \"sentiment\")\n",
    "\n",
    "labelled_train.toPandas()"
   ]
  },
  {
   "cell_type": "code",
   "execution_count": 15,
   "metadata": {
    "application/vnd.databricks.v1+cell": {
     "inputWidgets": {},
     "nuid": "da6ee3da-3c2a-4a0c-af13-d7e7f580e793",
     "showTitle": false,
     "title": ""
    }
   },
   "outputs": [],
   "source": [
    "# need equal number of negative and positive reviews\n",
    "labelled_train.createOrReplaceTempView('labelled_train')\n",
    "labelled_test.createOrReplaceTempView('labelled_test')"
   ]
  },
  {
   "cell_type": "markdown",
   "metadata": {},
   "source": [
    "### Ensure there is not an imbalance in number of positive/negative reviews"
   ]
  },
  {
   "cell_type": "markdown",
   "metadata": {},
   "source": [
    "Sample a random number of reviews from the larger class to match the smaller class"
   ]
  },
  {
   "cell_type": "code",
   "execution_count": 16,
   "metadata": {},
   "outputs": [],
   "source": [
    "def balance_reviews(table_name):\n",
    "    query = '''\n",
    "    SELECT *\n",
    "    FROM {}\n",
    "    WHERE sentiment='{}'\n",
    "    '''\n",
    "    poscount = spark.sql(query.format(table_name, 1)).count()\n",
    "    print(\"numPositive: \" + str(poscount))\n",
    "\n",
    "    negcount = spark.sql(query.format(table_name, 0)).count()\n",
    "    print(\"numNegative: \" + str(negcount))\n",
    "\n",
    "    query = '''\n",
    "        (SELECT *\n",
    "        FROM {}\n",
    "        WHERE sentiment='0'\n",
    "        ORDER BY RAND() LIMIT {})\n",
    "        UNION\n",
    "        (SELECT *\n",
    "        FROM {}\n",
    "        WHERE sentiment='1'\n",
    "        ORDER BY RAND() LIMIT {})\n",
    "        '''.format(table_name, min(poscount, negcount), table_name, min(poscount, negcount))\n",
    "\n",
    "    sampled_reviews = spark.sql(query)\n",
    "    sampled_reviews.createOrReplaceTempView(table_name)\n",
    "    return sampled_reviews"
   ]
  },
  {
   "cell_type": "code",
   "execution_count": 17,
   "metadata": {},
   "outputs": [
    {
     "name": "stdout",
     "output_type": "stream",
     "text": [
      "numPositive: 293317\n",
      "numNegative: 66518\n",
      "numPositive: 73453\n",
      "numNegative: 16511\n"
     ]
    }
   ],
   "source": [
    "sampled_train_reviews = balance_reviews('labelled_train')\n",
    "sampled_test_reviews = balance_reviews('labelled_test')"
   ]
  },
  {
   "cell_type": "markdown",
   "metadata": {},
   "source": [
    "Compare number of positive and negative reviews after downsampling"
   ]
  },
  {
   "cell_type": "code",
   "execution_count": 18,
   "metadata": {},
   "outputs": [
    {
     "name": "stdout",
     "output_type": "stream",
     "text": [
      "+--------+\n",
      "|count(1)|\n",
      "+--------+\n",
      "|   65524|\n",
      "+--------+\n",
      "\n",
      "None\n",
      "+--------+\n",
      "|count(1)|\n",
      "+--------+\n",
      "|   62710|\n",
      "+--------+\n",
      "\n"
     ]
    }
   ],
   "source": [
    "query = '''\n",
    "SELECT COUNT(*)\n",
    "FROM labelled_train\n",
    "WHERE sentiment='0'\n",
    "'''\n",
    "print(spark.sql(query).show())\n",
    "\n",
    "query = '''\n",
    "SELECT COUNT(*)\n",
    "FROM labelled_train\n",
    "WHERE sentiment='1'\n",
    "'''\n",
    "spark.sql(query).show()"
   ]
  },
  {
   "cell_type": "code",
   "execution_count": 19,
   "metadata": {
    "scrolled": true
   },
   "outputs": [
    {
     "name": "stdout",
     "output_type": "stream",
     "text": [
      "+--------+\n",
      "|count(1)|\n",
      "+--------+\n",
      "|   16362|\n",
      "+--------+\n",
      "\n",
      "None\n",
      "+--------+\n",
      "|count(1)|\n",
      "+--------+\n",
      "|   15821|\n",
      "+--------+\n",
      "\n"
     ]
    }
   ],
   "source": [
    "query = '''\n",
    "SELECT COUNT(*)\n",
    "FROM labelled_test\n",
    "WHERE sentiment='0'\n",
    "'''\n",
    "print(spark.sql(query).show())\n",
    "\n",
    "query = '''\n",
    "SELECT COUNT(*)\n",
    "FROM labelled_test\n",
    "WHERE sentiment='1'\n",
    "'''\n",
    "spark.sql(query).show()"
   ]
  },
  {
   "cell_type": "code",
   "execution_count": 20,
   "metadata": {},
   "outputs": [
    {
     "name": "stdout",
     "output_type": "stream",
     "text": [
      "128234\n"
     ]
    },
    {
     "data": {
      "text/plain": [
       "32183"
      ]
     },
     "execution_count": 20,
     "metadata": {},
     "output_type": "execute_result"
    }
   ],
   "source": [
    "print(sampled_train_reviews.count())\n",
    "sampled_test_reviews.count()"
   ]
  },
  {
   "cell_type": "markdown",
   "metadata": {
    "application/vnd.databricks.v1+cell": {
     "inputWidgets": {},
     "nuid": "0fcd252e-57c4-427a-9583-2550e707a3a9",
     "showTitle": false,
     "title": ""
    }
   },
   "source": [
    "## Clean Data"
   ]
  },
  {
   "cell_type": "code",
   "execution_count": 21,
   "metadata": {
    "application/vnd.databricks.v1+cell": {
     "inputWidgets": {},
     "nuid": "7ef76b70-5612-40e0-8c6a-3e7fbe4514a9",
     "showTitle": false,
     "title": ""
    }
   },
   "outputs": [],
   "source": [
    "import re\n",
    "from html import unescape\n",
    "\n",
    "sw = stopwords.words(\"english\")\n",
    "\n",
    "\n",
    "def remove_stopwords(x):\n",
    "    string = ''\n",
    "    for x in x.split(' '):\n",
    "        if x.lower() not in sw:\n",
    "            string += x + ' '\n",
    "        else:\n",
    "            pass\n",
    "    return string\n",
    "\n",
    "\n",
    "def lower(text):\n",
    "    return text.lower()\n",
    "\n",
    "\n",
    "def removePunctuation(text):\n",
    "    return re.sub('[^A-Za-z0-9 ]+', '', text)\n",
    "\n",
    "\n",
    "@udf\n",
    "def fixHTML(text):\n",
    "    return unescape(text)\n",
    "\n",
    "\n",
    "# UDF = user defined function\n",
    "nosw = udf(remove_stopwords)\n",
    "rp = udf(removePunctuation)\n",
    "lc = udf(lower)\n",
    "# Register UDF with Spark\n",
    "spark.udf.register(\"nosw\", nosw)\n",
    "spark.udf.register(\"rp\", rp)\n",
    "spark.udf.register(\"lc\", lc)\n",
    "\n",
    "# Creates a new column in reviews which contains the review with no stop words\n",
    "sampled_train_reviews = sampled_train_reviews.withColumn(\n",
    "    'text_nosw', lc(rp(fixHTML(nosw('reviewText')))))\n",
    "sampled_test_reviews = sampled_test_reviews.withColumn(\n",
    "    'text_nosw', lc(rp(fixHTML(nosw('reviewText')))))"
   ]
  },
  {
   "cell_type": "markdown",
   "metadata": {},
   "source": [
    "Label reviews"
   ]
  },
  {
   "cell_type": "code",
   "execution_count": 22,
   "metadata": {},
   "outputs": [
    {
     "name": "stdout",
     "output_type": "stream",
     "text": [
      "+---------+--------------------+--------------------+\n",
      "|sentiment|          reviewText|           text_nosw|\n",
      "+---------+--------------------+--------------------+\n",
      "|        0|I thought this wa...|thought great bou...|\n",
      "|        0|Really need to qu...|really need quart...|\n",
      "|        0|These are very ba...|bad figured would...|\n",
      "|        0|I read this book ...|read book coverto...|\n",
      "|        0|Somewhat obvious ...|somewhat obvious ...|\n",
      "|        0|Design is good bu...|design good size ...|\n",
      "|        0|Requested and got...|requested got app...|\n",
      "|        0|I have taken step...|taken steps retur...|\n",
      "|        0|I should have rea...|read reviews care...|\n",
      "|        0|I was able to rea...|able read 40 put ...|\n",
      "|        0|Too big and long ...|big long bullky f...|\n",
      "|        0|These are very so...|soft see through ...|\n",
      "|        0|I really like cha...|really like chai ...|\n",
      "|        0|Squeakers stopped...|squeakers stopped...|\n",
      "|        0|I've been a long ...|ive long time use...|\n",
      "|        0|I have 5 cats and...|5 cats one liked ...|\n",
      "|        0|Simon Winchester'...|simon winchesters...|\n",
      "|        0|Nice size but ben...|nice size bent pu...|\n",
      "|        0|Carters brand clo...|carters brand clo...|\n",
      "|        0|Color was totally...|color totally off...|\n",
      "+---------+--------------------+--------------------+\n",
      "only showing top 20 rows\n",
      "\n"
     ]
    }
   ],
   "source": [
    "sampled_train_reviews.show()"
   ]
  },
  {
   "cell_type": "markdown",
   "metadata": {},
   "source": [
    "# Set up helper functions"
   ]
  },
  {
   "cell_type": "code",
   "execution_count": 23,
   "metadata": {
    "application/vnd.databricks.v1+cell": {
     "inputWidgets": {},
     "nuid": "0e129008-5939-4ecc-87ba-cbe8a4916554",
     "showTitle": false,
     "title": ""
    }
   },
   "outputs": [],
   "source": [
    "sc = spark.sparkContext\n",
    "##############################################\n",
    "# Compute Ngram\n",
    "\n",
    "\n",
    "def comp_ngram(df, ngram=2, input_col=\"split_text\", output_col=\"ngram\"):\n",
    "    from pyspark.ml.feature import NGram\n",
    "\n",
    "    ngram = NGram(n=ngram, inputCol=input_col, outputCol=output_col)\n",
    "    return ngram.transform(df)\n",
    "\n",
    "\n",
    "##############################################\n",
    "# Compute TF\n",
    "\n",
    "def CompTF(gram_df, input_col=\"ngram\", output_col=\"tf\", num_features=1 << 18):\n",
    "    # now make term frequency vectors out of data frame to feed machine\n",
    "    from pyspark.ml.feature import HashingTF\n",
    "    hashingtf = HashingTF(inputCol=input_col,\n",
    "                          outputCol=output_col, numFeatures=num_features)\n",
    "    return hashingtf.transform(gram_df)\n",
    "\n",
    "\n",
    "##############################################\n",
    "# Compute IDF\n",
    "\n",
    "def CompIDF(tf, input_col=\"tf\", output_col=\"idftf\", minDocFreq=5):\n",
    "    from pyspark.ml.feature import IDF\n",
    "    tf.cache()\n",
    "\n",
    "    idf = IDF(inputCol=input_col, outputCol=output_col, minDocFreq=5)\n",
    "    idfModel = idf.fit(tf)\n",
    "    return idfModel\n",
    "\n",
    "##############################################\n",
    "# Compute TFIDF\n",
    "\n",
    "\n",
    "def CompTFIDF(tf, idf):\n",
    "    tfidf = idf.transform(tf)\n",
    "    return tfidf\n",
    "\n",
    "##############################################\n",
    "# Feature Extraction\n",
    "\n",
    "\n",
    "def Convert_to_LabeledPoint(dataset):\n",
    "    return dataset.rdd.map(lambda x: LabeledPoint(\n",
    "        float(x.sentiment), MLLibVectors.fromML(x.idftf)))\n",
    "\n",
    "\n",
    "############################################\n",
    "# Testing\n",
    "\n",
    "\n",
    "def test(model, dataset):\n",
    "    predictionAndLabel = dataset.map(\n",
    "        lambda x: (x.label, model.predict(x.features)))\n",
    "\n",
    "    return 1.0 * predictionAndLabel.filter(lambda x: x[0] == x[1]).count() / dataset.count()\n",
    "\n",
    "##############################################\n",
    "# Testing with pred prob\n",
    "\n",
    "\n",
    "def test_wpp(model, labels, features):\n",
    "    labels_and_probs = labels.zip(model.predict(features)).map(\n",
    "        lambda x: {\"actual\": float(x[0]), \"probs\": float(x[1])})\n",
    "    return labels_and_probs\n",
    "\n",
    "#################################\n",
    "# Final Test\n",
    "\n",
    "\n",
    "def test_final(model, dataset):\n",
    "    labels_and_preds = dataset.map(\n",
    "        lambda x: {\"actual\": float(x.label), \"predicted\": float(model.predict(x.features))})\n",
    "    acc = 100.0 * \\\n",
    "        ((labels_and_preds.filter(\n",
    "            lambda x: x[\"actual\"] == x[\"predicted\"]).count()) / (dataset.count()))\n",
    "    return (labels_and_preds, acc)\n",
    "\n",
    "#############################\n",
    "# tpr and fpr\n",
    "\n",
    "\n",
    "def tf(labels_and_preds):\n",
    "    true_pos = (labels_and_preds.filter(\n",
    "        lambda x: x[\"predicted\"] == 1 and x[\"actual\"] == 1).count())\n",
    "    true_neg = (labels_and_preds.filter(\n",
    "        lambda x: x[\"predicted\"] == 0 and x[\"actual\"] == 0).count())\n",
    "    false_pos = (labels_and_preds.filter(\n",
    "        lambda x: x[\"predicted\"] == 1 and x[\"actual\"] == 0).count())\n",
    "    false_neg = (labels_and_preds.filter(\n",
    "        lambda x: x[\"predicted\"] == 0 and x[\"actual\"] == 1).count())\n",
    "\n",
    "    tpr = (true_pos)/(true_pos+false_neg)\n",
    "    fpr = (false_pos)/(false_pos+true_neg)\n",
    "    return (tpr, fpr)"
   ]
  },
  {
   "cell_type": "markdown",
   "metadata": {},
   "source": [
    "# Tokenize the input"
   ]
  },
  {
   "cell_type": "code",
   "execution_count": 24,
   "metadata": {},
   "outputs": [
    {
     "data": {
      "text/plain": [
       "DataFrame[sentiment: int, reviewText: string, text_nosw: string, split_text: array<string>]"
      ]
     },
     "execution_count": 24,
     "metadata": {},
     "output_type": "execute_result"
    }
   ],
   "source": [
    "tokenizer = Tokenizer(inputCol=\"text_nosw\", outputCol=\"split_text\")\n",
    "tokenized_train = tokenizer.transform(sampled_train_reviews)\n",
    "tokenized_test = tokenizer.transform(sampled_test_reviews)\n",
    "\n",
    "# Cache tokenized dataset as it will be re-used a lot\n",
    "tokenized_train.cache()\n",
    "tokenized_test.cache()"
   ]
  },
  {
   "cell_type": "code",
   "execution_count": 25,
   "metadata": {},
   "outputs": [
    {
     "name": "stdout",
     "output_type": "stream",
     "text": [
      "+---------+--------------------+--------------------+--------------------+\n",
      "|sentiment|          reviewText|           text_nosw|          split_text|\n",
      "+---------+--------------------+--------------------+--------------------+\n",
      "|        0|I thought this wa...|thought great bou...|[thought, great, ...|\n",
      "|        0|Really need to qu...|really need quart...|[really, need, qu...|\n",
      "|        0|These are very ba...|bad figured would...|[bad, figured, wo...|\n",
      "|        0|I read this book ...|read book coverto...|[read, book, cove...|\n",
      "|        0|Somewhat obvious ...|somewhat obvious ...|[somewhat, obviou...|\n",
      "|        0|Design is good bu...|design good size ...|[design, good, si...|\n",
      "|        0|Requested and got...|requested got app...|[requested, got, ...|\n",
      "|        0|I have taken step...|taken steps retur...|[taken, steps, re...|\n",
      "|        0|I should have rea...|read reviews care...|[read, reviews, c...|\n",
      "|        0|I was able to rea...|able read 40 put ...|[able, read, 40, ...|\n",
      "|        0|Too big and long ...|big long bullky f...|[big, long, bullk...|\n",
      "|        0|These are very so...|soft see through ...|[soft, see, throu...|\n",
      "|        0|I really like cha...|really like chai ...|[really, like, ch...|\n",
      "|        0|Squeakers stopped...|squeakers stopped...|[squeakers, stopp...|\n",
      "|        0|I've been a long ...|ive long time use...|[ive, long, time,...|\n",
      "|        0|I have 5 cats and...|5 cats one liked ...|[5, cats, one, li...|\n",
      "|        0|Simon Winchester'...|simon winchesters...|[simon, wincheste...|\n",
      "|        0|Nice size but ben...|nice size bent pu...|[nice, size, bent...|\n",
      "|        0|Carters brand clo...|carters brand clo...|[carters, brand, ...|\n",
      "|        0|Color was totally...|color totally off...|[color, totally, ...|\n",
      "+---------+--------------------+--------------------+--------------------+\n",
      "only showing top 20 rows\n",
      "\n"
     ]
    }
   ],
   "source": [
    "tokenized_train.show()"
   ]
  },
  {
   "cell_type": "markdown",
   "metadata": {},
   "source": [
    "# Extract features from text"
   ]
  },
  {
   "cell_type": "markdown",
   "metadata": {},
   "source": [
    "To start we use TFIDF, or term frequency–inverse document frequency, to extract features from the text. Later we will try different methods that come with Spark"
   ]
  },
  {
   "cell_type": "code",
   "execution_count": 26,
   "metadata": {},
   "outputs": [],
   "source": [
    "def construct_tfidf_input(tokenized_train, tokenized_test, ngram=2, num_features=1 << 18):\n",
    "    # now make n-gram input\n",
    "    train_gram_df = comp_ngram(tokenized_train, ngram=ngram)\n",
    "    test_gram_df = comp_ngram(tokenized_test, ngram=ngram)\n",
    "\n",
    "    # now make term frequency vectors out of data frame to feed machine\n",
    "    train_tf_df = CompTF(train_gram_df, num_features=num_features)\n",
    "    test_tf_df = CompTF(test_gram_df, num_features=num_features)\n",
    "\n",
    "    # tf-idf\n",
    "    train_idfModel = CompIDF(train_tf_df)\n",
    "    test_idfModel = CompIDF(test_tf_df)\n",
    "\n",
    "    tfidf_train = CompTFIDF(train_tf_df, train_idfModel)\n",
    "    # Use the train idf model as there are more samples, thus probably more representative\n",
    "    tfidf_test = CompTFIDF(test_tf_df, train_idfModel)\n",
    "    return tfidf_train, tfidf_test"
   ]
  },
  {
   "cell_type": "code",
   "execution_count": 27,
   "metadata": {},
   "outputs": [],
   "source": [
    "# convert dataframe to rdd, to make a LabeledPoint tuple(label, feature, vector) for machine\n",
    "from pyspark.mllib.linalg import Vectors as MLLibVectors\n",
    "from pyspark.mllib.regression import LabeledPoint\n",
    "\n",
    "# After experimentation, ngram = 1 and num_features=5000 gave best for NB\n",
    "tfidf_train, tfidf_test = construct_tfidf_input(\n",
    "    tokenized_train, tokenized_test, ngram=1, num_features=5000)\n",
    "\n",
    "# we also need to convert ml.sparsevector mllib.sparse vector, because naive bayes only accepts mllib.sparsevector type\n",
    "train_dataset = tfidf_train.rdd.map(lambda x: LabeledPoint(\n",
    "    float(x.sentiment), MLLibVectors.fromML(x.idftf)))\n",
    "\n",
    "test_dataset = tfidf_test.rdd.map(lambda x: LabeledPoint(\n",
    "    float(x.sentiment), MLLibVectors.fromML(x.idftf)))"
   ]
  },
  {
   "cell_type": "code",
   "execution_count": 28,
   "metadata": {},
   "outputs": [
    {
     "data": {
      "text/html": [
       "<div>\n",
       "<style scoped>\n",
       "    .dataframe tbody tr th:only-of-type {\n",
       "        vertical-align: middle;\n",
       "    }\n",
       "\n",
       "    .dataframe tbody tr th {\n",
       "        vertical-align: top;\n",
       "    }\n",
       "\n",
       "    .dataframe thead th {\n",
       "        text-align: right;\n",
       "    }\n",
       "</style>\n",
       "<table border=\"1\" class=\"dataframe\">\n",
       "  <thead>\n",
       "    <tr style=\"text-align: right;\">\n",
       "      <th></th>\n",
       "      <th>sentiment</th>\n",
       "      <th>reviewText</th>\n",
       "      <th>text_nosw</th>\n",
       "      <th>split_text</th>\n",
       "      <th>ngram</th>\n",
       "      <th>tf</th>\n",
       "      <th>idftf</th>\n",
       "    </tr>\n",
       "  </thead>\n",
       "  <tbody>\n",
       "    <tr>\n",
       "      <th>0</th>\n",
       "      <td>0</td>\n",
       "      <td>I thought this was great when I bought it.  Then I used it ONCE and washed it and it literally fell apart...it cracked down the middle and is now worthless...what a waste of money.</td>\n",
       "      <td>thought great bought it  used washed literally fell apartit cracked middle worthlesswhat waste money</td>\n",
       "      <td>[thought, great, bought, it, , used, washed, literally, fell, apartit, cracked, middle, worthlesswhat, waste, money]</td>\n",
       "      <td>[thought, great, bought, it, , used, washed, literally, fell, apartit, cracked, middle, worthlesswhat, waste, money]</td>\n",
       "      <td>(0.0, 0.0, 0.0, 0.0, 0.0, 0.0, 0.0, 0.0, 0.0, 0.0, 0.0, 0.0, 0.0, 0.0, 0.0, 0.0, 0.0, 0.0, 0.0, 0.0, 0.0, 0.0, 0.0, 0.0, 0.0, 0.0, 0.0, 0.0, 0.0, 0.0, 0.0, 0.0, 0.0, 0.0, 0.0, 0.0, 0.0, 0.0, 0.0, 0.0, 0.0, 0.0, 0.0, 0.0, 0.0, 0.0, 0.0, 0.0, 0.0, 0.0, 0.0, 0.0, 0.0, 0.0, 0.0, 1.0, 0.0, 0.0, 0.0, 0.0, 0.0, 0.0, 0.0, 0.0, 0.0, 0.0, 0.0, 0.0, 0.0, 0.0, 0.0, 0.0, 0.0, 0.0, 0.0, 0.0, 0.0, 0.0, 0.0, 0.0, 0.0, 0.0, 0.0, 0.0, 0.0, 0.0, 0.0, 0.0, 0.0, 0.0, 0.0, 0.0, 0.0, 0.0, 0.0, 0.0, 0.0, 0.0, 0.0, 0.0, ...)</td>\n",
       "      <td>(0.0, 0.0, 0.0, 0.0, 0.0, 0.0, 0.0, 0.0, 0.0, 0.0, 0.0, 0.0, 0.0, 0.0, 0.0, 0.0, 0.0, 0.0, 0.0, 0.0, 0.0, 0.0, 0.0, 0.0, 0.0, 0.0, 0.0, 0.0, 0.0, 0.0, 0.0, 0.0, 0.0, 0.0, 0.0, 0.0, 0.0, 0.0, 0.0, 0.0, 0.0, 0.0, 0.0, 0.0, 0.0, 0.0, 0.0, 0.0, 0.0, 0.0, 0.0, 0.0, 0.0, 0.0, 0.0, 3.1816396176134414, 0.0, 0.0, 0.0, 0.0, 0.0, 0.0, 0.0, 0.0, 0.0, 0.0, 0.0, 0.0, 0.0, 0.0, 0.0, 0.0, 0.0, 0.0, 0.0, 0.0, 0.0, 0.0, 0.0, 0.0, 0.0, 0.0, 0.0, 0.0, 0.0, 0.0, 0.0, 0.0, 0.0, 0.0, 0.0, 0.0, 0.0, 0.0, 0.0, 0.0, 0.0, 0.0, 0.0, 0.0, ...)</td>\n",
       "    </tr>\n",
       "    <tr>\n",
       "      <th>1</th>\n",
       "      <td>0</td>\n",
       "      <td>Really need to quarter potatoes or size accordingly. Not designed for large chunks. Feels flimsy but works okay.</td>\n",
       "      <td>really need quarter potatoes size accordingly designed large chunks feels flimsy works okay</td>\n",
       "      <td>[really, need, quarter, potatoes, size, accordingly, designed, large, chunks, feels, flimsy, works, okay]</td>\n",
       "      <td>[really, need, quarter, potatoes, size, accordingly, designed, large, chunks, feels, flimsy, works, okay]</td>\n",
       "      <td>(0.0, 0.0, 0.0, 0.0, 0.0, 0.0, 0.0, 0.0, 0.0, 0.0, 0.0, 0.0, 0.0, 0.0, 0.0, 0.0, 0.0, 0.0, 0.0, 0.0, 0.0, 0.0, 0.0, 0.0, 0.0, 0.0, 0.0, 0.0, 0.0, 0.0, 0.0, 0.0, 0.0, 0.0, 0.0, 0.0, 0.0, 0.0, 0.0, 0.0, 0.0, 0.0, 0.0, 0.0, 0.0, 0.0, 0.0, 0.0, 0.0, 0.0, 0.0, 0.0, 0.0, 0.0, 0.0, 0.0, 0.0, 0.0, 0.0, 0.0, 0.0, 0.0, 0.0, 0.0, 0.0, 0.0, 0.0, 0.0, 0.0, 0.0, 0.0, 0.0, 0.0, 0.0, 0.0, 0.0, 0.0, 0.0, 0.0, 0.0, 0.0, 0.0, 0.0, 0.0, 0.0, 0.0, 0.0, 0.0, 0.0, 0.0, 0.0, 0.0, 0.0, 0.0, 0.0, 0.0, 0.0, 0.0, 0.0, 0.0, ...)</td>\n",
       "      <td>(0.0, 0.0, 0.0, 0.0, 0.0, 0.0, 0.0, 0.0, 0.0, 0.0, 0.0, 0.0, 0.0, 0.0, 0.0, 0.0, 0.0, 0.0, 0.0, 0.0, 0.0, 0.0, 0.0, 0.0, 0.0, 0.0, 0.0, 0.0, 0.0, 0.0, 0.0, 0.0, 0.0, 0.0, 0.0, 0.0, 0.0, 0.0, 0.0, 0.0, 0.0, 0.0, 0.0, 0.0, 0.0, 0.0, 0.0, 0.0, 0.0, 0.0, 0.0, 0.0, 0.0, 0.0, 0.0, 0.0, 0.0, 0.0, 0.0, 0.0, 0.0, 0.0, 0.0, 0.0, 0.0, 0.0, 0.0, 0.0, 0.0, 0.0, 0.0, 0.0, 0.0, 0.0, 0.0, 0.0, 0.0, 0.0, 0.0, 0.0, 0.0, 0.0, 0.0, 0.0, 0.0, 0.0, 0.0, 0.0, 0.0, 0.0, 0.0, 0.0, 0.0, 0.0, 0.0, 0.0, 0.0, 0.0, 0.0, 0.0, ...)</td>\n",
       "    </tr>\n",
       "    <tr>\n",
       "      <th>2</th>\n",
       "      <td>0</td>\n",
       "      <td>These are very bad. I figured that they would be iffy coming from China but these don't even fit my Stihl ms362. OK, I figured I would just swap the orings from the new caps to my originals. Lol the orings on these new caps is some type material I've never seen before. They look like a gasket cut from the sidewall of a tire. All of these caps on Amazon look &amp; cost about the same. Save yourself some trouble and get real ones from a dealer.</td>\n",
       "      <td>bad figured would iffy coming china even fit stihl ms362 ok figured would swap orings new caps originals lol orings new caps type material ive never seen before look like gasket cut sidewall tire caps amazon look  cost same save trouble get real ones dealer</td>\n",
       "      <td>[bad, figured, would, iffy, coming, china, even, fit, stihl, ms362, ok, figured, would, swap, orings, new, caps, originals, lol, orings, new, caps, type, material, ive, never, seen, before, look, like, gasket, cut, sidewall, tire, caps, amazon, look, , cost, same, save, trouble, get, real, ones, dealer]</td>\n",
       "      <td>[bad, figured, would, iffy, coming, china, even, fit, stihl, ms362, ok, figured, would, swap, orings, new, caps, originals, lol, orings, new, caps, type, material, ive, never, seen, before, look, like, gasket, cut, sidewall, tire, caps, amazon, look, , cost, same, save, trouble, get, real, ones, dealer]</td>\n",
       "      <td>(0.0, 0.0, 0.0, 0.0, 0.0, 0.0, 0.0, 0.0, 0.0, 0.0, 0.0, 0.0, 0.0, 0.0, 0.0, 0.0, 0.0, 0.0, 0.0, 0.0, 0.0, 0.0, 0.0, 0.0, 0.0, 0.0, 0.0, 0.0, 0.0, 0.0, 0.0, 0.0, 0.0, 0.0, 0.0, 0.0, 0.0, 0.0, 0.0, 0.0, 0.0, 0.0, 0.0, 0.0, 0.0, 0.0, 0.0, 0.0, 0.0, 0.0, 0.0, 0.0, 0.0, 0.0, 0.0, 0.0, 0.0, 0.0, 0.0, 0.0, 0.0, 0.0, 0.0, 0.0, 0.0, 0.0, 0.0, 0.0, 0.0, 0.0, 0.0, 0.0, 0.0, 0.0, 0.0, 0.0, 0.0, 0.0, 0.0, 0.0, 0.0, 0.0, 0.0, 0.0, 0.0, 0.0, 0.0, 0.0, 0.0, 0.0, 0.0, 0.0, 0.0, 0.0, 0.0, 0.0, 0.0, 0.0, 0.0, 0.0, ...)</td>\n",
       "      <td>(0.0, 0.0, 0.0, 0.0, 0.0, 0.0, 0.0, 0.0, 0.0, 0.0, 0.0, 0.0, 0.0, 0.0, 0.0, 0.0, 0.0, 0.0, 0.0, 0.0, 0.0, 0.0, 0.0, 0.0, 0.0, 0.0, 0.0, 0.0, 0.0, 0.0, 0.0, 0.0, 0.0, 0.0, 0.0, 0.0, 0.0, 0.0, 0.0, 0.0, 0.0, 0.0, 0.0, 0.0, 0.0, 0.0, 0.0, 0.0, 0.0, 0.0, 0.0, 0.0, 0.0, 0.0, 0.0, 0.0, 0.0, 0.0, 0.0, 0.0, 0.0, 0.0, 0.0, 0.0, 0.0, 0.0, 0.0, 0.0, 0.0, 0.0, 0.0, 0.0, 0.0, 0.0, 0.0, 0.0, 0.0, 0.0, 0.0, 0.0, 0.0, 0.0, 0.0, 0.0, 0.0, 0.0, 0.0, 0.0, 0.0, 0.0, 0.0, 0.0, 0.0, 0.0, 0.0, 0.0, 0.0, 0.0, 0.0, 0.0, ...)</td>\n",
       "    </tr>\n",
       "    <tr>\n",
       "      <th>3</th>\n",
       "      <td>0</td>\n",
       "      <td>I read this book cover-to-cover and took careful notes and I'm generously giving it 3 stars because it was the first real book to explicitly and unambigously open my eyes to the importance of tactics. For that, it must be given a couple of extra stars. As a result, I have been studying tactics with little or no focus on other aspects of chess and I feel much more comfortable at a chess board now and am making far fewer stupid mistakes.\\n\\nHowever, aside from the message that tactics are important, this book has no real content. If you want to know what is inside, here it is in a nutshell:\\n\\n  1. A couple of traditional \"vision drills\" explained.\\n  2. Effusive text touting the benefits of tactics, tactics, tactics.\\n  3. 85% fluff in the form of \"testimonials\".\\n\\nThat's it, seriously.\\n\\nIn summary, if you want to be inspired to study tactics in the way Tony Robbins would inspire you, read this pointless book. If you want to know in particular what tactical material you should st...</td>\n",
       "      <td>read book covertocover took careful notes im generously giving 3 stars first real book explicitly unambigously open eyes importance tactics that must given couple extra stars result studying tactics little focus aspects chess feel much comfortable chess board making far fewer stupid mistakeshowever aside message tactics important book real content want know inside nutshell  1 couple traditional vision drills explained  2 effusive text touting benefits tactics tactics tactics  3 85 fluff form testimonialsthats it seriouslyin summary want inspired study tactics way tony robbins would inspire you read pointless book want know particular tactical material study read book instead read jasons chess recommendations google it list amazonjasons list save time money entertain boot</td>\n",
       "      <td>[read, book, covertocover, took, careful, notes, im, generously, giving, 3, stars, first, real, book, explicitly, unambigously, open, eyes, importance, tactics, that, must, given, couple, extra, stars, result, studying, tactics, little, focus, aspects, chess, feel, much, comfortable, chess, board, making, far, fewer, stupid, mistakeshowever, aside, message, tactics, important, book, real, content, want, know, inside, nutshell, , 1, couple, traditional, vision, drills, explained, , 2, effusive, text, touting, benefits, tactics, tactics, tactics, , 3, 85, fluff, form, testimonialsthats, it, seriouslyin, summary, want, inspired, study, tactics, way, tony, robbins, would, inspire, you, read, pointless, book, want, know, particular, tactical, material, study, read, book, ...]</td>\n",
       "      <td>[read, book, covertocover, took, careful, notes, im, generously, giving, 3, stars, first, real, book, explicitly, unambigously, open, eyes, importance, tactics, that, must, given, couple, extra, stars, result, studying, tactics, little, focus, aspects, chess, feel, much, comfortable, chess, board, making, far, fewer, stupid, mistakeshowever, aside, message, tactics, important, book, real, content, want, know, inside, nutshell, , 1, couple, traditional, vision, drills, explained, , 2, effusive, text, touting, benefits, tactics, tactics, tactics, , 3, 85, fluff, form, testimonialsthats, it, seriouslyin, summary, want, inspired, study, tactics, way, tony, robbins, would, inspire, you, read, pointless, book, want, know, particular, tactical, material, study, read, book, ...]</td>\n",
       "      <td>(0.0, 0.0, 0.0, 0.0, 0.0, 0.0, 0.0, 0.0, 0.0, 0.0, 0.0, 0.0, 0.0, 0.0, 0.0, 0.0, 0.0, 0.0, 0.0, 0.0, 0.0, 0.0, 0.0, 0.0, 0.0, 0.0, 0.0, 0.0, 0.0, 0.0, 0.0, 0.0, 0.0, 0.0, 0.0, 0.0, 0.0, 0.0, 0.0, 0.0, 0.0, 0.0, 0.0, 0.0, 0.0, 0.0, 0.0, 0.0, 0.0, 0.0, 0.0, 0.0, 0.0, 0.0, 0.0, 0.0, 0.0, 0.0, 0.0, 0.0, 0.0, 0.0, 0.0, 0.0, 0.0, 0.0, 0.0, 0.0, 0.0, 0.0, 0.0, 0.0, 0.0, 0.0, 0.0, 0.0, 0.0, 0.0, 0.0, 0.0, 0.0, 0.0, 0.0, 0.0, 0.0, 0.0, 0.0, 0.0, 0.0, 0.0, 0.0, 0.0, 0.0, 0.0, 0.0, 0.0, 0.0, 0.0, 0.0, 0.0, ...)</td>\n",
       "      <td>(0.0, 0.0, 0.0, 0.0, 0.0, 0.0, 0.0, 0.0, 0.0, 0.0, 0.0, 0.0, 0.0, 0.0, 0.0, 0.0, 0.0, 0.0, 0.0, 0.0, 0.0, 0.0, 0.0, 0.0, 0.0, 0.0, 0.0, 0.0, 0.0, 0.0, 0.0, 0.0, 0.0, 0.0, 0.0, 0.0, 0.0, 0.0, 0.0, 0.0, 0.0, 0.0, 0.0, 0.0, 0.0, 0.0, 0.0, 0.0, 0.0, 0.0, 0.0, 0.0, 0.0, 0.0, 0.0, 0.0, 0.0, 0.0, 0.0, 0.0, 0.0, 0.0, 0.0, 0.0, 0.0, 0.0, 0.0, 0.0, 0.0, 0.0, 0.0, 0.0, 0.0, 0.0, 0.0, 0.0, 0.0, 0.0, 0.0, 0.0, 0.0, 0.0, 0.0, 0.0, 0.0, 0.0, 0.0, 0.0, 0.0, 0.0, 0.0, 0.0, 0.0, 0.0, 0.0, 0.0, 0.0, 0.0, 0.0, 0.0, ...)</td>\n",
       "    </tr>\n",
       "    <tr>\n",
       "      <th>4</th>\n",
       "      <td>0</td>\n",
       "      <td>Somewhat obvious to those in recovery that book is fraudulently written and Frey's experiences are exaggerated at the minimum and some just outright made up</td>\n",
       "      <td>somewhat obvious recovery book fraudulently written freys experiences exaggerated minimum outright made</td>\n",
       "      <td>[somewhat, obvious, recovery, book, fraudulently, written, freys, experiences, exaggerated, minimum, outright, made]</td>\n",
       "      <td>[somewhat, obvious, recovery, book, fraudulently, written, freys, experiences, exaggerated, minimum, outright, made]</td>\n",
       "      <td>(0.0, 0.0, 0.0, 0.0, 0.0, 0.0, 0.0, 0.0, 0.0, 0.0, 0.0, 0.0, 0.0, 0.0, 0.0, 0.0, 0.0, 0.0, 0.0, 0.0, 0.0, 0.0, 0.0, 0.0, 0.0, 0.0, 0.0, 0.0, 0.0, 0.0, 0.0, 0.0, 0.0, 0.0, 0.0, 0.0, 0.0, 0.0, 0.0, 0.0, 0.0, 0.0, 0.0, 0.0, 0.0, 0.0, 0.0, 0.0, 0.0, 0.0, 0.0, 0.0, 0.0, 0.0, 0.0, 0.0, 0.0, 0.0, 0.0, 0.0, 0.0, 0.0, 0.0, 0.0, 0.0, 0.0, 0.0, 0.0, 0.0, 0.0, 0.0, 0.0, 0.0, 0.0, 0.0, 0.0, 0.0, 0.0, 0.0, 0.0, 0.0, 0.0, 0.0, 0.0, 0.0, 0.0, 0.0, 0.0, 0.0, 0.0, 0.0, 0.0, 0.0, 0.0, 0.0, 0.0, 0.0, 0.0, 0.0, 0.0, ...)</td>\n",
       "      <td>(0.0, 0.0, 0.0, 0.0, 0.0, 0.0, 0.0, 0.0, 0.0, 0.0, 0.0, 0.0, 0.0, 0.0, 0.0, 0.0, 0.0, 0.0, 0.0, 0.0, 0.0, 0.0, 0.0, 0.0, 0.0, 0.0, 0.0, 0.0, 0.0, 0.0, 0.0, 0.0, 0.0, 0.0, 0.0, 0.0, 0.0, 0.0, 0.0, 0.0, 0.0, 0.0, 0.0, 0.0, 0.0, 0.0, 0.0, 0.0, 0.0, 0.0, 0.0, 0.0, 0.0, 0.0, 0.0, 0.0, 0.0, 0.0, 0.0, 0.0, 0.0, 0.0, 0.0, 0.0, 0.0, 0.0, 0.0, 0.0, 0.0, 0.0, 0.0, 0.0, 0.0, 0.0, 0.0, 0.0, 0.0, 0.0, 0.0, 0.0, 0.0, 0.0, 0.0, 0.0, 0.0, 0.0, 0.0, 0.0, 0.0, 0.0, 0.0, 0.0, 0.0, 0.0, 0.0, 0.0, 0.0, 0.0, 0.0, 0.0, ...)</td>\n",
       "    </tr>\n",
       "    <tr>\n",
       "      <th>...</th>\n",
       "      <td>...</td>\n",
       "      <td>...</td>\n",
       "      <td>...</td>\n",
       "      <td>...</td>\n",
       "      <td>...</td>\n",
       "      <td>...</td>\n",
       "      <td>...</td>\n",
       "    </tr>\n",
       "    <tr>\n",
       "      <th>128229</th>\n",
       "      <td>1</td>\n",
       "      <td>Works good, easy to use, good instruction manual.</td>\n",
       "      <td>works good easy use good instruction manual</td>\n",
       "      <td>[works, good, easy, use, good, instruction, manual]</td>\n",
       "      <td>[works, good, easy, use, good, instruction, manual]</td>\n",
       "      <td>(0.0, 0.0, 0.0, 0.0, 0.0, 0.0, 0.0, 0.0, 0.0, 0.0, 0.0, 0.0, 0.0, 0.0, 0.0, 0.0, 0.0, 0.0, 0.0, 0.0, 0.0, 0.0, 0.0, 0.0, 0.0, 0.0, 0.0, 0.0, 0.0, 0.0, 0.0, 0.0, 0.0, 0.0, 0.0, 0.0, 0.0, 0.0, 0.0, 0.0, 0.0, 0.0, 0.0, 0.0, 0.0, 0.0, 0.0, 0.0, 0.0, 0.0, 0.0, 0.0, 0.0, 0.0, 0.0, 0.0, 0.0, 0.0, 0.0, 0.0, 0.0, 0.0, 0.0, 0.0, 0.0, 0.0, 0.0, 0.0, 0.0, 0.0, 0.0, 0.0, 0.0, 0.0, 0.0, 0.0, 0.0, 0.0, 0.0, 0.0, 0.0, 0.0, 0.0, 0.0, 0.0, 0.0, 0.0, 0.0, 0.0, 0.0, 0.0, 0.0, 0.0, 0.0, 0.0, 0.0, 0.0, 0.0, 0.0, 0.0, ...)</td>\n",
       "      <td>(0.0, 0.0, 0.0, 0.0, 0.0, 0.0, 0.0, 0.0, 0.0, 0.0, 0.0, 0.0, 0.0, 0.0, 0.0, 0.0, 0.0, 0.0, 0.0, 0.0, 0.0, 0.0, 0.0, 0.0, 0.0, 0.0, 0.0, 0.0, 0.0, 0.0, 0.0, 0.0, 0.0, 0.0, 0.0, 0.0, 0.0, 0.0, 0.0, 0.0, 0.0, 0.0, 0.0, 0.0, 0.0, 0.0, 0.0, 0.0, 0.0, 0.0, 0.0, 0.0, 0.0, 0.0, 0.0, 0.0, 0.0, 0.0, 0.0, 0.0, 0.0, 0.0, 0.0, 0.0, 0.0, 0.0, 0.0, 0.0, 0.0, 0.0, 0.0, 0.0, 0.0, 0.0, 0.0, 0.0, 0.0, 0.0, 0.0, 0.0, 0.0, 0.0, 0.0, 0.0, 0.0, 0.0, 0.0, 0.0, 0.0, 0.0, 0.0, 0.0, 0.0, 0.0, 0.0, 0.0, 0.0, 0.0, 0.0, 0.0, ...)</td>\n",
       "    </tr>\n",
       "    <tr>\n",
       "      <th>128230</th>\n",
       "      <td>1</td>\n",
       "      <td>Great knife for the right person. To big for what I  needed and I found that I prefer a handle instead of the paranoid wrap. I gave it to a friend who was over the moon happy to receive it.</td>\n",
       "      <td>great knife right person big  needed found prefer handle instead paranoid wrap gave friend moon happy receive it</td>\n",
       "      <td>[great, knife, right, person, big, , needed, found, prefer, handle, instead, paranoid, wrap, gave, friend, moon, happy, receive, it]</td>\n",
       "      <td>[great, knife, right, person, big, , needed, found, prefer, handle, instead, paranoid, wrap, gave, friend, moon, happy, receive, it]</td>\n",
       "      <td>(0.0, 0.0, 0.0, 0.0, 0.0, 0.0, 0.0, 0.0, 0.0, 0.0, 0.0, 0.0, 0.0, 0.0, 0.0, 0.0, 0.0, 0.0, 0.0, 0.0, 0.0, 0.0, 0.0, 0.0, 0.0, 0.0, 0.0, 0.0, 0.0, 0.0, 0.0, 0.0, 0.0, 0.0, 0.0, 0.0, 0.0, 0.0, 0.0, 0.0, 0.0, 0.0, 0.0, 0.0, 0.0, 0.0, 0.0, 0.0, 0.0, 0.0, 0.0, 0.0, 0.0, 0.0, 0.0, 0.0, 0.0, 0.0, 0.0, 0.0, 0.0, 0.0, 0.0, 0.0, 0.0, 0.0, 0.0, 0.0, 0.0, 0.0, 0.0, 0.0, 0.0, 0.0, 0.0, 0.0, 0.0, 0.0, 0.0, 0.0, 0.0, 0.0, 0.0, 0.0, 0.0, 0.0, 0.0, 0.0, 0.0, 0.0, 0.0, 0.0, 0.0, 0.0, 0.0, 0.0, 0.0, 0.0, 0.0, 0.0, ...)</td>\n",
       "      <td>(0.0, 0.0, 0.0, 0.0, 0.0, 0.0, 0.0, 0.0, 0.0, 0.0, 0.0, 0.0, 0.0, 0.0, 0.0, 0.0, 0.0, 0.0, 0.0, 0.0, 0.0, 0.0, 0.0, 0.0, 0.0, 0.0, 0.0, 0.0, 0.0, 0.0, 0.0, 0.0, 0.0, 0.0, 0.0, 0.0, 0.0, 0.0, 0.0, 0.0, 0.0, 0.0, 0.0, 0.0, 0.0, 0.0, 0.0, 0.0, 0.0, 0.0, 0.0, 0.0, 0.0, 0.0, 0.0, 0.0, 0.0, 0.0, 0.0, 0.0, 0.0, 0.0, 0.0, 0.0, 0.0, 0.0, 0.0, 0.0, 0.0, 0.0, 0.0, 0.0, 0.0, 0.0, 0.0, 0.0, 0.0, 0.0, 0.0, 0.0, 0.0, 0.0, 0.0, 0.0, 0.0, 0.0, 0.0, 0.0, 0.0, 0.0, 0.0, 0.0, 0.0, 0.0, 0.0, 0.0, 0.0, 0.0, 0.0, 0.0, ...)</td>\n",
       "    </tr>\n",
       "    <tr>\n",
       "      <th>128231</th>\n",
       "      <td>1</td>\n",
       "      <td>Saw this highly reviewed on America's Test Kitchen and other places...gave in and got one. Wish I bought it YEARS ago! Very durable and well made. We use it for berries and small items as well as lettuce. No regrets on its size. The larger model would't hold much more for us...just right for family meals and either way (mini or reg size) in my opinion = multiple batches for larger holiday gatherings, Very well made and so good I'm thinking of buying a second one just to have as a backup. A+++</td>\n",
       "      <td>saw highly reviewed americas test kitchen placesgave got one wish bought years ago durable well made use berries small items well lettuce regrets size larger model wouldt hold much usjust right family meals either way mini reg size opinion  multiple batches larger holiday gatherings well made good im thinking buying second one backup a</td>\n",
       "      <td>[saw, highly, reviewed, americas, test, kitchen, placesgave, got, one, wish, bought, years, ago, durable, well, made, use, berries, small, items, well, lettuce, regrets, size, larger, model, wouldt, hold, much, usjust, right, family, meals, either, way, mini, reg, size, opinion, , multiple, batches, larger, holiday, gatherings, well, made, good, im, thinking, buying, second, one, backup, a]</td>\n",
       "      <td>[saw, highly, reviewed, americas, test, kitchen, placesgave, got, one, wish, bought, years, ago, durable, well, made, use, berries, small, items, well, lettuce, regrets, size, larger, model, wouldt, hold, much, usjust, right, family, meals, either, way, mini, reg, size, opinion, , multiple, batches, larger, holiday, gatherings, well, made, good, im, thinking, buying, second, one, backup, a]</td>\n",
       "      <td>(0.0, 0.0, 0.0, 0.0, 0.0, 0.0, 0.0, 0.0, 0.0, 0.0, 0.0, 0.0, 0.0, 0.0, 0.0, 0.0, 0.0, 0.0, 0.0, 0.0, 0.0, 0.0, 0.0, 0.0, 0.0, 0.0, 0.0, 0.0, 0.0, 0.0, 0.0, 0.0, 0.0, 0.0, 0.0, 0.0, 0.0, 0.0, 0.0, 0.0, 0.0, 0.0, 0.0, 0.0, 0.0, 0.0, 0.0, 0.0, 0.0, 0.0, 0.0, 0.0, 0.0, 0.0, 0.0, 0.0, 0.0, 0.0, 0.0, 0.0, 0.0, 0.0, 0.0, 0.0, 0.0, 0.0, 0.0, 0.0, 0.0, 0.0, 0.0, 0.0, 0.0, 0.0, 0.0, 0.0, 0.0, 0.0, 0.0, 0.0, 0.0, 0.0, 0.0, 0.0, 0.0, 0.0, 0.0, 0.0, 0.0, 0.0, 0.0, 0.0, 0.0, 0.0, 0.0, 0.0, 0.0, 0.0, 0.0, 0.0, ...)</td>\n",
       "      <td>(0.0, 0.0, 0.0, 0.0, 0.0, 0.0, 0.0, 0.0, 0.0, 0.0, 0.0, 0.0, 0.0, 0.0, 0.0, 0.0, 0.0, 0.0, 0.0, 0.0, 0.0, 0.0, 0.0, 0.0, 0.0, 0.0, 0.0, 0.0, 0.0, 0.0, 0.0, 0.0, 0.0, 0.0, 0.0, 0.0, 0.0, 0.0, 0.0, 0.0, 0.0, 0.0, 0.0, 0.0, 0.0, 0.0, 0.0, 0.0, 0.0, 0.0, 0.0, 0.0, 0.0, 0.0, 0.0, 0.0, 0.0, 0.0, 0.0, 0.0, 0.0, 0.0, 0.0, 0.0, 0.0, 0.0, 0.0, 0.0, 0.0, 0.0, 0.0, 0.0, 0.0, 0.0, 0.0, 0.0, 0.0, 0.0, 0.0, 0.0, 0.0, 0.0, 0.0, 0.0, 0.0, 0.0, 0.0, 0.0, 0.0, 0.0, 0.0, 0.0, 0.0, 0.0, 0.0, 0.0, 0.0, 0.0, 0.0, 0.0, ...)</td>\n",
       "    </tr>\n",
       "    <tr>\n",
       "      <th>128232</th>\n",
       "      <td>1</td>\n",
       "      <td>This book is the allegedly true story of Sybil, whose name was changed for the story to protect her privacy.  Almost from the time she was born, Sybil was subjected to horrific physical, emotional, and sexual abuse at the hands of her schizophrenic mother.  As a toddler, Sybil learned that she would be severely punished for getting angry, or for crying, or for exhibiting a wide variety of other normal emotions.  In order to cope with her situation, her mind broke apart and comparmentalized her personality, eventually creating fifteen other \"selves.\"  Each separate personality was assigned a specific role in Sybil's life, such as Vicky, the outgoing and worldly one who could be at ease in social situations, Peggy Lou, who got angry and smashed things, and Mike and Sid, who handled construction and handyman duties.\\n\\nAlthough the created personalities were aware of each other and able to communicate with each other to some degree, Sybil was completely unaware that they existed.  Wha...</td>\n",
       "      <td>book allegedly true story sybil whose name changed story protect privacy  almost time born sybil subjected horrific physical emotional sexual abuse hands schizophrenic mother  toddler sybil learned would severely punished getting angry crying exhibiting wide variety normal emotions  order cope situation mind broke apart comparmentalized personality eventually creating fifteen selves  separate personality assigned specific role sybils life vicky outgoing worldly one could ease social situations peggy lou got angry smashed things mike sid handled construction handyman dutiesalthough created personalities aware able communicate degree sybil completely unaware existed  knew many things remember childhood seemingly ordinary objects situations power fill absolute terror long periods time shed somehow blacked out  dramatic example lost time sybils beloved grandmothers funeral sybil third grade  blacked returned fifthgrade classroom  peggy lou personality controlled body yearthis novel cov...</td>\n",
       "      <td>[book, allegedly, true, story, sybil, whose, name, changed, story, protect, privacy, , almost, time, born, sybil, subjected, horrific, physical, emotional, sexual, abuse, hands, schizophrenic, mother, , toddler, sybil, learned, would, severely, punished, getting, angry, crying, exhibiting, wide, variety, normal, emotions, , order, cope, situation, mind, broke, apart, comparmentalized, personality, eventually, creating, fifteen, selves, , separate, personality, assigned, specific, role, sybils, life, vicky, outgoing, worldly, one, could, ease, social, situations, peggy, lou, got, angry, smashed, things, mike, sid, handled, construction, handyman, dutiesalthough, created, personalities, aware, able, communicate, degree, sybil, completely, unaware, existed, , knew, many, things, remember, childhood, seemingly, ordinary, objects, ...]</td>\n",
       "      <td>[book, allegedly, true, story, sybil, whose, name, changed, story, protect, privacy, , almost, time, born, sybil, subjected, horrific, physical, emotional, sexual, abuse, hands, schizophrenic, mother, , toddler, sybil, learned, would, severely, punished, getting, angry, crying, exhibiting, wide, variety, normal, emotions, , order, cope, situation, mind, broke, apart, comparmentalized, personality, eventually, creating, fifteen, selves, , separate, personality, assigned, specific, role, sybils, life, vicky, outgoing, worldly, one, could, ease, social, situations, peggy, lou, got, angry, smashed, things, mike, sid, handled, construction, handyman, dutiesalthough, created, personalities, aware, able, communicate, degree, sybil, completely, unaware, existed, , knew, many, things, remember, childhood, seemingly, ordinary, objects, ...]</td>\n",
       "      <td>(0.0, 0.0, 0.0, 0.0, 0.0, 0.0, 0.0, 0.0, 0.0, 0.0, 0.0, 0.0, 0.0, 0.0, 0.0, 1.0, 0.0, 0.0, 0.0, 0.0, 3.0, 0.0, 0.0, 0.0, 0.0, 0.0, 0.0, 0.0, 0.0, 0.0, 0.0, 0.0, 0.0, 0.0, 0.0, 0.0, 0.0, 0.0, 0.0, 0.0, 0.0, 0.0, 0.0, 0.0, 0.0, 0.0, 0.0, 0.0, 0.0, 0.0, 0.0, 0.0, 1.0, 0.0, 0.0, 1.0, 0.0, 0.0, 0.0, 0.0, 0.0, 0.0, 0.0, 0.0, 0.0, 0.0, 0.0, 0.0, 0.0, 0.0, 0.0, 0.0, 0.0, 0.0, 0.0, 0.0, 0.0, 0.0, 0.0, 0.0, 0.0, 0.0, 0.0, 0.0, 0.0, 0.0, 0.0, 0.0, 0.0, 0.0, 0.0, 0.0, 1.0, 0.0, 0.0, 0.0, 0.0, 0.0, 0.0, 0.0, ...)</td>\n",
       "      <td>(0.0, 0.0, 0.0, 0.0, 0.0, 0.0, 0.0, 0.0, 0.0, 0.0, 0.0, 0.0, 0.0, 0.0, 0.0, 3.9867640304629233, 0.0, 0.0, 0.0, 0.0, 14.339055359916166, 0.0, 0.0, 0.0, 0.0, 0.0, 0.0, 0.0, 0.0, 0.0, 0.0, 0.0, 0.0, 0.0, 0.0, 0.0, 0.0, 0.0, 0.0, 0.0, 0.0, 0.0, 0.0, 0.0, 0.0, 0.0, 0.0, 0.0, 0.0, 0.0, 0.0, 0.0, 4.15622743231351, 0.0, 0.0, 3.1816396176134414, 0.0, 0.0, 0.0, 0.0, 0.0, 0.0, 0.0, 0.0, 0.0, 0.0, 0.0, 0.0, 0.0, 0.0, 0.0, 0.0, 0.0, 0.0, 0.0, 0.0, 0.0, 0.0, 0.0, 0.0, 0.0, 0.0, 0.0, 0.0, 0.0, 0.0, 0.0, 0.0, 0.0, 0.0, 0.0, 0.0, 4.958114539520106, 0.0, 0.0, 0.0, 0.0, 0.0, 0.0, 0.0, ...)</td>\n",
       "    </tr>\n",
       "    <tr>\n",
       "      <th>128233</th>\n",
       "      <td>1</td>\n",
       "      <td>I've been looking for this for my 8 year old grandson. He will be so thrilled! Thank you!</td>\n",
       "      <td>ive looking 8 year old grandson thrilled thank you</td>\n",
       "      <td>[ive, looking, 8, year, old, grandson, thrilled, thank, you]</td>\n",
       "      <td>[ive, looking, 8, year, old, grandson, thrilled, thank, you]</td>\n",
       "      <td>(0.0, 0.0, 0.0, 0.0, 0.0, 0.0, 0.0, 0.0, 0.0, 0.0, 0.0, 0.0, 0.0, 0.0, 0.0, 0.0, 0.0, 0.0, 0.0, 0.0, 0.0, 0.0, 0.0, 0.0, 0.0, 0.0, 0.0, 0.0, 0.0, 0.0, 0.0, 0.0, 0.0, 0.0, 0.0, 0.0, 0.0, 0.0, 0.0, 0.0, 0.0, 0.0, 0.0, 0.0, 0.0, 0.0, 0.0, 0.0, 0.0, 0.0, 0.0, 0.0, 1.0, 0.0, 0.0, 0.0, 0.0, 0.0, 0.0, 0.0, 0.0, 0.0, 0.0, 0.0, 0.0, 0.0, 0.0, 0.0, 0.0, 0.0, 0.0, 0.0, 0.0, 0.0, 0.0, 0.0, 0.0, 0.0, 0.0, 0.0, 0.0, 0.0, 0.0, 0.0, 0.0, 0.0, 0.0, 0.0, 0.0, 0.0, 0.0, 0.0, 0.0, 0.0, 0.0, 0.0, 0.0, 0.0, 0.0, 0.0, ...)</td>\n",
       "      <td>(0.0, 0.0, 0.0, 0.0, 0.0, 0.0, 0.0, 0.0, 0.0, 0.0, 0.0, 0.0, 0.0, 0.0, 0.0, 0.0, 0.0, 0.0, 0.0, 0.0, 0.0, 0.0, 0.0, 0.0, 0.0, 0.0, 0.0, 0.0, 0.0, 0.0, 0.0, 0.0, 0.0, 0.0, 0.0, 0.0, 0.0, 0.0, 0.0, 0.0, 0.0, 0.0, 0.0, 0.0, 0.0, 0.0, 0.0, 0.0, 0.0, 0.0, 0.0, 0.0, 4.15622743231351, 0.0, 0.0, 0.0, 0.0, 0.0, 0.0, 0.0, 0.0, 0.0, 0.0, 0.0, 0.0, 0.0, 0.0, 0.0, 0.0, 0.0, 0.0, 0.0, 0.0, 0.0, 0.0, 0.0, 0.0, 0.0, 0.0, 0.0, 0.0, 0.0, 0.0, 0.0, 0.0, 0.0, 0.0, 0.0, 0.0, 0.0, 0.0, 0.0, 0.0, 0.0, 0.0, 0.0, 0.0, 0.0, 0.0, 0.0, ...)</td>\n",
       "    </tr>\n",
       "  </tbody>\n",
       "</table>\n",
       "<p>128234 rows × 7 columns</p>\n",
       "</div>"
      ],
      "text/plain": [
       "        sentiment  \\\n",
       "0               0   \n",
       "1               0   \n",
       "2               0   \n",
       "3               0   \n",
       "4               0   \n",
       "...           ...   \n",
       "128229          1   \n",
       "128230          1   \n",
       "128231          1   \n",
       "128232          1   \n",
       "128233          1   \n",
       "\n",
       "                                                                                                                                                                                                                                                                                                                                                                                                                                                                                                                                                                                                                                                                                                                                                                                                                                                                                                                                                                                                                                     reviewText  \\\n",
       "0                                                                                                                                                                                                                                                                                                                                                                                                                                                                                                                                                                                                                                                                                                                                                                                                                                                          I thought this was great when I bought it.  Then I used it ONCE and washed it and it literally fell apart...it cracked down the middle and is now worthless...what a waste of money.   \n",
       "1                                                                                                                                                                                                                                                                                                                                                                                                                                                                                                                                                                                                                                                                                                                                                                                                                                                                                                                              Really need to quarter potatoes or size accordingly. Not designed for large chunks. Feels flimsy but works okay.   \n",
       "2                                                                                                                                                                                                                                                                                                                                                                                                                                                                                                                                                                                    These are very bad. I figured that they would be iffy coming from China but these don't even fit my Stihl ms362. OK, I figured I would just swap the orings from the new caps to my originals. Lol the orings on these new caps is some type material I've never seen before. They look like a gasket cut from the sidewall of a tire. All of these caps on Amazon look & cost about the same. Save yourself some trouble and get real ones from a dealer.   \n",
       "3       I read this book cover-to-cover and took careful notes and I'm generously giving it 3 stars because it was the first real book to explicitly and unambigously open my eyes to the importance of tactics. For that, it must be given a couple of extra stars. As a result, I have been studying tactics with little or no focus on other aspects of chess and I feel much more comfortable at a chess board now and am making far fewer stupid mistakes.\\n\\nHowever, aside from the message that tactics are important, this book has no real content. If you want to know what is inside, here it is in a nutshell:\\n\\n  1. A couple of traditional \"vision drills\" explained.\\n  2. Effusive text touting the benefits of tactics, tactics, tactics.\\n  3. 85% fluff in the form of \"testimonials\".\\n\\nThat's it, seriously.\\n\\nIn summary, if you want to be inspired to study tactics in the way Tony Robbins would inspire you, read this pointless book. If you want to know in particular what tactical material you should st...   \n",
       "4                                                                                                                                                                                                                                                                                                                                                                                                                                                                                                                                                                                                                                                                                                                                                                                                                                                                                  Somewhat obvious to those in recovery that book is fraudulently written and Frey's experiences are exaggerated at the minimum and some just outright made up   \n",
       "...                                                                                                                                                                                                                                                                                                                                                                                                                                                                                                                                                                                                                                                                                                                                                                                                                                                                                                                                                                                                                                         ...   \n",
       "128229                                                                                                                                                                                                                                                                                                                                                                                                                                                                                                                                                                                                                                                                                                                                                                                                                                                                                                                                                                                        Works good, easy to use, good instruction manual.   \n",
       "128230                                                                                                                                                                                                                                                                                                                                                                                                                                                                                                                                                                                                                                                                                                                                                                                                                                            Great knife for the right person. To big for what I  needed and I found that I prefer a handle instead of the paranoid wrap. I gave it to a friend who was over the moon happy to receive it.   \n",
       "128231                                                                                                                                                                                                                                                                                                                                                                                                                                                                                                                        Saw this highly reviewed on America's Test Kitchen and other places...gave in and got one. Wish I bought it YEARS ago! Very durable and well made. We use it for berries and small items as well as lettuce. No regrets on its size. The larger model would't hold much more for us...just right for family meals and either way (mini or reg size) in my opinion = multiple batches for larger holiday gatherings, Very well made and so good I'm thinking of buying a second one just to have as a backup. A+++   \n",
       "128232  This book is the allegedly true story of Sybil, whose name was changed for the story to protect her privacy.  Almost from the time she was born, Sybil was subjected to horrific physical, emotional, and sexual abuse at the hands of her schizophrenic mother.  As a toddler, Sybil learned that she would be severely punished for getting angry, or for crying, or for exhibiting a wide variety of other normal emotions.  In order to cope with her situation, her mind broke apart and comparmentalized her personality, eventually creating fifteen other \"selves.\"  Each separate personality was assigned a specific role in Sybil's life, such as Vicky, the outgoing and worldly one who could be at ease in social situations, Peggy Lou, who got angry and smashed things, and Mike and Sid, who handled construction and handyman duties.\\n\\nAlthough the created personalities were aware of each other and able to communicate with each other to some degree, Sybil was completely unaware that they existed.  Wha...   \n",
       "128233                                                                                                                                                                                                                                                                                                                                                                                                                                                                                                                                                                                                                                                                                                                                                                                                                                                                                                                                                I've been looking for this for my 8 year old grandson. He will be so thrilled! Thank you!   \n",
       "\n",
       "                                                                                                                                                                                                                                                                                                                                                                                                                                                                                                                                                                                                                                                                                                                                                                                                                                                                                                                                                                                                                                      text_nosw  \\\n",
       "0                                                                                                                                                                                                                                                                                                                                                                                                                                                                                                                                                                                                                                                                                                                                                                                                                                                                                                                                         thought great bought it  used washed literally fell apartit cracked middle worthlesswhat waste money    \n",
       "1                                                                                                                                                                                                                                                                                                                                                                                                                                                                                                                                                                                                                                                                                                                                                                                                                                                                                                                                                  really need quarter potatoes size accordingly designed large chunks feels flimsy works okay    \n",
       "2                                                                                                                                                                                                                                                                                                                                                                                                                                                                                                                                                                                                                                                                                                                                                                            bad figured would iffy coming china even fit stihl ms362 ok figured would swap orings new caps originals lol orings new caps type material ive never seen before look like gasket cut sidewall tire caps amazon look  cost same save trouble get real ones dealer    \n",
       "3                                                                                                                                                                                                                                read book covertocover took careful notes im generously giving 3 stars first real book explicitly unambigously open eyes importance tactics that must given couple extra stars result studying tactics little focus aspects chess feel much comfortable chess board making far fewer stupid mistakeshowever aside message tactics important book real content want know inside nutshell  1 couple traditional vision drills explained  2 effusive text touting benefits tactics tactics tactics  3 85 fluff form testimonialsthats it seriouslyin summary want inspired study tactics way tony robbins would inspire you read pointless book want know particular tactical material study read book instead read jasons chess recommendations google it list amazonjasons list save time money entertain boot    \n",
       "4                                                                                                                                                                                                                                                                                                                                                                                                                                                                                                                                                                                                                                                                                                                                                                                                                                                                                                                                      somewhat obvious recovery book fraudulently written freys experiences exaggerated minimum outright made    \n",
       "...                                                                                                                                                                                                                                                                                                                                                                                                                                                                                                                                                                                                                                                                                                                                                                                                                                                                                                                                                                                                                                         ...   \n",
       "128229                                                                                                                                                                                                                                                                                                                                                                                                                                                                                                                                                                                                                                                                                                                                                                                                                                                                                                                                                                                             works good easy use good instruction manual    \n",
       "128230                                                                                                                                                                                                                                                                                                                                                                                                                                                                                                                                                                                                                                                                                                                                                                                                                                                                                                                        great knife right person big  needed found prefer handle instead paranoid wrap gave friend moon happy receive it    \n",
       "128231                                                                                                                                                                                                                                                                                                                                                                                                                                                                                                                                                                                                                                                                                       saw highly reviewed americas test kitchen placesgave got one wish bought years ago durable well made use berries small items well lettuce regrets size larger model wouldt hold much usjust right family meals either way mini reg size opinion  multiple batches larger holiday gatherings well made good im thinking buying second one backup a    \n",
       "128232  book allegedly true story sybil whose name changed story protect privacy  almost time born sybil subjected horrific physical emotional sexual abuse hands schizophrenic mother  toddler sybil learned would severely punished getting angry crying exhibiting wide variety normal emotions  order cope situation mind broke apart comparmentalized personality eventually creating fifteen selves  separate personality assigned specific role sybils life vicky outgoing worldly one could ease social situations peggy lou got angry smashed things mike sid handled construction handyman dutiesalthough created personalities aware able communicate degree sybil completely unaware existed  knew many things remember childhood seemingly ordinary objects situations power fill absolute terror long periods time shed somehow blacked out  dramatic example lost time sybils beloved grandmothers funeral sybil third grade  blacked returned fifthgrade classroom  peggy lou personality controlled body yearthis novel cov...   \n",
       "128233                                                                                                                                                                                                                                                                                                                                                                                                                                                                                                                                                                                                                                                                                                                                                                                                                                                                                                                                                                                      ive looking 8 year old grandson thrilled thank you    \n",
       "\n",
       "                                                                                                                                                                                                                                                                                                                                                                                                                                                                                                                                                                                                                                                                                                                                                                                                                                                                        split_text  \\\n",
       "0                                                                                                                                                                                                                                                                                                                                                                                                                                                                                                                                                                                                                                                                                                                                                             [thought, great, bought, it, , used, washed, literally, fell, apartit, cracked, middle, worthlesswhat, waste, money]   \n",
       "1                                                                                                                                                                                                                                                                                                                                                                                                                                                                                                                                                                                                                                                                                                                                                                        [really, need, quarter, potatoes, size, accordingly, designed, large, chunks, feels, flimsy, works, okay]   \n",
       "2                                                                                                                                                                                                                                                                                                                                                                                                                                                                                                                                                                 [bad, figured, would, iffy, coming, china, even, fit, stihl, ms362, ok, figured, would, swap, orings, new, caps, originals, lol, orings, new, caps, type, material, ive, never, seen, before, look, like, gasket, cut, sidewall, tire, caps, amazon, look, , cost, same, save, trouble, get, real, ones, dealer]   \n",
       "3                                                                    [read, book, covertocover, took, careful, notes, im, generously, giving, 3, stars, first, real, book, explicitly, unambigously, open, eyes, importance, tactics, that, must, given, couple, extra, stars, result, studying, tactics, little, focus, aspects, chess, feel, much, comfortable, chess, board, making, far, fewer, stupid, mistakeshowever, aside, message, tactics, important, book, real, content, want, know, inside, nutshell, , 1, couple, traditional, vision, drills, explained, , 2, effusive, text, touting, benefits, tactics, tactics, tactics, , 3, 85, fluff, form, testimonialsthats, it, seriouslyin, summary, want, inspired, study, tactics, way, tony, robbins, would, inspire, you, read, pointless, book, want, know, particular, tactical, material, study, read, book, ...]   \n",
       "4                                                                                                                                                                                                                                                                                                                                                                                                                                                                                                                                                                                                                                                                                                                                                             [somewhat, obvious, recovery, book, fraudulently, written, freys, experiences, exaggerated, minimum, outright, made]   \n",
       "...                                                                                                                                                                                                                                                                                                                                                                                                                                                                                                                                                                                                                                                                                                                                                                                                                                                                            ...   \n",
       "128229                                                                                                                                                                                                                                                                                                                                                                                                                                                                                                                                                                                                                                                                                                                                                                                                                         [works, good, easy, use, good, instruction, manual]   \n",
       "128230                                                                                                                                                                                                                                                                                                                                                                                                                                                                                                                                                                                                                                                                                                                                        [great, knife, right, person, big, , needed, found, prefer, handle, instead, paranoid, wrap, gave, friend, moon, happy, receive, it]   \n",
       "128231                                                                                                                                                                                                                                                                                                                                                                                                                                                                   [saw, highly, reviewed, americas, test, kitchen, placesgave, got, one, wish, bought, years, ago, durable, well, made, use, berries, small, items, well, lettuce, regrets, size, larger, model, wouldt, hold, much, usjust, right, family, meals, either, way, mini, reg, size, opinion, , multiple, batches, larger, holiday, gatherings, well, made, good, im, thinking, buying, second, one, backup, a]   \n",
       "128232  [book, allegedly, true, story, sybil, whose, name, changed, story, protect, privacy, , almost, time, born, sybil, subjected, horrific, physical, emotional, sexual, abuse, hands, schizophrenic, mother, , toddler, sybil, learned, would, severely, punished, getting, angry, crying, exhibiting, wide, variety, normal, emotions, , order, cope, situation, mind, broke, apart, comparmentalized, personality, eventually, creating, fifteen, selves, , separate, personality, assigned, specific, role, sybils, life, vicky, outgoing, worldly, one, could, ease, social, situations, peggy, lou, got, angry, smashed, things, mike, sid, handled, construction, handyman, dutiesalthough, created, personalities, aware, able, communicate, degree, sybil, completely, unaware, existed, , knew, many, things, remember, childhood, seemingly, ordinary, objects, ...]   \n",
       "128233                                                                                                                                                                                                                                                                                                                                                                                                                                                                                                                                                                                                                                                                                                                                                                                                                [ive, looking, 8, year, old, grandson, thrilled, thank, you]   \n",
       "\n",
       "                                                                                                                                                                                                                                                                                                                                                                                                                                                                                                                                                                                                                                                                                                                                                                                                                                                                             ngram  \\\n",
       "0                                                                                                                                                                                                                                                                                                                                                                                                                                                                                                                                                                                                                                                                                                                                                             [thought, great, bought, it, , used, washed, literally, fell, apartit, cracked, middle, worthlesswhat, waste, money]   \n",
       "1                                                                                                                                                                                                                                                                                                                                                                                                                                                                                                                                                                                                                                                                                                                                                                        [really, need, quarter, potatoes, size, accordingly, designed, large, chunks, feels, flimsy, works, okay]   \n",
       "2                                                                                                                                                                                                                                                                                                                                                                                                                                                                                                                                                                 [bad, figured, would, iffy, coming, china, even, fit, stihl, ms362, ok, figured, would, swap, orings, new, caps, originals, lol, orings, new, caps, type, material, ive, never, seen, before, look, like, gasket, cut, sidewall, tire, caps, amazon, look, , cost, same, save, trouble, get, real, ones, dealer]   \n",
       "3                                                                    [read, book, covertocover, took, careful, notes, im, generously, giving, 3, stars, first, real, book, explicitly, unambigously, open, eyes, importance, tactics, that, must, given, couple, extra, stars, result, studying, tactics, little, focus, aspects, chess, feel, much, comfortable, chess, board, making, far, fewer, stupid, mistakeshowever, aside, message, tactics, important, book, real, content, want, know, inside, nutshell, , 1, couple, traditional, vision, drills, explained, , 2, effusive, text, touting, benefits, tactics, tactics, tactics, , 3, 85, fluff, form, testimonialsthats, it, seriouslyin, summary, want, inspired, study, tactics, way, tony, robbins, would, inspire, you, read, pointless, book, want, know, particular, tactical, material, study, read, book, ...]   \n",
       "4                                                                                                                                                                                                                                                                                                                                                                                                                                                                                                                                                                                                                                                                                                                                                             [somewhat, obvious, recovery, book, fraudulently, written, freys, experiences, exaggerated, minimum, outright, made]   \n",
       "...                                                                                                                                                                                                                                                                                                                                                                                                                                                                                                                                                                                                                                                                                                                                                                                                                                                                            ...   \n",
       "128229                                                                                                                                                                                                                                                                                                                                                                                                                                                                                                                                                                                                                                                                                                                                                                                                                         [works, good, easy, use, good, instruction, manual]   \n",
       "128230                                                                                                                                                                                                                                                                                                                                                                                                                                                                                                                                                                                                                                                                                                                                        [great, knife, right, person, big, , needed, found, prefer, handle, instead, paranoid, wrap, gave, friend, moon, happy, receive, it]   \n",
       "128231                                                                                                                                                                                                                                                                                                                                                                                                                                                                   [saw, highly, reviewed, americas, test, kitchen, placesgave, got, one, wish, bought, years, ago, durable, well, made, use, berries, small, items, well, lettuce, regrets, size, larger, model, wouldt, hold, much, usjust, right, family, meals, either, way, mini, reg, size, opinion, , multiple, batches, larger, holiday, gatherings, well, made, good, im, thinking, buying, second, one, backup, a]   \n",
       "128232  [book, allegedly, true, story, sybil, whose, name, changed, story, protect, privacy, , almost, time, born, sybil, subjected, horrific, physical, emotional, sexual, abuse, hands, schizophrenic, mother, , toddler, sybil, learned, would, severely, punished, getting, angry, crying, exhibiting, wide, variety, normal, emotions, , order, cope, situation, mind, broke, apart, comparmentalized, personality, eventually, creating, fifteen, selves, , separate, personality, assigned, specific, role, sybils, life, vicky, outgoing, worldly, one, could, ease, social, situations, peggy, lou, got, angry, smashed, things, mike, sid, handled, construction, handyman, dutiesalthough, created, personalities, aware, able, communicate, degree, sybil, completely, unaware, existed, , knew, many, things, remember, childhood, seemingly, ordinary, objects, ...]   \n",
       "128233                                                                                                                                                                                                                                                                                                                                                                                                                                                                                                                                                                                                                                                                                                                                                                                                                [ive, looking, 8, year, old, grandson, thrilled, thank, you]   \n",
       "\n",
       "                                                                                                                                                                                                                                                                                                                                                                                                                                                                                                                               tf  \\\n",
       "0       (0.0, 0.0, 0.0, 0.0, 0.0, 0.0, 0.0, 0.0, 0.0, 0.0, 0.0, 0.0, 0.0, 0.0, 0.0, 0.0, 0.0, 0.0, 0.0, 0.0, 0.0, 0.0, 0.0, 0.0, 0.0, 0.0, 0.0, 0.0, 0.0, 0.0, 0.0, 0.0, 0.0, 0.0, 0.0, 0.0, 0.0, 0.0, 0.0, 0.0, 0.0, 0.0, 0.0, 0.0, 0.0, 0.0, 0.0, 0.0, 0.0, 0.0, 0.0, 0.0, 0.0, 0.0, 0.0, 1.0, 0.0, 0.0, 0.0, 0.0, 0.0, 0.0, 0.0, 0.0, 0.0, 0.0, 0.0, 0.0, 0.0, 0.0, 0.0, 0.0, 0.0, 0.0, 0.0, 0.0, 0.0, 0.0, 0.0, 0.0, 0.0, 0.0, 0.0, 0.0, 0.0, 0.0, 0.0, 0.0, 0.0, 0.0, 0.0, 0.0, 0.0, 0.0, 0.0, 0.0, 0.0, 0.0, 0.0, 0.0, ...)   \n",
       "1       (0.0, 0.0, 0.0, 0.0, 0.0, 0.0, 0.0, 0.0, 0.0, 0.0, 0.0, 0.0, 0.0, 0.0, 0.0, 0.0, 0.0, 0.0, 0.0, 0.0, 0.0, 0.0, 0.0, 0.0, 0.0, 0.0, 0.0, 0.0, 0.0, 0.0, 0.0, 0.0, 0.0, 0.0, 0.0, 0.0, 0.0, 0.0, 0.0, 0.0, 0.0, 0.0, 0.0, 0.0, 0.0, 0.0, 0.0, 0.0, 0.0, 0.0, 0.0, 0.0, 0.0, 0.0, 0.0, 0.0, 0.0, 0.0, 0.0, 0.0, 0.0, 0.0, 0.0, 0.0, 0.0, 0.0, 0.0, 0.0, 0.0, 0.0, 0.0, 0.0, 0.0, 0.0, 0.0, 0.0, 0.0, 0.0, 0.0, 0.0, 0.0, 0.0, 0.0, 0.0, 0.0, 0.0, 0.0, 0.0, 0.0, 0.0, 0.0, 0.0, 0.0, 0.0, 0.0, 0.0, 0.0, 0.0, 0.0, 0.0, ...)   \n",
       "2       (0.0, 0.0, 0.0, 0.0, 0.0, 0.0, 0.0, 0.0, 0.0, 0.0, 0.0, 0.0, 0.0, 0.0, 0.0, 0.0, 0.0, 0.0, 0.0, 0.0, 0.0, 0.0, 0.0, 0.0, 0.0, 0.0, 0.0, 0.0, 0.0, 0.0, 0.0, 0.0, 0.0, 0.0, 0.0, 0.0, 0.0, 0.0, 0.0, 0.0, 0.0, 0.0, 0.0, 0.0, 0.0, 0.0, 0.0, 0.0, 0.0, 0.0, 0.0, 0.0, 0.0, 0.0, 0.0, 0.0, 0.0, 0.0, 0.0, 0.0, 0.0, 0.0, 0.0, 0.0, 0.0, 0.0, 0.0, 0.0, 0.0, 0.0, 0.0, 0.0, 0.0, 0.0, 0.0, 0.0, 0.0, 0.0, 0.0, 0.0, 0.0, 0.0, 0.0, 0.0, 0.0, 0.0, 0.0, 0.0, 0.0, 0.0, 0.0, 0.0, 0.0, 0.0, 0.0, 0.0, 0.0, 0.0, 0.0, 0.0, ...)   \n",
       "3       (0.0, 0.0, 0.0, 0.0, 0.0, 0.0, 0.0, 0.0, 0.0, 0.0, 0.0, 0.0, 0.0, 0.0, 0.0, 0.0, 0.0, 0.0, 0.0, 0.0, 0.0, 0.0, 0.0, 0.0, 0.0, 0.0, 0.0, 0.0, 0.0, 0.0, 0.0, 0.0, 0.0, 0.0, 0.0, 0.0, 0.0, 0.0, 0.0, 0.0, 0.0, 0.0, 0.0, 0.0, 0.0, 0.0, 0.0, 0.0, 0.0, 0.0, 0.0, 0.0, 0.0, 0.0, 0.0, 0.0, 0.0, 0.0, 0.0, 0.0, 0.0, 0.0, 0.0, 0.0, 0.0, 0.0, 0.0, 0.0, 0.0, 0.0, 0.0, 0.0, 0.0, 0.0, 0.0, 0.0, 0.0, 0.0, 0.0, 0.0, 0.0, 0.0, 0.0, 0.0, 0.0, 0.0, 0.0, 0.0, 0.0, 0.0, 0.0, 0.0, 0.0, 0.0, 0.0, 0.0, 0.0, 0.0, 0.0, 0.0, ...)   \n",
       "4       (0.0, 0.0, 0.0, 0.0, 0.0, 0.0, 0.0, 0.0, 0.0, 0.0, 0.0, 0.0, 0.0, 0.0, 0.0, 0.0, 0.0, 0.0, 0.0, 0.0, 0.0, 0.0, 0.0, 0.0, 0.0, 0.0, 0.0, 0.0, 0.0, 0.0, 0.0, 0.0, 0.0, 0.0, 0.0, 0.0, 0.0, 0.0, 0.0, 0.0, 0.0, 0.0, 0.0, 0.0, 0.0, 0.0, 0.0, 0.0, 0.0, 0.0, 0.0, 0.0, 0.0, 0.0, 0.0, 0.0, 0.0, 0.0, 0.0, 0.0, 0.0, 0.0, 0.0, 0.0, 0.0, 0.0, 0.0, 0.0, 0.0, 0.0, 0.0, 0.0, 0.0, 0.0, 0.0, 0.0, 0.0, 0.0, 0.0, 0.0, 0.0, 0.0, 0.0, 0.0, 0.0, 0.0, 0.0, 0.0, 0.0, 0.0, 0.0, 0.0, 0.0, 0.0, 0.0, 0.0, 0.0, 0.0, 0.0, 0.0, ...)   \n",
       "...                                                                                                                                                                                                                                                                                                                                                                                                                                                                                                                           ...   \n",
       "128229  (0.0, 0.0, 0.0, 0.0, 0.0, 0.0, 0.0, 0.0, 0.0, 0.0, 0.0, 0.0, 0.0, 0.0, 0.0, 0.0, 0.0, 0.0, 0.0, 0.0, 0.0, 0.0, 0.0, 0.0, 0.0, 0.0, 0.0, 0.0, 0.0, 0.0, 0.0, 0.0, 0.0, 0.0, 0.0, 0.0, 0.0, 0.0, 0.0, 0.0, 0.0, 0.0, 0.0, 0.0, 0.0, 0.0, 0.0, 0.0, 0.0, 0.0, 0.0, 0.0, 0.0, 0.0, 0.0, 0.0, 0.0, 0.0, 0.0, 0.0, 0.0, 0.0, 0.0, 0.0, 0.0, 0.0, 0.0, 0.0, 0.0, 0.0, 0.0, 0.0, 0.0, 0.0, 0.0, 0.0, 0.0, 0.0, 0.0, 0.0, 0.0, 0.0, 0.0, 0.0, 0.0, 0.0, 0.0, 0.0, 0.0, 0.0, 0.0, 0.0, 0.0, 0.0, 0.0, 0.0, 0.0, 0.0, 0.0, 0.0, ...)   \n",
       "128230  (0.0, 0.0, 0.0, 0.0, 0.0, 0.0, 0.0, 0.0, 0.0, 0.0, 0.0, 0.0, 0.0, 0.0, 0.0, 0.0, 0.0, 0.0, 0.0, 0.0, 0.0, 0.0, 0.0, 0.0, 0.0, 0.0, 0.0, 0.0, 0.0, 0.0, 0.0, 0.0, 0.0, 0.0, 0.0, 0.0, 0.0, 0.0, 0.0, 0.0, 0.0, 0.0, 0.0, 0.0, 0.0, 0.0, 0.0, 0.0, 0.0, 0.0, 0.0, 0.0, 0.0, 0.0, 0.0, 0.0, 0.0, 0.0, 0.0, 0.0, 0.0, 0.0, 0.0, 0.0, 0.0, 0.0, 0.0, 0.0, 0.0, 0.0, 0.0, 0.0, 0.0, 0.0, 0.0, 0.0, 0.0, 0.0, 0.0, 0.0, 0.0, 0.0, 0.0, 0.0, 0.0, 0.0, 0.0, 0.0, 0.0, 0.0, 0.0, 0.0, 0.0, 0.0, 0.0, 0.0, 0.0, 0.0, 0.0, 0.0, ...)   \n",
       "128231  (0.0, 0.0, 0.0, 0.0, 0.0, 0.0, 0.0, 0.0, 0.0, 0.0, 0.0, 0.0, 0.0, 0.0, 0.0, 0.0, 0.0, 0.0, 0.0, 0.0, 0.0, 0.0, 0.0, 0.0, 0.0, 0.0, 0.0, 0.0, 0.0, 0.0, 0.0, 0.0, 0.0, 0.0, 0.0, 0.0, 0.0, 0.0, 0.0, 0.0, 0.0, 0.0, 0.0, 0.0, 0.0, 0.0, 0.0, 0.0, 0.0, 0.0, 0.0, 0.0, 0.0, 0.0, 0.0, 0.0, 0.0, 0.0, 0.0, 0.0, 0.0, 0.0, 0.0, 0.0, 0.0, 0.0, 0.0, 0.0, 0.0, 0.0, 0.0, 0.0, 0.0, 0.0, 0.0, 0.0, 0.0, 0.0, 0.0, 0.0, 0.0, 0.0, 0.0, 0.0, 0.0, 0.0, 0.0, 0.0, 0.0, 0.0, 0.0, 0.0, 0.0, 0.0, 0.0, 0.0, 0.0, 0.0, 0.0, 0.0, ...)   \n",
       "128232  (0.0, 0.0, 0.0, 0.0, 0.0, 0.0, 0.0, 0.0, 0.0, 0.0, 0.0, 0.0, 0.0, 0.0, 0.0, 1.0, 0.0, 0.0, 0.0, 0.0, 3.0, 0.0, 0.0, 0.0, 0.0, 0.0, 0.0, 0.0, 0.0, 0.0, 0.0, 0.0, 0.0, 0.0, 0.0, 0.0, 0.0, 0.0, 0.0, 0.0, 0.0, 0.0, 0.0, 0.0, 0.0, 0.0, 0.0, 0.0, 0.0, 0.0, 0.0, 0.0, 1.0, 0.0, 0.0, 1.0, 0.0, 0.0, 0.0, 0.0, 0.0, 0.0, 0.0, 0.0, 0.0, 0.0, 0.0, 0.0, 0.0, 0.0, 0.0, 0.0, 0.0, 0.0, 0.0, 0.0, 0.0, 0.0, 0.0, 0.0, 0.0, 0.0, 0.0, 0.0, 0.0, 0.0, 0.0, 0.0, 0.0, 0.0, 0.0, 0.0, 1.0, 0.0, 0.0, 0.0, 0.0, 0.0, 0.0, 0.0, ...)   \n",
       "128233  (0.0, 0.0, 0.0, 0.0, 0.0, 0.0, 0.0, 0.0, 0.0, 0.0, 0.0, 0.0, 0.0, 0.0, 0.0, 0.0, 0.0, 0.0, 0.0, 0.0, 0.0, 0.0, 0.0, 0.0, 0.0, 0.0, 0.0, 0.0, 0.0, 0.0, 0.0, 0.0, 0.0, 0.0, 0.0, 0.0, 0.0, 0.0, 0.0, 0.0, 0.0, 0.0, 0.0, 0.0, 0.0, 0.0, 0.0, 0.0, 0.0, 0.0, 0.0, 0.0, 1.0, 0.0, 0.0, 0.0, 0.0, 0.0, 0.0, 0.0, 0.0, 0.0, 0.0, 0.0, 0.0, 0.0, 0.0, 0.0, 0.0, 0.0, 0.0, 0.0, 0.0, 0.0, 0.0, 0.0, 0.0, 0.0, 0.0, 0.0, 0.0, 0.0, 0.0, 0.0, 0.0, 0.0, 0.0, 0.0, 0.0, 0.0, 0.0, 0.0, 0.0, 0.0, 0.0, 0.0, 0.0, 0.0, 0.0, 0.0, ...)   \n",
       "\n",
       "                                                                                                                                                                                                                                                                                                                                                                                                                                                                                                                                                                                                    idftf  \n",
       "0                                                                (0.0, 0.0, 0.0, 0.0, 0.0, 0.0, 0.0, 0.0, 0.0, 0.0, 0.0, 0.0, 0.0, 0.0, 0.0, 0.0, 0.0, 0.0, 0.0, 0.0, 0.0, 0.0, 0.0, 0.0, 0.0, 0.0, 0.0, 0.0, 0.0, 0.0, 0.0, 0.0, 0.0, 0.0, 0.0, 0.0, 0.0, 0.0, 0.0, 0.0, 0.0, 0.0, 0.0, 0.0, 0.0, 0.0, 0.0, 0.0, 0.0, 0.0, 0.0, 0.0, 0.0, 0.0, 0.0, 3.1816396176134414, 0.0, 0.0, 0.0, 0.0, 0.0, 0.0, 0.0, 0.0, 0.0, 0.0, 0.0, 0.0, 0.0, 0.0, 0.0, 0.0, 0.0, 0.0, 0.0, 0.0, 0.0, 0.0, 0.0, 0.0, 0.0, 0.0, 0.0, 0.0, 0.0, 0.0, 0.0, 0.0, 0.0, 0.0, 0.0, 0.0, 0.0, 0.0, 0.0, 0.0, 0.0, 0.0, 0.0, 0.0, ...)  \n",
       "1                                                                               (0.0, 0.0, 0.0, 0.0, 0.0, 0.0, 0.0, 0.0, 0.0, 0.0, 0.0, 0.0, 0.0, 0.0, 0.0, 0.0, 0.0, 0.0, 0.0, 0.0, 0.0, 0.0, 0.0, 0.0, 0.0, 0.0, 0.0, 0.0, 0.0, 0.0, 0.0, 0.0, 0.0, 0.0, 0.0, 0.0, 0.0, 0.0, 0.0, 0.0, 0.0, 0.0, 0.0, 0.0, 0.0, 0.0, 0.0, 0.0, 0.0, 0.0, 0.0, 0.0, 0.0, 0.0, 0.0, 0.0, 0.0, 0.0, 0.0, 0.0, 0.0, 0.0, 0.0, 0.0, 0.0, 0.0, 0.0, 0.0, 0.0, 0.0, 0.0, 0.0, 0.0, 0.0, 0.0, 0.0, 0.0, 0.0, 0.0, 0.0, 0.0, 0.0, 0.0, 0.0, 0.0, 0.0, 0.0, 0.0, 0.0, 0.0, 0.0, 0.0, 0.0, 0.0, 0.0, 0.0, 0.0, 0.0, 0.0, 0.0, ...)  \n",
       "2                                                                               (0.0, 0.0, 0.0, 0.0, 0.0, 0.0, 0.0, 0.0, 0.0, 0.0, 0.0, 0.0, 0.0, 0.0, 0.0, 0.0, 0.0, 0.0, 0.0, 0.0, 0.0, 0.0, 0.0, 0.0, 0.0, 0.0, 0.0, 0.0, 0.0, 0.0, 0.0, 0.0, 0.0, 0.0, 0.0, 0.0, 0.0, 0.0, 0.0, 0.0, 0.0, 0.0, 0.0, 0.0, 0.0, 0.0, 0.0, 0.0, 0.0, 0.0, 0.0, 0.0, 0.0, 0.0, 0.0, 0.0, 0.0, 0.0, 0.0, 0.0, 0.0, 0.0, 0.0, 0.0, 0.0, 0.0, 0.0, 0.0, 0.0, 0.0, 0.0, 0.0, 0.0, 0.0, 0.0, 0.0, 0.0, 0.0, 0.0, 0.0, 0.0, 0.0, 0.0, 0.0, 0.0, 0.0, 0.0, 0.0, 0.0, 0.0, 0.0, 0.0, 0.0, 0.0, 0.0, 0.0, 0.0, 0.0, 0.0, 0.0, ...)  \n",
       "3                                                                               (0.0, 0.0, 0.0, 0.0, 0.0, 0.0, 0.0, 0.0, 0.0, 0.0, 0.0, 0.0, 0.0, 0.0, 0.0, 0.0, 0.0, 0.0, 0.0, 0.0, 0.0, 0.0, 0.0, 0.0, 0.0, 0.0, 0.0, 0.0, 0.0, 0.0, 0.0, 0.0, 0.0, 0.0, 0.0, 0.0, 0.0, 0.0, 0.0, 0.0, 0.0, 0.0, 0.0, 0.0, 0.0, 0.0, 0.0, 0.0, 0.0, 0.0, 0.0, 0.0, 0.0, 0.0, 0.0, 0.0, 0.0, 0.0, 0.0, 0.0, 0.0, 0.0, 0.0, 0.0, 0.0, 0.0, 0.0, 0.0, 0.0, 0.0, 0.0, 0.0, 0.0, 0.0, 0.0, 0.0, 0.0, 0.0, 0.0, 0.0, 0.0, 0.0, 0.0, 0.0, 0.0, 0.0, 0.0, 0.0, 0.0, 0.0, 0.0, 0.0, 0.0, 0.0, 0.0, 0.0, 0.0, 0.0, 0.0, 0.0, ...)  \n",
       "4                                                                               (0.0, 0.0, 0.0, 0.0, 0.0, 0.0, 0.0, 0.0, 0.0, 0.0, 0.0, 0.0, 0.0, 0.0, 0.0, 0.0, 0.0, 0.0, 0.0, 0.0, 0.0, 0.0, 0.0, 0.0, 0.0, 0.0, 0.0, 0.0, 0.0, 0.0, 0.0, 0.0, 0.0, 0.0, 0.0, 0.0, 0.0, 0.0, 0.0, 0.0, 0.0, 0.0, 0.0, 0.0, 0.0, 0.0, 0.0, 0.0, 0.0, 0.0, 0.0, 0.0, 0.0, 0.0, 0.0, 0.0, 0.0, 0.0, 0.0, 0.0, 0.0, 0.0, 0.0, 0.0, 0.0, 0.0, 0.0, 0.0, 0.0, 0.0, 0.0, 0.0, 0.0, 0.0, 0.0, 0.0, 0.0, 0.0, 0.0, 0.0, 0.0, 0.0, 0.0, 0.0, 0.0, 0.0, 0.0, 0.0, 0.0, 0.0, 0.0, 0.0, 0.0, 0.0, 0.0, 0.0, 0.0, 0.0, 0.0, 0.0, ...)  \n",
       "...                                                                                                                                                                                                                                                                                                                                                                                                                                                                                                                                                                                                   ...  \n",
       "128229                                                                          (0.0, 0.0, 0.0, 0.0, 0.0, 0.0, 0.0, 0.0, 0.0, 0.0, 0.0, 0.0, 0.0, 0.0, 0.0, 0.0, 0.0, 0.0, 0.0, 0.0, 0.0, 0.0, 0.0, 0.0, 0.0, 0.0, 0.0, 0.0, 0.0, 0.0, 0.0, 0.0, 0.0, 0.0, 0.0, 0.0, 0.0, 0.0, 0.0, 0.0, 0.0, 0.0, 0.0, 0.0, 0.0, 0.0, 0.0, 0.0, 0.0, 0.0, 0.0, 0.0, 0.0, 0.0, 0.0, 0.0, 0.0, 0.0, 0.0, 0.0, 0.0, 0.0, 0.0, 0.0, 0.0, 0.0, 0.0, 0.0, 0.0, 0.0, 0.0, 0.0, 0.0, 0.0, 0.0, 0.0, 0.0, 0.0, 0.0, 0.0, 0.0, 0.0, 0.0, 0.0, 0.0, 0.0, 0.0, 0.0, 0.0, 0.0, 0.0, 0.0, 0.0, 0.0, 0.0, 0.0, 0.0, 0.0, 0.0, 0.0, ...)  \n",
       "128230                                                                          (0.0, 0.0, 0.0, 0.0, 0.0, 0.0, 0.0, 0.0, 0.0, 0.0, 0.0, 0.0, 0.0, 0.0, 0.0, 0.0, 0.0, 0.0, 0.0, 0.0, 0.0, 0.0, 0.0, 0.0, 0.0, 0.0, 0.0, 0.0, 0.0, 0.0, 0.0, 0.0, 0.0, 0.0, 0.0, 0.0, 0.0, 0.0, 0.0, 0.0, 0.0, 0.0, 0.0, 0.0, 0.0, 0.0, 0.0, 0.0, 0.0, 0.0, 0.0, 0.0, 0.0, 0.0, 0.0, 0.0, 0.0, 0.0, 0.0, 0.0, 0.0, 0.0, 0.0, 0.0, 0.0, 0.0, 0.0, 0.0, 0.0, 0.0, 0.0, 0.0, 0.0, 0.0, 0.0, 0.0, 0.0, 0.0, 0.0, 0.0, 0.0, 0.0, 0.0, 0.0, 0.0, 0.0, 0.0, 0.0, 0.0, 0.0, 0.0, 0.0, 0.0, 0.0, 0.0, 0.0, 0.0, 0.0, 0.0, 0.0, ...)  \n",
       "128231                                                                          (0.0, 0.0, 0.0, 0.0, 0.0, 0.0, 0.0, 0.0, 0.0, 0.0, 0.0, 0.0, 0.0, 0.0, 0.0, 0.0, 0.0, 0.0, 0.0, 0.0, 0.0, 0.0, 0.0, 0.0, 0.0, 0.0, 0.0, 0.0, 0.0, 0.0, 0.0, 0.0, 0.0, 0.0, 0.0, 0.0, 0.0, 0.0, 0.0, 0.0, 0.0, 0.0, 0.0, 0.0, 0.0, 0.0, 0.0, 0.0, 0.0, 0.0, 0.0, 0.0, 0.0, 0.0, 0.0, 0.0, 0.0, 0.0, 0.0, 0.0, 0.0, 0.0, 0.0, 0.0, 0.0, 0.0, 0.0, 0.0, 0.0, 0.0, 0.0, 0.0, 0.0, 0.0, 0.0, 0.0, 0.0, 0.0, 0.0, 0.0, 0.0, 0.0, 0.0, 0.0, 0.0, 0.0, 0.0, 0.0, 0.0, 0.0, 0.0, 0.0, 0.0, 0.0, 0.0, 0.0, 0.0, 0.0, 0.0, 0.0, ...)  \n",
       "128232  (0.0, 0.0, 0.0, 0.0, 0.0, 0.0, 0.0, 0.0, 0.0, 0.0, 0.0, 0.0, 0.0, 0.0, 0.0, 3.9867640304629233, 0.0, 0.0, 0.0, 0.0, 14.339055359916166, 0.0, 0.0, 0.0, 0.0, 0.0, 0.0, 0.0, 0.0, 0.0, 0.0, 0.0, 0.0, 0.0, 0.0, 0.0, 0.0, 0.0, 0.0, 0.0, 0.0, 0.0, 0.0, 0.0, 0.0, 0.0, 0.0, 0.0, 0.0, 0.0, 0.0, 0.0, 4.15622743231351, 0.0, 0.0, 3.1816396176134414, 0.0, 0.0, 0.0, 0.0, 0.0, 0.0, 0.0, 0.0, 0.0, 0.0, 0.0, 0.0, 0.0, 0.0, 0.0, 0.0, 0.0, 0.0, 0.0, 0.0, 0.0, 0.0, 0.0, 0.0, 0.0, 0.0, 0.0, 0.0, 0.0, 0.0, 0.0, 0.0, 0.0, 0.0, 0.0, 0.0, 4.958114539520106, 0.0, 0.0, 0.0, 0.0, 0.0, 0.0, 0.0, ...)  \n",
       "128233                                                             (0.0, 0.0, 0.0, 0.0, 0.0, 0.0, 0.0, 0.0, 0.0, 0.0, 0.0, 0.0, 0.0, 0.0, 0.0, 0.0, 0.0, 0.0, 0.0, 0.0, 0.0, 0.0, 0.0, 0.0, 0.0, 0.0, 0.0, 0.0, 0.0, 0.0, 0.0, 0.0, 0.0, 0.0, 0.0, 0.0, 0.0, 0.0, 0.0, 0.0, 0.0, 0.0, 0.0, 0.0, 0.0, 0.0, 0.0, 0.0, 0.0, 0.0, 0.0, 0.0, 4.15622743231351, 0.0, 0.0, 0.0, 0.0, 0.0, 0.0, 0.0, 0.0, 0.0, 0.0, 0.0, 0.0, 0.0, 0.0, 0.0, 0.0, 0.0, 0.0, 0.0, 0.0, 0.0, 0.0, 0.0, 0.0, 0.0, 0.0, 0.0, 0.0, 0.0, 0.0, 0.0, 0.0, 0.0, 0.0, 0.0, 0.0, 0.0, 0.0, 0.0, 0.0, 0.0, 0.0, 0.0, 0.0, 0.0, 0.0, 0.0, ...)  \n",
       "\n",
       "[128234 rows x 7 columns]"
      ]
     },
     "execution_count": 28,
     "metadata": {},
     "output_type": "execute_result"
    }
   ],
   "source": [
    "tfidf_train.toPandas()"
   ]
  },
  {
   "cell_type": "markdown",
   "metadata": {
    "application/vnd.databricks.v1+cell": {
     "inputWidgets": {},
     "nuid": "c19d1abe-b5c3-411f-abb8-8ae5366bdee0",
     "showTitle": false,
     "title": ""
    }
   },
   "source": [
    "# Naive Bayes Classification"
   ]
  },
  {
   "cell_type": "code",
   "execution_count": 29,
   "metadata": {},
   "outputs": [
    {
     "name": "stdout",
     "output_type": "stream",
     "text": [
      "************************TRAINING*******************************\n",
      "*****************************TRAINING COMPLETE************************************\n"
     ]
    }
   ],
   "source": [
    "# create Model\n",
    "# now train and save the model\n",
    "from pyspark.mllib.classification import NaiveBayes\n",
    "import shutil\n",
    "\n",
    "# training\n",
    "print(\"************************TRAINING*******************************\")\n",
    "model_train_NB = NaiveBayes.train(train_dataset)\n",
    "print(\"*****************************TRAINING COMPLETE************************************\")"
   ]
  },
  {
   "cell_type": "code",
   "execution_count": 30,
   "metadata": {
    "application/vnd.databricks.v1+cell": {
     "inputWidgets": {},
     "nuid": "8557882f-1ee9-443d-a9c0-7dd0f58160a5",
     "showTitle": false,
     "title": ""
    }
   },
   "outputs": [
    {
     "name": "stdout",
     "output_type": "stream",
     "text": [
      "TRAINING ACCURACY:-\n",
      "\n",
      "The accuracy for the training dataset tested on the training data itself using NB is 0.7872795046555515 %\n",
      "\n",
      "\n"
     ]
    }
   ],
   "source": [
    "# testing NB with training data\n",
    "\n",
    "accuracy_NB_train = test(model_train_NB, train_dataset)\n",
    "\n",
    "print(\"TRAINING ACCURACY:-\\n\")\n",
    "\n",
    "print(\"The accuracy for the training dataset tested on the training data itself using NB is\",\n",
    "      accuracy_NB_train, \"%\")\n",
    "\n",
    "print(\"\\n\")"
   ]
  },
  {
   "cell_type": "code",
   "execution_count": 31,
   "metadata": {},
   "outputs": [
    {
     "name": "stdout",
     "output_type": "stream",
     "text": [
      "TESTING ACCURACY:-\n",
      "\n",
      "The accuracy for the testing dataset using NB is 77.43218469378243 %\n",
      "\n",
      "\n"
     ]
    }
   ],
   "source": [
    "labels_and_preds_NB, accu_NB = test_final(model_train_NB, test_dataset)\n",
    "\n",
    "\n",
    "print(\"TESTING ACCURACY:-\\n\")\n",
    "\n",
    "print(\"The accuracy for the testing dataset using NB is\", accu_NB, \"%\")\n",
    "\n",
    "print(\"\\n\")"
   ]
  },
  {
   "cell_type": "markdown",
   "metadata": {},
   "source": [
    "Let's look at what the model predicted vs actual label"
   ]
  },
  {
   "cell_type": "code",
   "execution_count": 32,
   "metadata": {},
   "outputs": [
    {
     "name": "stderr",
     "output_type": "stream",
     "text": [
      "/home/ubuntu/venv/lib/python3.6/site-packages/pyspark/sql/session.py:401: UserWarning: Using RDD of dict to inferSchema is deprecated. Use pyspark.sql.Row instead\n",
      "  warnings.warn(\"Using RDD of dict to inferSchema is deprecated. \"\n"
     ]
    },
    {
     "data": {
      "text/html": [
       "<div>\n",
       "<style scoped>\n",
       "    .dataframe tbody tr th:only-of-type {\n",
       "        vertical-align: middle;\n",
       "    }\n",
       "\n",
       "    .dataframe tbody tr th {\n",
       "        vertical-align: top;\n",
       "    }\n",
       "\n",
       "    .dataframe thead th {\n",
       "        text-align: right;\n",
       "    }\n",
       "</style>\n",
       "<table border=\"1\" class=\"dataframe\">\n",
       "  <thead>\n",
       "    <tr style=\"text-align: right;\">\n",
       "      <th></th>\n",
       "      <th>actual</th>\n",
       "      <th>predicted</th>\n",
       "      <th>sentiment</th>\n",
       "      <th>reviewText</th>\n",
       "      <th>text_nosw</th>\n",
       "      <th>split_text</th>\n",
       "    </tr>\n",
       "  </thead>\n",
       "  <tbody>\n",
       "    <tr>\n",
       "      <th>0</th>\n",
       "      <td>0.00</td>\n",
       "      <td>0.00</td>\n",
       "      <td>0</td>\n",
       "      <td>It seems like if you bump these at all, the suction comes loose, so don't rummage around in your fridge!  Not a very secure lid.</td>\n",
       "      <td>seems like bump all suction comes loose rummage around fridge  secure lid</td>\n",
       "      <td>[seems, like, bump, all, suction, comes, loose, rummage, around, fridge, , secure, lid]</td>\n",
       "    </tr>\n",
       "    <tr>\n",
       "      <th>1</th>\n",
       "      <td>0.00</td>\n",
       "      <td>0.00</td>\n",
       "      <td>0</td>\n",
       "      <td>Iv tried everything to get this thing to link with my truck just don't work</td>\n",
       "      <td>iv tried everything get thing link truck work</td>\n",
       "      <td>[iv, tried, everything, get, thing, link, truck, work]</td>\n",
       "    </tr>\n",
       "    <tr>\n",
       "      <th>2</th>\n",
       "      <td>0.00</td>\n",
       "      <td>0.00</td>\n",
       "      <td>0</td>\n",
       "      <td>A lot of the reviews say that it smells really bad. While I do smell the smell, it wasn't all that bad to me and it goes away after a while. I don't know if I just have a bad sense of smell or what but it wasn't a big deal to me. It works well as a case, but my only problem is that there aren't a lot of good pockets for games. There are two smaller pockets, but I can't put all my games in there because they could fall out (which would make me really sad!). It keeps my 2ds safe though which is the most important part. For the price is was pretty decent.</td>\n",
       "      <td>lot reviews say smells really bad smell smell bad goes away while know bad sense smell big deal me works well case problem lot good pockets games two smaller pockets cant put games could fall which would make really sad keeps 2ds safe though important part price pretty decent</td>\n",
       "      <td>[lot, reviews, say, smells, really, bad, smell, smell, bad, goes, away, while, know, bad, sense, smell, big, deal, me, works, well, case, problem, lot, good, pockets, games, two, smaller, pockets, cant, put, games, could, fall, which, would, make, really, sad, keeps, 2ds, safe, though, important, part, price, pretty, decent]</td>\n",
       "    </tr>\n",
       "    <tr>\n",
       "      <th>3</th>\n",
       "      <td>0.00</td>\n",
       "      <td>0.00</td>\n",
       "      <td>0</td>\n",
       "      <td>This pencil sucks... It reminds me of a pencil or pen you get when you buy a cheap purse or day planner, no eraser.. For the price of this pen you can buy a set of 3 really nice pencils. Awkward to hold and it is slippery, I took a file and scratched it up just to keep it from slipping.</td>\n",
       "      <td>pencil sucks reminds pencil pen get buy cheap purse day planner eraser price pen buy set 3 really nice pencils awkward hold slippery took file scratched keep slipping</td>\n",
       "      <td>[pencil, sucks, reminds, pencil, pen, get, buy, cheap, purse, day, planner, eraser, price, pen, buy, set, 3, really, nice, pencils, awkward, hold, slippery, took, file, scratched, keep, slipping]</td>\n",
       "    </tr>\n",
       "    <tr>\n",
       "      <th>4</th>\n",
       "      <td>0.00</td>\n",
       "      <td>1.00</td>\n",
       "      <td>0</td>\n",
       "      <td>I am a HUGE This Man fan, I mean like I've read the series 4 times kind of fan! So my expectations for this series were pretty high! It wasn't quite up there with This Man, I can tell JEM has a thing for big secrets, this one was kind of predictble. Also, JEM took some cues from Sylvia Day and her Crossfire series. Gay best friend, nickname Baby Girl, parental figure who takes care of said best friend, gorgeous 'airy' mother...not that it's a bad thing but it was very obvious. I didn't hate it, but I won't be reading it as much as I read This Man.</td>\n",
       "      <td>huge man fan mean like ive read series 4 times kind fan expectations series pretty high quite man tell jem thing big secrets one kind predictble also jem took cues sylvia day crossfire series gay best friend nickname baby girl parental figure takes care said best friend gorgeous airy mothernot bad thing obvious hate it reading much read man</td>\n",
       "      <td>[huge, man, fan, mean, like, ive, read, series, 4, times, kind, fan, expectations, series, pretty, high, quite, man, tell, jem, thing, big, secrets, one, kind, predictble, also, jem, took, cues, sylvia, day, crossfire, series, gay, best, friend, nickname, baby, girl, parental, figure, takes, care, said, best, friend, gorgeous, airy, mothernot, bad, thing, obvious, hate, it, reading, much, read, man]</td>\n",
       "    </tr>\n",
       "    <tr>\n",
       "      <th>...</th>\n",
       "      <td>...</td>\n",
       "      <td>...</td>\n",
       "      <td>...</td>\n",
       "      <td>...</td>\n",
       "      <td>...</td>\n",
       "      <td>...</td>\n",
       "    </tr>\n",
       "    <tr>\n",
       "      <th>32178</th>\n",
       "      <td>1.00</td>\n",
       "      <td>1.00</td>\n",
       "      <td>1</td>\n",
       "      <td>Even though this book is kinda short, it is packed with awesome information. It is all about how you can 'rewire' your brain to become a happier and more productive being.\\nIt is not just about this 'think positive'- clich but offers tools that have the potential to actually work.\\nStill, it is not too complicated. The brain might be the most complex organ in our body, but this book manages to describe the relevant things in a way an average person can understand.</td>\n",
       "      <td>even though book kinda short packed awesome information rewire brain become happier productive beingit think positive clich offers tools potential actually workstill complicated brain might complex organ body book manages describe relevant things way average person understand</td>\n",
       "      <td>[even, though, book, kinda, short, packed, awesome, information, rewire, brain, become, happier, productive, beingit, think, positive, clich, offers, tools, potential, actually, workstill, complicated, brain, might, complex, organ, body, book, manages, describe, relevant, things, way, average, person, understand]</td>\n",
       "    </tr>\n",
       "    <tr>\n",
       "      <th>32179</th>\n",
       "      <td>1.00</td>\n",
       "      <td>1.00</td>\n",
       "      <td>1</td>\n",
       "      <td>Perfect for a larger cat! This works for our Buddy who is bigger than a small dog. He loves it! Had the same one for 4 years until he schredded the scratch posts.</td>\n",
       "      <td>perfect larger cat works buddy bigger small dog loves it one 4 years schredded scratch posts</td>\n",
       "      <td>[perfect, larger, cat, works, buddy, bigger, small, dog, loves, it, one, 4, years, schredded, scratch, posts]</td>\n",
       "    </tr>\n",
       "    <tr>\n",
       "      <th>32180</th>\n",
       "      <td>0.00</td>\n",
       "      <td>0.00</td>\n",
       "      <td>0</td>\n",
       "      <td>This item was suggested as a refill for the product I brought. Doesn't fit and no instructions on how to replace even if it did  fit the stamp I brought</td>\n",
       "      <td>item suggested refill product brought fit instructions replace even  fit stamp brought</td>\n",
       "      <td>[item, suggested, refill, product, brought, fit, instructions, replace, even, , fit, stamp, brought]</td>\n",
       "    </tr>\n",
       "    <tr>\n",
       "      <th>32181</th>\n",
       "      <td>1.00</td>\n",
       "      <td>1.00</td>\n",
       "      <td>1</td>\n",
       "      <td>Great company to do business with. Item gets me about 15 hd channels. Easy to hook up. Highly recommended</td>\n",
       "      <td>great company business with item gets 15 hd channels easy hook up highly recommended</td>\n",
       "      <td>[great, company, business, with, item, gets, 15, hd, channels, easy, hook, up, highly, recommended]</td>\n",
       "    </tr>\n",
       "    <tr>\n",
       "      <th>32182</th>\n",
       "      <td>0.00</td>\n",
       "      <td>0.00</td>\n",
       "      <td>0</td>\n",
       "      <td>Very disappointed most reviews say this was too big so I ordered 6-12 month for my 10 month old. It was too little, the boots were way too big, and the beard would not stay attached to the hat.  Barely got his arms through the sleeves. My baby is not a big baby either.  Really wished I would've tried this on him early so I could e returned this. Costume is super cute though!</td>\n",
       "      <td>disappointed reviews say big ordered 612 month 10 month old little boots way big beard would stay attached hat  barely got arms sleeves baby big baby either  really wished wouldve tried early could e returned this costume super cute though</td>\n",
       "      <td>[disappointed, reviews, say, big, ordered, 612, month, 10, month, old, little, boots, way, big, beard, would, stay, attached, hat, , barely, got, arms, sleeves, baby, big, baby, either, , really, wished, wouldve, tried, early, could, e, returned, this, costume, super, cute, though]</td>\n",
       "    </tr>\n",
       "  </tbody>\n",
       "</table>\n",
       "<p>32183 rows × 6 columns</p>\n",
       "</div>"
      ],
      "text/plain": [
       "       actual  predicted  sentiment  \\\n",
       "0        0.00       0.00          0   \n",
       "1        0.00       0.00          0   \n",
       "2        0.00       0.00          0   \n",
       "3        0.00       0.00          0   \n",
       "4        0.00       1.00          0   \n",
       "...       ...        ...        ...   \n",
       "32178    1.00       1.00          1   \n",
       "32179    1.00       1.00          1   \n",
       "32180    0.00       0.00          0   \n",
       "32181    1.00       1.00          1   \n",
       "32182    0.00       0.00          0   \n",
       "\n",
       "                                                                                                                                                                                                                                                                                                                                                                                                                                                                                                                                                                           reviewText  \\\n",
       "0                                                                                                                                                                                                                                                                                                                                                                                                                                                    It seems like if you bump these at all, the suction comes loose, so don't rummage around in your fridge!  Not a very secure lid.   \n",
       "1                                                                                                                                                                                                                                                                                                                                                                                                                                                                                                         Iv tried everything to get this thing to link with my truck just don't work   \n",
       "2      A lot of the reviews say that it smells really bad. While I do smell the smell, it wasn't all that bad to me and it goes away after a while. I don't know if I just have a bad sense of smell or what but it wasn't a big deal to me. It works well as a case, but my only problem is that there aren't a lot of good pockets for games. There are two smaller pockets, but I can't put all my games in there because they could fall out (which would make me really sad!). It keeps my 2ds safe though which is the most important part. For the price is was pretty decent.   \n",
       "3                                                                                                                                                                                                                                                                                     This pencil sucks... It reminds me of a pencil or pen you get when you buy a cheap purse or day planner, no eraser.. For the price of this pen you can buy a set of 3 really nice pencils. Awkward to hold and it is slippery, I took a file and scratched it up just to keep it from slipping.   \n",
       "4           I am a HUGE This Man fan, I mean like I've read the series 4 times kind of fan! So my expectations for this series were pretty high! It wasn't quite up there with This Man, I can tell JEM has a thing for big secrets, this one was kind of predictble. Also, JEM took some cues from Sylvia Day and her Crossfire series. Gay best friend, nickname Baby Girl, parental figure who takes care of said best friend, gorgeous 'airy' mother...not that it's a bad thing but it was very obvious. I didn't hate it, but I won't be reading it as much as I read This Man.   \n",
       "...                                                                                                                                                                                                                                                                                                                                                                                                                                                                                                                                                                               ...   \n",
       "32178                                                                                            Even though this book is kinda short, it is packed with awesome information. It is all about how you can 'rewire' your brain to become a happier and more productive being.\\nIt is not just about this 'think positive'- clich but offers tools that have the potential to actually work.\\nStill, it is not too complicated. The brain might be the most complex organ in our body, but this book manages to describe the relevant things in a way an average person can understand.   \n",
       "32179                                                                                                                                                                                                                                                                                                                                                                                                              Perfect for a larger cat! This works for our Buddy who is bigger than a small dog. He loves it! Had the same one for 4 years until he schredded the scratch posts.   \n",
       "32180                                                                                                                                                                                                                                                                                                                                                                                                                        This item was suggested as a refill for the product I brought. Doesn't fit and no instructions on how to replace even if it did  fit the stamp I brought   \n",
       "32181                                                                                                                                                                                                                                                                                                                                                                                                                                                                       Great company to do business with. Item gets me about 15 hd channels. Easy to hook up. Highly recommended   \n",
       "32182                                                                                                                                                                                       Very disappointed most reviews say this was too big so I ordered 6-12 month for my 10 month old. It was too little, the boots were way too big, and the beard would not stay attached to the hat.  Barely got his arms through the sleeves. My baby is not a big baby either.  Really wished I would've tried this on him early so I could e returned this. Costume is super cute though!   \n",
       "\n",
       "                                                                                                                                                                                                                                                                                                                                                     text_nosw  \\\n",
       "0                                                                                                                                                                                                                                                                                   seems like bump all suction comes loose rummage around fridge  secure lid    \n",
       "1                                                                                                                                                                                                                                                                                                               iv tried everything get thing link truck work    \n",
       "2                                                                        lot reviews say smells really bad smell smell bad goes away while know bad sense smell big deal me works well case problem lot good pockets games two smaller pockets cant put games could fall which would make really sad keeps 2ds safe though important part price pretty decent    \n",
       "3                                                                                                                                                                                      pencil sucks reminds pencil pen get buy cheap purse day planner eraser price pen buy set 3 really nice pencils awkward hold slippery took file scratched keep slipping    \n",
       "4      huge man fan mean like ive read series 4 times kind fan expectations series pretty high quite man tell jem thing big secrets one kind predictble also jem took cues sylvia day crossfire series gay best friend nickname baby girl parental figure takes care said best friend gorgeous airy mothernot bad thing obvious hate it reading much read man    \n",
       "...                                                                                                                                                                                                                                                                                                                                                        ...   \n",
       "32178                                                                    even though book kinda short packed awesome information rewire brain become happier productive beingit think positive clich offers tools potential actually workstill complicated brain might complex organ body book manages describe relevant things way average person understand    \n",
       "32179                                                                                                                                                                                                                                                            perfect larger cat works buddy bigger small dog loves it one 4 years schredded scratch posts    \n",
       "32180                                                                                                                                                                                                                                                                  item suggested refill product brought fit instructions replace even  fit stamp brought    \n",
       "32181                                                                                                                                                                                                                                                                    great company business with item gets 15 hd channels easy hook up highly recommended    \n",
       "32182                                                                                                         disappointed reviews say big ordered 612 month 10 month old little boots way big beard would stay attached hat  barely got arms sleeves baby big baby either  really wished wouldve tried early could e returned this costume super cute though    \n",
       "\n",
       "                                                                                                                                                                                                                                                                                                                                                                                                               split_text  \n",
       "0                                                                                                                                                                                                                                                                                                                                 [seems, like, bump, all, suction, comes, loose, rummage, around, fridge, , secure, lid]  \n",
       "1                                                                                                                                                                                                                                                                                                                                                                  [iv, tried, everything, get, thing, link, truck, work]  \n",
       "2                                                                                  [lot, reviews, say, smells, really, bad, smell, smell, bad, goes, away, while, know, bad, sense, smell, big, deal, me, works, well, case, problem, lot, good, pockets, games, two, smaller, pockets, cant, put, games, could, fall, which, would, make, really, sad, keeps, 2ds, safe, though, important, part, price, pretty, decent]  \n",
       "3                                                                                                                                                                                                                     [pencil, sucks, reminds, pencil, pen, get, buy, cheap, purse, day, planner, eraser, price, pen, buy, set, 3, really, nice, pencils, awkward, hold, slippery, took, file, scratched, keep, slipping]  \n",
       "4      [huge, man, fan, mean, like, ive, read, series, 4, times, kind, fan, expectations, series, pretty, high, quite, man, tell, jem, thing, big, secrets, one, kind, predictble, also, jem, took, cues, sylvia, day, crossfire, series, gay, best, friend, nickname, baby, girl, parental, figure, takes, care, said, best, friend, gorgeous, airy, mothernot, bad, thing, obvious, hate, it, reading, much, read, man]  \n",
       "...                                                                                                                                                                                                                                                                                                                                                                                                                   ...  \n",
       "32178                                                                                          [even, though, book, kinda, short, packed, awesome, information, rewire, brain, become, happier, productive, beingit, think, positive, clich, offers, tools, potential, actually, workstill, complicated, brain, might, complex, organ, body, book, manages, describe, relevant, things, way, average, person, understand]  \n",
       "32179                                                                                                                                                                                                                                                                                                       [perfect, larger, cat, works, buddy, bigger, small, dog, loves, it, one, 4, years, schredded, scratch, posts]  \n",
       "32180                                                                                                                                                                                                                                                                                                                [item, suggested, refill, product, brought, fit, instructions, replace, even, , fit, stamp, brought]  \n",
       "32181                                                                                                                                                                                                                                                                                                                 [great, company, business, with, item, gets, 15, hd, channels, easy, hook, up, highly, recommended]  \n",
       "32182                                                                                                                          [disappointed, reviews, say, big, ordered, 612, month, 10, month, old, little, boots, way, big, beard, would, stay, attached, hat, , barely, got, arms, sleeves, baby, big, baby, either, , really, wished, wouldve, tried, early, could, e, returned, this, costume, super, cute, though]  \n",
       "\n",
       "[32183 rows x 6 columns]"
      ]
     },
     "execution_count": 32,
     "metadata": {},
     "output_type": "execute_result"
    }
   ],
   "source": [
    "def display_test_predictions(labels_and_preds):\n",
    "    from pyspark.sql.functions import monotonically_increasing_id\n",
    "\n",
    "    labels_and_preds = labels_and_preds.toDF()\n",
    "\n",
    "    df1 = tokenized_test.withColumn(\"id\", monotonically_increasing_id())\n",
    "\n",
    "    df2 = labels_and_preds.withColumn(\"id\", monotonically_increasing_id())\n",
    "\n",
    "    return df2.join(df1, \"id\", \"outer\").drop(\"id\")\n",
    "\n",
    "\n",
    "display_test_predictions(labels_and_preds_NB).toPandas()"
   ]
  },
  {
   "cell_type": "markdown",
   "metadata": {},
   "source": [
    "### Find best ngram"
   ]
  },
  {
   "cell_type": "markdown",
   "metadata": {},
   "source": [
    "ngram = 1 provides the best test accuracy. I'm not sure why this is as higher order n-grams should carry more word context. This could possibly due to over-fitting"
   ]
  },
  {
   "cell_type": "code",
   "execution_count": 33,
   "metadata": {},
   "outputs": [
    {
     "name": "stdout",
     "output_type": "stream",
     "text": [
      "NB accuracy with ngram 1 is 0.782089923251406\n",
      "NB accuracy with ngram 2 is 0.7118043687661187\n",
      "NB accuracy with ngram 3 is 0.559519000714663\n",
      "NB accuracy with ngram 4 is 0.5109840599074045\n",
      "NB accuracy with ngram 5 is 0.4947643165646459\n"
     ]
    }
   ],
   "source": [
    "for i in range(1, 6):\n",
    "    tfidf_train, tfidf_test = construct_tfidf_input(\n",
    "        tokenized_train, tokenized_test, ngram=i)\n",
    "\n",
    "    train_dataset_ngram = tfidf_train.rdd.map(lambda x: LabeledPoint(\n",
    "        float(x.sentiment), MLLibVectors.fromML(x.idftf)))\n",
    "    test_dataset_ngram = tfidf_test.rdd.map(lambda x: LabeledPoint(\n",
    "        float(x.sentiment), MLLibVectors.fromML(x.idftf)))\n",
    "\n",
    "    model_train_NB = NaiveBayes.train(train_dataset_ngram)\n",
    "    accuracy = test(model_train_NB, test_dataset_ngram)\n",
    "    print(\"NB accuracy with ngram {} is {}\".format(i, accuracy))"
   ]
  },
  {
   "cell_type": "markdown",
   "metadata": {},
   "source": [
    "### Word2Vec"
   ]
  },
  {
   "cell_type": "markdown",
   "metadata": {},
   "source": [
    "Let's try comparing accuracy between using tfidf/ngram and Word2Vec. Word2Vec maps each word to a vector with a specified size"
   ]
  },
  {
   "cell_type": "code",
   "execution_count": 34,
   "metadata": {},
   "outputs": [],
   "source": [
    "from pyspark.ml.feature import Word2Vec, MinMaxScaler\n",
    "\n",
    "\n",
    "def constructWord2VecData(train_set, test_set, vector_size=500, minCount=2):\n",
    "    # create an average word vector for each document\n",
    "    word2vec = Word2Vec(vectorSize=vector_size, minCount=minCount,\n",
    "                        inputCol='split_text', outputCol='word2vec')\n",
    "    model = word2vec.fit(train_set)\n",
    "    train_vec = model.transform(train_set)\n",
    "    model = word2vec.fit(test_set)\n",
    "    test_vec = model.transform(test_set)\n",
    "\n",
    "    scaler = MinMaxScaler(inputCol=\"word2vec\", outputCol=\"scaledFeatures\")\n",
    "    scaled_train = scaler.fit(train_vec).transform(train_vec)\n",
    "    scaled_test = scaler.fit(test_vec).transform(test_vec)\n",
    "    return scaled_train, scaled_test\n",
    "\n",
    "\n",
    "scaled_train, scaled_test = constructWord2VecData(\n",
    "    tokenized_train, tokenized_test)"
   ]
  },
  {
   "cell_type": "code",
   "execution_count": 35,
   "metadata": {},
   "outputs": [
    {
     "name": "stdout",
     "output_type": "stream",
     "text": [
      "+---------+--------------------+--------------------+--------------------+--------------------+--------------------+\n",
      "|sentiment|          reviewText|           text_nosw|          split_text|            word2vec|      scaledFeatures|\n",
      "+---------+--------------------+--------------------+--------------------+--------------------+--------------------+\n",
      "|        0|I thought this wa...|thought great bou...|[thought, great, ...|[0.02890645423904...|[0.53915877262923...|\n",
      "|        0|Really need to qu...|really need quart...|[really, need, qu...|[0.01851281032969...|[0.52032705397578...|\n",
      "|        0|These are very ba...|bad figured would...|[bad, figured, wo...|[0.00561650239599...|[0.49696088472908...|\n",
      "|        0|I read this book ...|read book coverto...|[read, book, cove...|[0.02560920477085...|[0.53318465278669...|\n",
      "|        0|Somewhat obvious ...|somewhat obvious ...|[somewhat, obviou...|[0.03069307585246...|[0.54239586212909...|\n",
      "|        0|Design is good bu...|design good size ...|[design, good, si...|[-0.0024305063988...|[0.48238091576459...|\n",
      "|        0|Requested and got...|requested got app...|[requested, got, ...|[0.00498906518087...|[0.49582406291656...|\n",
      "|        0|I have taken step...|taken steps retur...|[taken, steps, re...|[0.05810468108393...|[0.59206156571300...|\n",
      "|        0|I should have rea...|read reviews care...|[read, reviews, c...|[0.01222307927983...|[0.50893100783740...|\n",
      "|        0|I was able to rea...|able read 40 put ...|[able, read, 40, ...|[0.03604463277650...|[0.55209207793467...|\n",
      "|        0|Too big and long ...|big long bullky f...|[big, long, bullk...|[-0.0128070238861...|[0.46358022761063...|\n",
      "|        0|These are very so...|soft see through ...|[soft, see, throu...|[0.05584719832986...|[0.58797134668487...|\n",
      "|        0|I really like cha...|really like chai ...|[really, like, ch...|[-0.0402655065020...|[0.41382958926046...|\n",
      "|        0|Squeakers stopped...|squeakers stopped...|[squeakers, stopp...|[0.06839407008083...|[0.61070439015412...|\n",
      "|        0|I've been a long ...|ive long time use...|[ive, long, time,...|[0.02580567394943...|[0.53354062537218...|\n",
      "|        0|I have 5 cats and...|5 cats one liked ...|[5, cats, one, li...|[-0.0040148364393...|[0.47951034815255...|\n",
      "|        0|Simon Winchester'...|simon winchesters...|[simon, wincheste...|[0.02915023556659...|[0.53960046770878...|\n",
      "|        0|Nice size but ben...|nice size bent pu...|[nice, size, bent...|[0.02362545957190...|[0.52959040501443...|\n",
      "|        0|Carters brand clo...|carters brand clo...|[carters, brand, ...|[-0.0184475036337...|[0.45336052712780...|\n",
      "|        0|Color was totally...|color totally off...|[color, totally, ...|[-0.0145218744291...|[0.46047317648963...|\n",
      "+---------+--------------------+--------------------+--------------------+--------------------+--------------------+\n",
      "only showing top 20 rows\n",
      "\n"
     ]
    }
   ],
   "source": [
    "scaled_train.show()"
   ]
  },
  {
   "cell_type": "code",
   "execution_count": 36,
   "metadata": {},
   "outputs": [],
   "source": [
    "train_dataset_vec = scaled_train.rdd.map(lambda x: LabeledPoint(\n",
    "    float(x.sentiment), MLLibVectors.fromML(x.scaledFeatures)))\n",
    "test_dataset_vec = scaled_test.rdd.map(lambda x: LabeledPoint(\n",
    "    float(x.sentiment), MLLibVectors.fromML(x.scaledFeatures)))"
   ]
  },
  {
   "cell_type": "code",
   "execution_count": 37,
   "metadata": {},
   "outputs": [
    {
     "name": "stdout",
     "output_type": "stream",
     "text": [
      "NB accuracy on train dataset with word2vec is 0.7082287068952072\n",
      "NB accuracy on test dataset with word2vec is 0.5824814342976106\n"
     ]
    }
   ],
   "source": [
    "model_train_NB_vec = NaiveBayes.train(train_dataset_vec)\n",
    "train_accuracy = test(model_train_NB_vec, train_dataset_vec)\n",
    "print(\"NB accuracy on train dataset with word2vec is {}\".format(train_accuracy))\n",
    "accuracy = test(model_train_NB_vec, test_dataset_vec)\n",
    "print(\"NB accuracy on test dataset with word2vec is {}\".format(accuracy))"
   ]
  },
  {
   "cell_type": "markdown",
   "metadata": {},
   "source": [
    "Accuracy on Word2Vec is generally quite poor"
   ]
  },
  {
   "cell_type": "markdown",
   "metadata": {},
   "source": [
    "## Try CountVectorizer"
   ]
  },
  {
   "cell_type": "markdown",
   "metadata": {},
   "source": [
    "CountVectorizer turns out to be a little bit better than HashingTF"
   ]
  },
  {
   "cell_type": "code",
   "execution_count": 38,
   "metadata": {},
   "outputs": [
    {
     "name": "stdout",
     "output_type": "stream",
     "text": [
      "NB accuracy on train dataset with CountVectorizer is 0.8146201475427733\n",
      "NB accuracy on test dataset with CountVectorizer is 0.7902930118385483\n"
     ]
    }
   ],
   "source": [
    "# Try count vectorizer instead of Hashing TF\n",
    "from pyspark.ml.feature import CountVectorizer\n",
    "\n",
    "\n",
    "def constructCVInput(tokenized_train, tokenized_test):\n",
    "    # now make n-gram input\n",
    "    train_gram_df = comp_ngram(tokenized_train, ngram=2)\n",
    "    test_gram_df = comp_ngram(tokenized_test, ngram=2)\n",
    "\n",
    "    # now make term frequency vectors out of data frame to feed machine\n",
    "    count_vectorizer = CountVectorizer(\n",
    "        vocabSize=20000, inputCol=\"split_text\", outputCol=\"tf\")\n",
    "    train_cv_model = count_vectorizer.fit(tokenized_train)\n",
    "    train_cv = train_cv_model.transform(tokenized_train)\n",
    "    test_cv = train_cv_model.transform(tokenized_test)\n",
    "\n",
    "    # tf-idf\n",
    "    train_idfModel = CompIDF(train_cv)\n",
    "    test_idfModel = CompIDF(test_cv)\n",
    "\n",
    "    tfidf_train = CompTFIDF(train_cv, train_idfModel)\n",
    "    tfidf_test = CompTFIDF(test_cv, test_idfModel)\n",
    "    return tfidf_train, tfidf_test\n",
    "\n",
    "count_vec_train, count_vec_test = constructCVInput(tokenized_train, tokenized_test)\n",
    "count_vec_train = count_vec_train.rdd.map(lambda x: LabeledPoint(\n",
    "    float(x.sentiment), MLLibVectors.fromML(x.idftf)))\n",
    "count_vec_test = count_vec_test.rdd.map(lambda x: LabeledPoint(\n",
    "    float(x.sentiment), MLLibVectors.fromML(x.idftf)))\n",
    "\n",
    "model_train_NB_vec = NaiveBayes.train(count_vec_train)\n",
    "train_accuracy = test(model_train_NB_vec, count_vec_train)\n",
    "print(\"NB accuracy on train dataset with CountVectorizer is {}\".format(train_accuracy))\n",
    "accuracy = test(model_train_NB_vec, count_vec_test)\n",
    "print(\"NB accuracy on test dataset with CountVectorizer is {}\".format(accuracy))"
   ]
  },
  {
   "cell_type": "markdown",
   "metadata": {},
   "source": [
    "## Naive Bayes More stats"
   ]
  },
  {
   "cell_type": "code",
   "execution_count": 39,
   "metadata": {
    "application/vnd.databricks.v1+cell": {
     "inputWidgets": {},
     "nuid": "ff5e540e-b755-4627-b1de-b2520a4c6f9c",
     "showTitle": false,
     "title": ""
    }
   },
   "outputs": [
    {
     "data": {
      "image/png": "[encoded data removed]",
      "text/plain": [
       "<Figure size 640x480 with 1 Axes>"
      ]
     },
     "metadata": {},
     "output_type": "display_data"
    }
   ],
   "source": [
    "objects = ('Training Accuracy', 'Testing Accuracy')\n",
    "y_pos = np.arange(len(objects))\n",
    "performance = [accuracy_NB_train * 100, accu_NB]\n",
    "plt.bar(y_pos, performance, align='center', alpha=0.5)\n",
    "plt.xticks(y_pos, objects)\n",
    "plt.xlabel('Classifications')\n",
    "plt.ylabel('Accuracy')\n",
    "plt.title('Naive Bayes Classifier - Accuracies')\n",
    "\n",
    "plt.show()"
   ]
  },
  {
   "cell_type": "markdown",
   "metadata": {},
   "source": [
    "Here we calculate more advanced metrics to ensure our model is actually generalizing and not just predicting 1 or 0 every time"
   ]
  },
  {
   "cell_type": "code",
   "execution_count": 40,
   "metadata": {
    "application/vnd.databricks.v1+cell": {
     "inputWidgets": {},
     "nuid": "ecbbc952-b8f9-40ef-a58c-04b5a0196ed4",
     "showTitle": false,
     "title": ""
    }
   },
   "outputs": [
    {
     "name": "stdout",
     "output_type": "stream",
     "text": [
      "\n",
      "Summary Stats_NB\n",
      "\n",
      "Class 0 precision_NB = 0.7894636380988739\n",
      "Class 0 recall_NB = 0.7583425009167584\n",
      "Class 0 F1 Measure_NB = 0.7735901991957356\n",
      "Class 1 precision_NB = 0.7598688206000243\n",
      "Class 1 recall_NB = 0.7908476076101384\n",
      "Class 1 F1 Measure_NB = 0.7750487812432248\n",
      "\n",
      "Avg/Weighted recall_NB = 0.7743218469378244\n",
      "Avg/Weighted precision_NB = 0.7749149755239336\n",
      "Avg/Weighted F(1) Score_NB = 0.7743072307519401\n",
      "\n",
      "Confusion matrix_NB=\n",
      "[[12408.  3954.]\n",
      " [ 3309. 12512.]]\n",
      "\n",
      "\n",
      "Area under ROC_NB = 0.7745950542634484\n"
     ]
    }
   ],
   "source": [
    "metrics = MulticlassMetrics(labels_and_preds_NB.map(\n",
    "    lambda x: (x[\"predicted\"], x[\"actual\"])))\n",
    "# Overall statistics\n",
    "print(\"\\nSummary Stats_NB\\n\")\n",
    "# Statistics by class\n",
    "labels = (sc.parallelize(\n",
    "    [row[0] for row in sampled_test_reviews.collect()])).distinct().collect()\n",
    "for label in sorted(labels):\n",
    "    print(\"Class %s precision_NB = %s\" % (label, metrics.precision(label)))\n",
    "    print(\"Class %s recall_NB = %s\" % (label, metrics.recall(label)))\n",
    "    print(\"Class %s F1 Measure_NB = %s\" %\n",
    "          (label, metrics.fMeasure(float(label), beta=1.0)))\n",
    "\n",
    "# Weighted stats\n",
    "print(\"\\nAvg/Weighted recall_NB = %s\" % metrics.weightedRecall)\n",
    "print(\"Avg/Weighted precision_NB = %s\" % metrics.weightedPrecision)\n",
    "print(\"Avg/Weighted F(1) Score_NB = %s\" % metrics.weightedFMeasure())\n",
    "\n",
    "cm = metrics.confusionMatrix().toArray()\n",
    "print(\"\\nConfusion matrix_NB=\")\n",
    "print(cm)\n",
    "print(\"\\n\")\n",
    "metrics2 = BinaryClassificationMetrics(\n",
    "    labels_and_preds_NB.map(lambda x: (x[\"predicted\"], x[\"actual\"])))\n",
    "\n",
    "# Area under ROC curve\n",
    "print(\"Area under ROC_NB = %s\" % metrics2.areaUnderROC)"
   ]
  },
  {
   "cell_type": "markdown",
   "metadata": {
    "application/vnd.databricks.v1+cell": {
     "inputWidgets": {},
     "nuid": "7ac566a4-2414-407c-b845-1cea3deb1776",
     "showTitle": false,
     "title": ""
    }
   },
   "source": [
    "# Logistic Regression"
   ]
  },
  {
   "cell_type": "code",
   "execution_count": 41,
   "metadata": {
    "application/vnd.databricks.v1+cell": {
     "inputWidgets": {},
     "nuid": "58ae3d3d-f78b-4859-a7f6-192dec6e2efa",
     "showTitle": false,
     "title": ""
    }
   },
   "outputs": [
    {
     "name": "stdout",
     "output_type": "stream",
     "text": [
      "************************TRAINING*******************************\n",
      "*****************************TRAINING COMPLETE************************************\n"
     ]
    }
   ],
   "source": [
    "#######################################################\n",
    "# Accuracy of Training data using train.csv itself using LG\n",
    "# training\n",
    "print(\"************************TRAINING*******************************\")\n",
    "model_train_LG = LogisticRegressionWithSGD.train(\n",
    "    train_dataset, iterations=10, regType='l2')\n",
    "print(\"*****************************TRAINING COMPLETE************************************\")"
   ]
  },
  {
   "cell_type": "code",
   "execution_count": 42,
   "metadata": {},
   "outputs": [
    {
     "name": "stdout",
     "output_type": "stream",
     "text": [
      "TRAINING ACCURACY:-\n",
      "\n",
      "The accuracy for the training dataset tested on the training data itself using LG is 0.7914827580828797 %\n",
      "\n",
      "\n"
     ]
    }
   ],
   "source": [
    "# testing NB with training data\n",
    "\n",
    "accuracy_LG_train = test(model_train_LG, train_dataset)\n",
    "\n",
    "print(\"TRAINING ACCURACY:-\\n\")\n",
    "\n",
    "print(\"The accuracy for the training dataset tested on the training data itself using LG is\",\n",
    "      accuracy_LG_train, \"%\")\n",
    "\n",
    "print(\"\\n\")"
   ]
  },
  {
   "cell_type": "code",
   "execution_count": 43,
   "metadata": {},
   "outputs": [
    {
     "name": "stdout",
     "output_type": "stream",
     "text": [
      "TESTING ACCURACY:-\n",
      "\n",
      "The accuracy for the testing dataset using LG is 78.56321660503993 %\n",
      "\n",
      "\n"
     ]
    }
   ],
   "source": [
    "labels_and_preds_LG, accu_LG = test_final(model_train_LG, test_dataset)\n",
    "\n",
    "print(\"TESTING ACCURACY:-\\n\")\n",
    "\n",
    "print(\"The accuracy for the testing dataset using LG is\", accu_LG, \"%\")\n",
    "\n",
    "print(\"\\n\")"
   ]
  },
  {
   "cell_type": "markdown",
   "metadata": {},
   "source": [
    "### Try pyspark ml Logistic Regression instead of Pyspark mllib"
   ]
  },
  {
   "cell_type": "code",
   "execution_count": 44,
   "metadata": {},
   "outputs": [],
   "source": [
    "from pyspark.ml.tuning import CrossValidator, ParamGridBuilder\n",
    "from pyspark.ml.regression import LinearRegression\n",
    "from pyspark.ml.classification import LogisticRegression\n",
    "from pyspark.ml.evaluation import BinaryClassificationEvaluator\n",
    "\n",
    "lr_model = LogisticRegression(\n",
    "    labelCol='sentiment', featuresCol='idftf', maxIter=100, regParam=0.7).fit(tfidf_train)"
   ]
  },
  {
   "cell_type": "code",
   "execution_count": 45,
   "metadata": {},
   "outputs": [],
   "source": [
    "prediction_train = lr_model.transform(tfidf_train)\n",
    "prediction_test = lr_model.transform(tfidf_test)"
   ]
  },
  {
   "cell_type": "code",
   "execution_count": 46,
   "metadata": {},
   "outputs": [],
   "source": [
    "# evaluator = BinaryClassificationEvaluator(labelCol='sentiment')\n",
    "# print(evaluator.evaluate(prediction_train))\n",
    "# print(evaluator.evaluate(prediction_test))"
   ]
  },
  {
   "cell_type": "code",
   "execution_count": 47,
   "metadata": {},
   "outputs": [
    {
     "name": "stdout",
     "output_type": "stream",
     "text": [
      "0.8876662975497918\n"
     ]
    },
    {
     "data": {
      "text/plain": [
       "0.5255258987664295"
      ]
     },
     "execution_count": 47,
     "metadata": {},
     "output_type": "execute_result"
    }
   ],
   "source": [
    "train_accuracy = prediction_train.filter(\n",
    "    prediction_train.sentiment == prediction_train.prediction).count() / float(tfidf_train.count())\n",
    "print(train_accuracy)\n",
    "test_accuracy = prediction_test.filter(\n",
    "    prediction_test.sentiment == prediction_test.prediction).count() / float(tfidf_test.count())\n",
    "test_accuracy"
   ]
  },
  {
   "cell_type": "markdown",
   "metadata": {},
   "source": [
    "### Test Word2Vec with Logistic Regression"
   ]
  },
  {
   "cell_type": "code",
   "execution_count": 48,
   "metadata": {},
   "outputs": [
    {
     "name": "stdout",
     "output_type": "stream",
     "text": [
      "LG accuracy on train dataset with word2vec is 0.48902787092346806\n",
      "LG accuracy on test dataset with word2vec is 0.4915949414287046\n"
     ]
    }
   ],
   "source": [
    "model_train_LG_vec = LogisticRegressionWithSGD.train(\n",
    "    train_dataset_vec, iterations=100, regType='l2')\n",
    "train_accuracy = test(model_train_LG_vec, train_dataset_vec)\n",
    "print(\"LG accuracy on train dataset with word2vec is {}\".format(train_accuracy))\n",
    "accuracy = test(model_train_LG_vec, test_dataset_vec)\n",
    "print(\"LG accuracy on test dataset with word2vec is {}\".format(accuracy))"
   ]
  },
  {
   "cell_type": "markdown",
   "metadata": {},
   "source": [
    "### Test CountVectorizer with Logistic Regression"
   ]
  },
  {
   "cell_type": "code",
   "execution_count": 49,
   "metadata": {},
   "outputs": [
    {
     "name": "stdout",
     "output_type": "stream",
     "text": [
      "LG accuracy on train dataset with CountVectorizer is 0.8272065130932514\n",
      "LG accuracy on test dataset with CountVectorizer is 0.8157412298418419\n"
     ]
    }
   ],
   "source": [
    "model_train_LG_cv = LogisticRegressionWithSGD.train(count_vec_train)\n",
    "train_accuracy = test(model_train_LG_cv, count_vec_train)\n",
    "print(\"LG accuracy on train dataset with CountVectorizer is {}\".format(train_accuracy))\n",
    "accuracy = test(model_train_LG_cv, count_vec_test)\n",
    "print(\"LG accuracy on test dataset with CountVectorizer is {}\".format(accuracy))"
   ]
  },
  {
   "cell_type": "markdown",
   "metadata": {},
   "source": [
    "### LG More Stats"
   ]
  },
  {
   "cell_type": "code",
   "execution_count": 50,
   "metadata": {
    "application/vnd.databricks.v1+cell": {
     "inputWidgets": {},
     "nuid": "cffdcb4f-7f85-41f3-9eb2-0aa9c200865a",
     "showTitle": false,
     "title": ""
    }
   },
   "outputs": [
    {
     "data": {
      "image/png": "[encoded data removed]",
      "text/plain": [
       "<Figure size 640x480 with 1 Axes>"
      ]
     },
     "metadata": {},
     "output_type": "display_data"
    }
   ],
   "source": [
    "objects = ('Training Accuracy', 'Testing Accuracy')\n",
    "y_pos = np.arange(len(objects))\n",
    "performance = [accuracy_LG_train * 100.0, accu_LG]\n",
    "plt.bar(y_pos, performance, align='center', alpha=0.5)\n",
    "plt.xticks(y_pos, objects)\n",
    "plt.xlabel('Classifications')\n",
    "plt.ylabel('Accuracy')\n",
    "plt.title('Logistic Regression Classifier - Accuracies')\n",
    "\n",
    "plt.show()"
   ]
  },
  {
   "cell_type": "code",
   "execution_count": 51,
   "metadata": {
    "application/vnd.databricks.v1+cell": {
     "inputWidgets": {},
     "nuid": "defc9ba1-5199-4fbf-bf51-614a1f2b1882",
     "showTitle": false,
     "title": ""
    }
   },
   "outputs": [
    {
     "name": "stdout",
     "output_type": "stream",
     "text": [
      "\n",
      "Summary Stats_LG\n",
      "\n",
      "Class 0 precision_LG = 0.8184694083596957\n",
      "Class 0 recall_LG = 0.7431854296540765\n",
      "Class 0 F1 Measure_LG = 0.779012780678433\n",
      "Class 1 precision_LG = 0.7574743160567933\n",
      "Class 1 recall_LG = 0.8295303710258517\n",
      "Class 1 F1 Measure_LG = 0.7918665339246388\n",
      "\n",
      "Avg/Weighted recall_LG = 0.7856321660503993\n",
      "Avg/Weighted precision_LG = 0.788484529531612\n",
      "Avg/Weighted F(1) Score_LG = 0.7853316207526406\n",
      "\n",
      "Confusion matrix_LG=\n",
      "[[12160.  4202.]\n",
      " [ 2697. 13124.]]\n",
      "\n",
      "\n",
      "Area under ROC_LG = 0.7863579003399641\n"
     ]
    }
   ],
   "source": [
    "metrics = MulticlassMetrics(labels_and_preds_LG.map(\n",
    "    lambda x: (x[\"predicted\"], x[\"actual\"])))\n",
    "# Overall statistics\n",
    "print(\"\\nSummary Stats_LG\\n\")\n",
    "# Statistics by class\n",
    "labels = (sc.parallelize(\n",
    "    [row[0] for row in sampled_test_reviews.collect()])).distinct().collect()\n",
    "for label in sorted(labels):\n",
    "    print(\"Class %s precision_LG = %s\" % (label, metrics.precision(label)))\n",
    "    print(\"Class %s recall_LG = %s\" % (label, metrics.recall(label)))\n",
    "    print(\"Class %s F1 Measure_LG = %s\" %\n",
    "          (label, metrics.fMeasure(float(label), beta=1.0)))\n",
    "\n",
    "# Weighted stats\n",
    "print(\"\\nAvg/Weighted recall_LG = %s\" % metrics.weightedRecall)\n",
    "print(\"Avg/Weighted precision_LG = %s\" % metrics.weightedPrecision)\n",
    "print(\"Avg/Weighted F(1) Score_LG = %s\" % metrics.weightedFMeasure())\n",
    "\n",
    "cm = metrics.confusionMatrix().toArray()\n",
    "print(\"\\nConfusion matrix_LG=\")\n",
    "print(cm)\n",
    "print(\"\\n\")\n",
    "metrics2 = BinaryClassificationMetrics(\n",
    "    labels_and_preds_LG.map(lambda x: (x[\"predicted\"], x[\"actual\"])))\n",
    "\n",
    "# Area under ROC curve\n",
    "print(\"Area under ROC_LG = %s\" % metrics2.areaUnderROC)"
   ]
  },
  {
   "cell_type": "markdown",
   "metadata": {
    "application/vnd.databricks.v1+cell": {
     "inputWidgets": {},
     "nuid": "b6f4baba-d5f0-49f2-b171-ac412232c6d7",
     "showTitle": false,
     "title": ""
    }
   },
   "source": [
    "# Support Vector Machines"
   ]
  },
  {
   "cell_type": "code",
   "execution_count": 52,
   "metadata": {
    "application/vnd.databricks.v1+cell": {
     "inputWidgets": {},
     "nuid": "bf416d99-ade1-4059-8c6b-4a60cc7b47b1",
     "showTitle": false,
     "title": ""
    }
   },
   "outputs": [
    {
     "name": "stdout",
     "output_type": "stream",
     "text": [
      "TRAINING ACCURACY:-\n",
      "\n",
      "The accuracy for the training dataset tested on the training data itself using SVM is 0.8115710342030975 %\n",
      "\n",
      "\n"
     ]
    }
   ],
   "source": [
    "# Accuracy of Training data using train.csv itself using SVM\n",
    "\n",
    "model_train_SVM = SVMWithSGD.train(train_dataset)\n",
    "accuracy_SVM = test(model_train_SVM, train_dataset)\n",
    "print(\"TRAINING ACCURACY:-\\n\")\n",
    "print(\"The accuracy for the training dataset tested on the training data itself using SVM is\", accuracy_SVM, \"%\")\n",
    "print(\"\\n\")"
   ]
  },
  {
   "cell_type": "code",
   "execution_count": 60,
   "metadata": {},
   "outputs": [
    {
     "name": "stdout",
     "output_type": "stream",
     "text": [
      "TESTING ACCURACY:-\n",
      "\n",
      "The accuracy for the testing dataset using SVM is 79.96457757201007 %\n",
      "\n",
      "\n"
     ]
    }
   ],
   "source": [
    "labels_and_preds_SVM, accu_SVM = test_final(model_train_SVM, test_dataset)\n",
    "\n",
    "print(\"TESTING ACCURACY:-\\n\")\n",
    "\n",
    "print(\"The accuracy for the testing dataset using SVM is\", accu_SVM, \"%\")\n",
    "\n",
    "print(\"\\n\")"
   ]
  },
  {
   "cell_type": "code",
   "execution_count": 61,
   "metadata": {},
   "outputs": [
    {
     "data": {
      "text/html": [
       "<div>\n",
       "<style scoped>\n",
       "    .dataframe tbody tr th:only-of-type {\n",
       "        vertical-align: middle;\n",
       "    }\n",
       "\n",
       "    .dataframe tbody tr th {\n",
       "        vertical-align: top;\n",
       "    }\n",
       "\n",
       "    .dataframe thead th {\n",
       "        text-align: right;\n",
       "    }\n",
       "</style>\n",
       "<table border=\"1\" class=\"dataframe\">\n",
       "  <thead>\n",
       "    <tr style=\"text-align: right;\">\n",
       "      <th></th>\n",
       "      <th>actual</th>\n",
       "      <th>predicted</th>\n",
       "      <th>sentiment</th>\n",
       "      <th>reviewText</th>\n",
       "      <th>text_nosw</th>\n",
       "      <th>split_text</th>\n",
       "    </tr>\n",
       "  </thead>\n",
       "  <tbody>\n",
       "    <tr>\n",
       "      <th>0</th>\n",
       "      <td>0.00</td>\n",
       "      <td>0.00</td>\n",
       "      <td>0</td>\n",
       "      <td>It seems like if you bump these at all, the suction comes loose, so don't rummage around in your fridge!  Not a very secure lid.</td>\n",
       "      <td>seems like bump all suction comes loose rummage around fridge  secure lid</td>\n",
       "      <td>[seems, like, bump, all, suction, comes, loose, rummage, around, fridge, , secure, lid]</td>\n",
       "    </tr>\n",
       "    <tr>\n",
       "      <th>1</th>\n",
       "      <td>0.00</td>\n",
       "      <td>0.00</td>\n",
       "      <td>0</td>\n",
       "      <td>Iv tried everything to get this thing to link with my truck just don't work</td>\n",
       "      <td>iv tried everything get thing link truck work</td>\n",
       "      <td>[iv, tried, everything, get, thing, link, truck, work]</td>\n",
       "    </tr>\n",
       "    <tr>\n",
       "      <th>2</th>\n",
       "      <td>0.00</td>\n",
       "      <td>0.00</td>\n",
       "      <td>0</td>\n",
       "      <td>A lot of the reviews say that it smells really bad. While I do smell the smell, it wasn't all that bad to me and it goes away after a while. I don't know if I just have a bad sense of smell or what but it wasn't a big deal to me. It works well as a case, but my only problem is that there aren't a lot of good pockets for games. There are two smaller pockets, but I can't put all my games in there because they could fall out (which would make me really sad!). It keeps my 2ds safe though which is the most important part. For the price is was pretty decent.</td>\n",
       "      <td>lot reviews say smells really bad smell smell bad goes away while know bad sense smell big deal me works well case problem lot good pockets games two smaller pockets cant put games could fall which would make really sad keeps 2ds safe though important part price pretty decent</td>\n",
       "      <td>[lot, reviews, say, smells, really, bad, smell, smell, bad, goes, away, while, know, bad, sense, smell, big, deal, me, works, well, case, problem, lot, good, pockets, games, two, smaller, pockets, cant, put, games, could, fall, which, would, make, really, sad, keeps, 2ds, safe, though, important, part, price, pretty, decent]</td>\n",
       "    </tr>\n",
       "    <tr>\n",
       "      <th>3</th>\n",
       "      <td>0.00</td>\n",
       "      <td>0.00</td>\n",
       "      <td>0</td>\n",
       "      <td>This pencil sucks... It reminds me of a pencil or pen you get when you buy a cheap purse or day planner, no eraser.. For the price of this pen you can buy a set of 3 really nice pencils. Awkward to hold and it is slippery, I took a file and scratched it up just to keep it from slipping.</td>\n",
       "      <td>pencil sucks reminds pencil pen get buy cheap purse day planner eraser price pen buy set 3 really nice pencils awkward hold slippery took file scratched keep slipping</td>\n",
       "      <td>[pencil, sucks, reminds, pencil, pen, get, buy, cheap, purse, day, planner, eraser, price, pen, buy, set, 3, really, nice, pencils, awkward, hold, slippery, took, file, scratched, keep, slipping]</td>\n",
       "    </tr>\n",
       "    <tr>\n",
       "      <th>4</th>\n",
       "      <td>0.00</td>\n",
       "      <td>1.00</td>\n",
       "      <td>0</td>\n",
       "      <td>I am a HUGE This Man fan, I mean like I've read the series 4 times kind of fan! So my expectations for this series were pretty high! It wasn't quite up there with This Man, I can tell JEM has a thing for big secrets, this one was kind of predictble. Also, JEM took some cues from Sylvia Day and her Crossfire series. Gay best friend, nickname Baby Girl, parental figure who takes care of said best friend, gorgeous 'airy' mother...not that it's a bad thing but it was very obvious. I didn't hate it, but I won't be reading it as much as I read This Man.</td>\n",
       "      <td>huge man fan mean like ive read series 4 times kind fan expectations series pretty high quite man tell jem thing big secrets one kind predictble also jem took cues sylvia day crossfire series gay best friend nickname baby girl parental figure takes care said best friend gorgeous airy mothernot bad thing obvious hate it reading much read man</td>\n",
       "      <td>[huge, man, fan, mean, like, ive, read, series, 4, times, kind, fan, expectations, series, pretty, high, quite, man, tell, jem, thing, big, secrets, one, kind, predictble, also, jem, took, cues, sylvia, day, crossfire, series, gay, best, friend, nickname, baby, girl, parental, figure, takes, care, said, best, friend, gorgeous, airy, mothernot, bad, thing, obvious, hate, it, reading, much, read, man]</td>\n",
       "    </tr>\n",
       "    <tr>\n",
       "      <th>...</th>\n",
       "      <td>...</td>\n",
       "      <td>...</td>\n",
       "      <td>...</td>\n",
       "      <td>...</td>\n",
       "      <td>...</td>\n",
       "      <td>...</td>\n",
       "    </tr>\n",
       "    <tr>\n",
       "      <th>32178</th>\n",
       "      <td>1.00</td>\n",
       "      <td>0.00</td>\n",
       "      <td>1</td>\n",
       "      <td>Even though this book is kinda short, it is packed with awesome information. It is all about how you can 'rewire' your brain to become a happier and more productive being.\\nIt is not just about this 'think positive'- clich but offers tools that have the potential to actually work.\\nStill, it is not too complicated. The brain might be the most complex organ in our body, but this book manages to describe the relevant things in a way an average person can understand.</td>\n",
       "      <td>even though book kinda short packed awesome information rewire brain become happier productive beingit think positive clich offers tools potential actually workstill complicated brain might complex organ body book manages describe relevant things way average person understand</td>\n",
       "      <td>[even, though, book, kinda, short, packed, awesome, information, rewire, brain, become, happier, productive, beingit, think, positive, clich, offers, tools, potential, actually, workstill, complicated, brain, might, complex, organ, body, book, manages, describe, relevant, things, way, average, person, understand]</td>\n",
       "    </tr>\n",
       "    <tr>\n",
       "      <th>32179</th>\n",
       "      <td>1.00</td>\n",
       "      <td>1.00</td>\n",
       "      <td>1</td>\n",
       "      <td>Perfect for a larger cat! This works for our Buddy who is bigger than a small dog. He loves it! Had the same one for 4 years until he schredded the scratch posts.</td>\n",
       "      <td>perfect larger cat works buddy bigger small dog loves it one 4 years schredded scratch posts</td>\n",
       "      <td>[perfect, larger, cat, works, buddy, bigger, small, dog, loves, it, one, 4, years, schredded, scratch, posts]</td>\n",
       "    </tr>\n",
       "    <tr>\n",
       "      <th>32180</th>\n",
       "      <td>0.00</td>\n",
       "      <td>0.00</td>\n",
       "      <td>0</td>\n",
       "      <td>This item was suggested as a refill for the product I brought. Doesn't fit and no instructions on how to replace even if it did  fit the stamp I brought</td>\n",
       "      <td>item suggested refill product brought fit instructions replace even  fit stamp brought</td>\n",
       "      <td>[item, suggested, refill, product, brought, fit, instructions, replace, even, , fit, stamp, brought]</td>\n",
       "    </tr>\n",
       "    <tr>\n",
       "      <th>32181</th>\n",
       "      <td>1.00</td>\n",
       "      <td>1.00</td>\n",
       "      <td>1</td>\n",
       "      <td>Great company to do business with. Item gets me about 15 hd channels. Easy to hook up. Highly recommended</td>\n",
       "      <td>great company business with item gets 15 hd channels easy hook up highly recommended</td>\n",
       "      <td>[great, company, business, with, item, gets, 15, hd, channels, easy, hook, up, highly, recommended]</td>\n",
       "    </tr>\n",
       "    <tr>\n",
       "      <th>32182</th>\n",
       "      <td>0.00</td>\n",
       "      <td>0.00</td>\n",
       "      <td>0</td>\n",
       "      <td>Very disappointed most reviews say this was too big so I ordered 6-12 month for my 10 month old. It was too little, the boots were way too big, and the beard would not stay attached to the hat.  Barely got his arms through the sleeves. My baby is not a big baby either.  Really wished I would've tried this on him early so I could e returned this. Costume is super cute though!</td>\n",
       "      <td>disappointed reviews say big ordered 612 month 10 month old little boots way big beard would stay attached hat  barely got arms sleeves baby big baby either  really wished wouldve tried early could e returned this costume super cute though</td>\n",
       "      <td>[disappointed, reviews, say, big, ordered, 612, month, 10, month, old, little, boots, way, big, beard, would, stay, attached, hat, , barely, got, arms, sleeves, baby, big, baby, either, , really, wished, wouldve, tried, early, could, e, returned, this, costume, super, cute, though]</td>\n",
       "    </tr>\n",
       "  </tbody>\n",
       "</table>\n",
       "<p>32183 rows × 6 columns</p>\n",
       "</div>"
      ],
      "text/plain": [
       "       actual  predicted  sentiment  \\\n",
       "0        0.00       0.00          0   \n",
       "1        0.00       0.00          0   \n",
       "2        0.00       0.00          0   \n",
       "3        0.00       0.00          0   \n",
       "4        0.00       1.00          0   \n",
       "...       ...        ...        ...   \n",
       "32178    1.00       0.00          1   \n",
       "32179    1.00       1.00          1   \n",
       "32180    0.00       0.00          0   \n",
       "32181    1.00       1.00          1   \n",
       "32182    0.00       0.00          0   \n",
       "\n",
       "                                                                                                                                                                                                                                                                                                                                                                                                                                                                                                                                                                           reviewText  \\\n",
       "0                                                                                                                                                                                                                                                                                                                                                                                                                                                    It seems like if you bump these at all, the suction comes loose, so don't rummage around in your fridge!  Not a very secure lid.   \n",
       "1                                                                                                                                                                                                                                                                                                                                                                                                                                                                                                         Iv tried everything to get this thing to link with my truck just don't work   \n",
       "2      A lot of the reviews say that it smells really bad. While I do smell the smell, it wasn't all that bad to me and it goes away after a while. I don't know if I just have a bad sense of smell or what but it wasn't a big deal to me. It works well as a case, but my only problem is that there aren't a lot of good pockets for games. There are two smaller pockets, but I can't put all my games in there because they could fall out (which would make me really sad!). It keeps my 2ds safe though which is the most important part. For the price is was pretty decent.   \n",
       "3                                                                                                                                                                                                                                                                                     This pencil sucks... It reminds me of a pencil or pen you get when you buy a cheap purse or day planner, no eraser.. For the price of this pen you can buy a set of 3 really nice pencils. Awkward to hold and it is slippery, I took a file and scratched it up just to keep it from slipping.   \n",
       "4           I am a HUGE This Man fan, I mean like I've read the series 4 times kind of fan! So my expectations for this series were pretty high! It wasn't quite up there with This Man, I can tell JEM has a thing for big secrets, this one was kind of predictble. Also, JEM took some cues from Sylvia Day and her Crossfire series. Gay best friend, nickname Baby Girl, parental figure who takes care of said best friend, gorgeous 'airy' mother...not that it's a bad thing but it was very obvious. I didn't hate it, but I won't be reading it as much as I read This Man.   \n",
       "...                                                                                                                                                                                                                                                                                                                                                                                                                                                                                                                                                                               ...   \n",
       "32178                                                                                            Even though this book is kinda short, it is packed with awesome information. It is all about how you can 'rewire' your brain to become a happier and more productive being.\\nIt is not just about this 'think positive'- clich but offers tools that have the potential to actually work.\\nStill, it is not too complicated. The brain might be the most complex organ in our body, but this book manages to describe the relevant things in a way an average person can understand.   \n",
       "32179                                                                                                                                                                                                                                                                                                                                                                                                              Perfect for a larger cat! This works for our Buddy who is bigger than a small dog. He loves it! Had the same one for 4 years until he schredded the scratch posts.   \n",
       "32180                                                                                                                                                                                                                                                                                                                                                                                                                        This item was suggested as a refill for the product I brought. Doesn't fit and no instructions on how to replace even if it did  fit the stamp I brought   \n",
       "32181                                                                                                                                                                                                                                                                                                                                                                                                                                                                       Great company to do business with. Item gets me about 15 hd channels. Easy to hook up. Highly recommended   \n",
       "32182                                                                                                                                                                                       Very disappointed most reviews say this was too big so I ordered 6-12 month for my 10 month old. It was too little, the boots were way too big, and the beard would not stay attached to the hat.  Barely got his arms through the sleeves. My baby is not a big baby either.  Really wished I would've tried this on him early so I could e returned this. Costume is super cute though!   \n",
       "\n",
       "                                                                                                                                                                                                                                                                                                                                                     text_nosw  \\\n",
       "0                                                                                                                                                                                                                                                                                   seems like bump all suction comes loose rummage around fridge  secure lid    \n",
       "1                                                                                                                                                                                                                                                                                                               iv tried everything get thing link truck work    \n",
       "2                                                                        lot reviews say smells really bad smell smell bad goes away while know bad sense smell big deal me works well case problem lot good pockets games two smaller pockets cant put games could fall which would make really sad keeps 2ds safe though important part price pretty decent    \n",
       "3                                                                                                                                                                                      pencil sucks reminds pencil pen get buy cheap purse day planner eraser price pen buy set 3 really nice pencils awkward hold slippery took file scratched keep slipping    \n",
       "4      huge man fan mean like ive read series 4 times kind fan expectations series pretty high quite man tell jem thing big secrets one kind predictble also jem took cues sylvia day crossfire series gay best friend nickname baby girl parental figure takes care said best friend gorgeous airy mothernot bad thing obvious hate it reading much read man    \n",
       "...                                                                                                                                                                                                                                                                                                                                                        ...   \n",
       "32178                                                                    even though book kinda short packed awesome information rewire brain become happier productive beingit think positive clich offers tools potential actually workstill complicated brain might complex organ body book manages describe relevant things way average person understand    \n",
       "32179                                                                                                                                                                                                                                                            perfect larger cat works buddy bigger small dog loves it one 4 years schredded scratch posts    \n",
       "32180                                                                                                                                                                                                                                                                  item suggested refill product brought fit instructions replace even  fit stamp brought    \n",
       "32181                                                                                                                                                                                                                                                                    great company business with item gets 15 hd channels easy hook up highly recommended    \n",
       "32182                                                                                                         disappointed reviews say big ordered 612 month 10 month old little boots way big beard would stay attached hat  barely got arms sleeves baby big baby either  really wished wouldve tried early could e returned this costume super cute though    \n",
       "\n",
       "                                                                                                                                                                                                                                                                                                                                                                                                               split_text  \n",
       "0                                                                                                                                                                                                                                                                                                                                 [seems, like, bump, all, suction, comes, loose, rummage, around, fridge, , secure, lid]  \n",
       "1                                                                                                                                                                                                                                                                                                                                                                  [iv, tried, everything, get, thing, link, truck, work]  \n",
       "2                                                                                  [lot, reviews, say, smells, really, bad, smell, smell, bad, goes, away, while, know, bad, sense, smell, big, deal, me, works, well, case, problem, lot, good, pockets, games, two, smaller, pockets, cant, put, games, could, fall, which, would, make, really, sad, keeps, 2ds, safe, though, important, part, price, pretty, decent]  \n",
       "3                                                                                                                                                                                                                     [pencil, sucks, reminds, pencil, pen, get, buy, cheap, purse, day, planner, eraser, price, pen, buy, set, 3, really, nice, pencils, awkward, hold, slippery, took, file, scratched, keep, slipping]  \n",
       "4      [huge, man, fan, mean, like, ive, read, series, 4, times, kind, fan, expectations, series, pretty, high, quite, man, tell, jem, thing, big, secrets, one, kind, predictble, also, jem, took, cues, sylvia, day, crossfire, series, gay, best, friend, nickname, baby, girl, parental, figure, takes, care, said, best, friend, gorgeous, airy, mothernot, bad, thing, obvious, hate, it, reading, much, read, man]  \n",
       "...                                                                                                                                                                                                                                                                                                                                                                                                                   ...  \n",
       "32178                                                                                          [even, though, book, kinda, short, packed, awesome, information, rewire, brain, become, happier, productive, beingit, think, positive, clich, offers, tools, potential, actually, workstill, complicated, brain, might, complex, organ, body, book, manages, describe, relevant, things, way, average, person, understand]  \n",
       "32179                                                                                                                                                                                                                                                                                                       [perfect, larger, cat, works, buddy, bigger, small, dog, loves, it, one, 4, years, schredded, scratch, posts]  \n",
       "32180                                                                                                                                                                                                                                                                                                                [item, suggested, refill, product, brought, fit, instructions, replace, even, , fit, stamp, brought]  \n",
       "32181                                                                                                                                                                                                                                                                                                                 [great, company, business, with, item, gets, 15, hd, channels, easy, hook, up, highly, recommended]  \n",
       "32182                                                                                                                          [disappointed, reviews, say, big, ordered, 612, month, 10, month, old, little, boots, way, big, beard, would, stay, attached, hat, , barely, got, arms, sleeves, baby, big, baby, either, , really, wished, wouldve, tried, early, could, e, returned, this, costume, super, cute, though]  \n",
       "\n",
       "[32183 rows x 6 columns]"
      ]
     },
     "execution_count": 61,
     "metadata": {},
     "output_type": "execute_result"
    }
   ],
   "source": [
    "def display_test_predictions(labels_and_preds):\n",
    "    from pyspark.sql.functions import monotonically_increasing_id\n",
    "\n",
    "    labels_and_preds = labels_and_preds.toDF()\n",
    "\n",
    "    df1 = tokenized_test.withColumn(\"id\", monotonically_increasing_id())\n",
    "\n",
    "    df2 = labels_and_preds.withColumn(\"id\", monotonically_increasing_id())\n",
    "\n",
    "    return df2.join(df1, \"id\", \"outer\").drop(\"id\")\n",
    "\n",
    "\n",
    "display_test_predictions(labels_and_preds_SVM).toPandas()"
   ]
  },
  {
   "cell_type": "markdown",
   "metadata": {},
   "source": [
    "### Test Word2Vec with SVM"
   ]
  },
  {
   "cell_type": "markdown",
   "metadata": {},
   "source": [
    "Not sure why Word2Vec performs so terribly with SVM"
   ]
  },
  {
   "cell_type": "code",
   "execution_count": 56,
   "metadata": {},
   "outputs": [
    {
     "name": "stdout",
     "output_type": "stream",
     "text": [
      "SVM accuracy on train dataset with word2vec is 0.49262286133162814\n",
      "SVM accuracy on test dataset with word2vec is 0.4915949414287046\n"
     ]
    }
   ],
   "source": [
    "model_train_SVM_vec = SVMWithSGD.train(train_dataset_vec)\n",
    "train_accuracy = test(model_train_SVM_vec, train_dataset_vec)\n",
    "print(\"SVM accuracy on train dataset with word2vec is {}\".format(train_accuracy))\n",
    "accuracy = test(model_train_SVM_vec, test_dataset_vec)\n",
    "print(\"SVM accuracy on test dataset with word2vec is {}\".format(accuracy))"
   ]
  },
  {
   "cell_type": "markdown",
   "metadata": {},
   "source": [
    "### Test CountVectorizer with SVM"
   ]
  },
  {
   "cell_type": "code",
   "execution_count": 57,
   "metadata": {},
   "outputs": [
    {
     "name": "stdout",
     "output_type": "stream",
     "text": [
      "SVM accuracy on train dataset with CountVectorizer is 0.8368919319369278\n",
      "SVM accuracy on test dataset with CountVectorizer is 0.8195009787776155\n"
     ]
    }
   ],
   "source": [
    "model_train_SVM_cv = SVMWithSGD.train(count_vec_train)\n",
    "train_accuracy = test(model_train_SVM_cv, count_vec_train)\n",
    "print(\"SVM accuracy on train dataset with CountVectorizer is {}\".format(train_accuracy))\n",
    "accuracy = test(model_train_SVM_cv, count_vec_test)\n",
    "print(\"SVM accuracy on test dataset with CountVectorizer is {}\".format(accuracy))"
   ]
  },
  {
   "cell_type": "markdown",
   "metadata": {},
   "source": [
    "### SVM More Stats"
   ]
  },
  {
   "cell_type": "code",
   "execution_count": 58,
   "metadata": {
    "application/vnd.databricks.v1+cell": {
     "inputWidgets": {},
     "nuid": "8392e2b8-abaa-48fd-ac48-47d32f655253",
     "showTitle": false,
     "title": ""
    }
   },
   "outputs": [
    {
     "data": {
      "image/png": "[encoded data removed]",
      "text/plain": [
       "<Figure size 640x480 with 1 Axes>"
      ]
     },
     "metadata": {},
     "output_type": "display_data"
    }
   ],
   "source": [
    "objects = ('Training Accuracy', 'Testing Accuracy')\n",
    "y_pos = np.arange(len(objects))\n",
    "performance = [accuracy_SVM * 100, accu_SVM]\n",
    "plt.bar(y_pos, performance, align='center', alpha=0.5)\n",
    "plt.xticks(y_pos, objects)\n",
    "plt.xlabel('Classifications')\n",
    "plt.ylabel('Accuracy')\n",
    "plt.title('Support Vector Machine Classifier - Accuracies')\n",
    "\n",
    "plt.show()"
   ]
  },
  {
   "cell_type": "code",
   "execution_count": 63,
   "metadata": {
    "application/vnd.databricks.v1+cell": {
     "inputWidgets": {},
     "nuid": "2a4fe88b-96ec-4bd1-a4a4-b01c2bd48ae1",
     "showTitle": false,
     "title": ""
    }
   },
   "outputs": [
    {
     "name": "stdout",
     "output_type": "stream",
     "text": [
      "\n",
      "Summary Stats_SVM\n",
      "\n",
      "Class 0 precision_SVM = 0.8152906754865793\n",
      "Class 0 recall_SVM = 0.7834005622784501\n",
      "Class 0 F1 Measure_SVM = 0.7990275526742301\n",
      "Class 1 precision_SVM = 0.7847032379563817\n",
      "Class 1 recall_SVM = 0.8164464951646546\n",
      "Class 1 F1 Measure_SVM = 0.8002602069264606\n",
      "\n",
      "Avg/Weighted recall_SVM = 0.7996457757201006\n",
      "Avg/Weighted precision_SVM = 0.8002540459254677\n",
      "Avg/Weighted F(1) Score_SVM = 0.7996335192691573\n",
      "\n",
      "Confusion matrix_SVM=\n",
      "[[12818.  3544.]\n",
      " [ 2904. 12917.]]\n",
      "\n",
      "\n",
      "Area under ROC_SVM = 0.7999235287215525\n"
     ]
    }
   ],
   "source": [
    "metrics = MulticlassMetrics(labels_and_preds_SVM.map(\n",
    "    lambda x: (x[\"predicted\"], x[\"actual\"])))\n",
    "# Overall statistics\n",
    "print(\"\\nSummary Stats_SVM\\n\")\n",
    "# Statistics by class\n",
    "labels = (sc.parallelize(\n",
    "    [row[0] for row in sampled_test_reviews.collect()])).distinct().collect()\n",
    "for label in sorted(labels):\n",
    "    print(\"Class %s precision_SVM = %s\" % (label, metrics.precision(label)))\n",
    "    print(\"Class %s recall_SVM = %s\" % (label, metrics.recall(label)))\n",
    "    print(\"Class %s F1 Measure_SVM = %s\" %\n",
    "          (label, metrics.fMeasure(float(label), beta=1.0)))\n",
    "\n",
    "# Weighted stats\n",
    "print(\"\\nAvg/Weighted recall_SVM = %s\" % metrics.weightedRecall)\n",
    "print(\"Avg/Weighted precision_SVM = %s\" % metrics.weightedPrecision)\n",
    "print(\"Avg/Weighted F(1) Score_SVM = %s\" % metrics.weightedFMeasure())\n",
    "\n",
    "cm = metrics.confusionMatrix().toArray()\n",
    "print(\"\\nConfusion matrix_SVM=\")\n",
    "print(cm)\n",
    "print(\"\\n\")\n",
    "metrics2 = BinaryClassificationMetrics(\n",
    "    labels_and_preds_SVM.map(lambda x: (x[\"predicted\"], x[\"actual\"])))\n",
    "\n",
    "# Area under ROC curve\n",
    "print(\"Area under ROC_SVM = %s\" % metrics2.areaUnderROC)"
   ]
  },
  {
   "cell_type": "markdown",
   "metadata": {},
   "source": [
    "# Summary"
   ]
  },
  {
   "cell_type": "markdown",
   "metadata": {},
   "source": [
    "All the models performed within 3% accuracy of each other on the test set, so there is no clear winner. However, Naive Bayes gives a good baseline, but there is not really any hyper parameters to tune so we can probably get higher accuracy using Logistic regression or SVM. The purpose of this model is to train using the labeled amazon reviews and once we are happy on it's accuracy with the Amazon reviews, we can use it in a domain where there are no labels, such as determining the sentiment regarding a certain topic on Twitter. Given more time, using an LSTM RNN, Long Short-Term Memory Recurrent Neural Network, may have provided even better results as those models can generally learn more context in the reviews. Also, only a small sample of the full dataset was used to be able to run on one computer. If the full dataset was used on a cluster of computers, much better performance would most likely be obtained"
   ]
  },
  {
   "cell_type": "markdown",
   "metadata": {},
   "source": [
    "# Further tuning"
   ]
  },
  {
   "cell_type": "markdown",
   "metadata": {},
   "source": [
    "I chose the SVM model to try to tune further to get the highest accuracy"
   ]
  },
  {
   "cell_type": "code",
   "execution_count": 64,
   "metadata": {},
   "outputs": [],
   "source": [
    "# Try count vectorizer instead of Hashing TF\n",
    "from pyspark.ml.feature import CountVectorizer\n",
    "\n",
    "# now make n-gram input\n",
    "train_gram_df = comp_ngram(tokenized_train, ngram=2)\n",
    "test_gram_df = comp_ngram(tokenized_test, ngram=2)\n",
    "\n",
    "\n",
    "# now make term frequency vectors out of data frame to feed machine\n",
    "count_vectorizer = CountVectorizer(\n",
    "    vocabSize=20000, inputCol=\"split_text\", outputCol=\"tf\")\n",
    "train_cv_model = count_vectorizer.fit(tokenized_train)\n",
    "train_cv = train_cv_model.transform(tokenized_train)\n",
    "test_cv = train_cv_model.transform(tokenized_test)\n",
    "\n",
    "# tf-idf\n",
    "train_idfModel = CompIDF(train_cv)\n",
    "test_idfModel = CompIDF(test_cv)\n",
    "\n",
    "tfidf_train = CompTFIDF(train_cv, train_idfModel)\n",
    "tfidf_test = CompTFIDF(test_cv, test_idfModel)"
   ]
  },
  {
   "cell_type": "code",
   "execution_count": 65,
   "metadata": {},
   "outputs": [],
   "source": [
    "train_dataset_cv = tfidf_train.rdd.map(lambda x: LabeledPoint(\n",
    "    float(x.sentiment), MLLibVectors.fromML(x.idftf)))\n",
    "test_dataset_cv = tfidf_test.rdd.map(lambda x: LabeledPoint(\n",
    "    float(x.sentiment), MLLibVectors.fromML(x.idftf)))"
   ]
  },
  {
   "cell_type": "code",
   "execution_count": null,
   "metadata": {},
   "outputs": [],
   "source": [
    "model_train_SVM = SVMWithSGD.train(\n",
    "    train_dataset_cv, iterations=400, miniBatchFraction=0.5, regParam=0)\n",
    "accuracy_SVM = test(model_train_SVM, train_dataset_cv)\n",
    "print(\"TRAINING ACCURACY:-\\n\")\n",
    "print(\"The accuracy for the training dataset tested on the training data itself using SVM is\", accuracy_SVM, \"%\")\n",
    "print(\"\\n\")"
   ]
  },
  {
   "cell_type": "code",
   "execution_count": null,
   "metadata": {},
   "outputs": [],
   "source": [
    "labels_and_preds_SVM, accu_SVM = test_final(model_train_SVM, test_dataset_cv)\n",
    "\n",
    "print(\"TESTING ACCURACY:-\\n\")\n",
    "\n",
    "print(\"The accuracy for the testing dataset using SVM is\", accu_SVM, \"%\")\n",
    "\n",
    "print(\"\\n\")"
   ]
  },
  {
   "cell_type": "markdown",
   "metadata": {},
   "source": [
    "The best accuracy I was able to get was 82%"
   ]
  },
  {
   "cell_type": "code",
   "execution_count": null,
   "metadata": {},
   "outputs": [],
   "source": []
  }
 ],
 "metadata": {
  "application/vnd.databricks.v1+notebook": {
   "dashboards": [],
   "language": "python",
   "notebookName": "SENG550Project",
   "notebookOrigID": 3731395440371343,
   "widgets": {}
  },
  "kernelspec": {
   "display_name": "Python 3",
   "language": "python",
   "name": "python3"
  },
  "language_info": {
   "codemirror_mode": {
    "name": "ipython",
    "version": 3
   },
   "file_extension": ".py",
   "mimetype": "text/x-python",
   "name": "python",
   "nbconvert_exporter": "python",
   "pygments_lexer": "ipython3",
   "version": "3.6.9"
  },
  "toc": {
   "base_numbering": 1,
   "nav_menu": {},
   "number_sections": true,
   "sideBar": true,
   "skip_h1_title": false,
   "title_cell": "Table of Contents",
   "title_sidebar": "Contents",
   "toc_cell": false,
   "toc_position": {},
   "toc_section_display": true,
   "toc_window_display": false
  }
 },
 "nbformat": 4,
 "nbformat_minor": 1
}
