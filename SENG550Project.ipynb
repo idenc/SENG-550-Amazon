{
 "cells": [
  {
   "cell_type": "code",
   "execution_count": 1,
   "metadata": {},
   "outputs": [],
   "source": [
    "import os\n",
    "\n",
    "os.environ['HADOOP_HOME'] = r'/home/ubuntu/spark-2.4.7-bin-hadoop2.7/hadoop-2.7.0/'\n",
    "os.environ['HADOOP_COMMON_LIB_NATIVE_DIR'] = os.environ['HADOOP_HOME'] +'/lib/native'\n",
    "os.environ['HADOOP_OPTS'] = \"-Djava.library.path={}/lib\".format(os.environ['HADOOP_HOME'])\n"
   ]
  },
  {
   "cell_type": "code",
   "execution_count": 2,
   "metadata": {},
   "outputs": [],
   "source": [
    "from pyspark.sql.functions import from_unixtime, to_date, year, udf, explode, split, col, length, rank, dense_rank, avg, sum\n",
    "from pyspark.sql import SparkSession\n",
    "import sparknlp\n",
    "import pandas as pd\n",
    "pd.set_option('display.max_columns', 100, 'display.max_colwidth', 1000, 'display.max_rows', 1000,\n",
    "              'display.float_format', lambda x: '%.2f' % x)\n",
    "\n",
    "spark = SparkSession.builder \\\n",
    "    .master(\"local[*]\")\\\n",
    "    .config(\"spark.driver.memory\", \"4G\")\\\n",
    "    .config(\"spark.driver.maxResultSize\", \"2G\") \\\n",
    "    .config(\"spark.jars.packages\", \"com.johnsnowlabs.nlp:spark-nlp_2.11:2.4.5\")\\\n",
    "    .config(\"spark.kryoserializer.buffer.max\", \"1G\")\\\n",
    "    .getOrCreate()"
   ]
  },
  {
   "cell_type": "code",
   "execution_count": 3,
   "metadata": {
    "application/vnd.databricks.v1+cell": {
     "inputWidgets": {},
     "nuid": "58fe338b-2203-40c9-8b14-5bb9577087c6",
     "showTitle": false,
     "title": ""
    }
   },
   "outputs": [
    {
     "data": {
      "text/plain": [
       "'2.6.3'"
      ]
     },
     "execution_count": 3,
     "metadata": {},
     "output_type": "execute_result"
    }
   ],
   "source": [
    "import tempfile\n",
    "import os\n",
    "import sparknlp\n",
    "from textblob import TextBlob\n",
    "from wordcloud import WordCloud\n",
    "from collections import Counter\n",
    "from nltk.corpus import stopwords\n",
    "import seaborn as sns\n",
    "import matplotlib.pyplot as plt\n",
    "import random\n",
    "import string\n",
    "import csv\n",
    "import numpy as np\n",
    "from pyspark.ml import Pipeline\n",
    "from pyspark.mllib.evaluation import MulticlassMetrics, BinaryClassificationMetrics\n",
    "from pyspark.mllib.tree import DecisionTree, DecisionTreeModel\n",
    "from pyspark.mllib.regression import LabeledPoint\n",
    "from pyspark.mllib.linalg import Vectors\n",
    "from pyspark.mllib.classification import NaiveBayes, NaiveBayesModel, SVMWithSGD, LogisticRegressionWithSGD\n",
    "from pyspark.ml.feature import HashingTF, Tokenizer\n",
    "\n",
    "%matplotlib inline\n",
    "# If difficulty in import sc or SparkContext Manually\n",
    "# Please uncomment the following to do so\n",
    "#import pyspark\n",
    "#sc = pyspark.SparkContext('local[*]')\n",
    "\n",
    "plt.rcdefaults()\n",
    "\n",
    "\n",
    "sparknlp.version()  # This is from JohnSnowLab"
   ]
  },
  {
   "cell_type": "code",
   "execution_count": 4,
   "metadata": {},
   "outputs": [],
   "source": [
    "def load_json(file_location):\n",
    "    file_type = \"json\"\n",
    "\n",
    "    # CSV options\n",
    "    infer_schema = \"false\"\n",
    "    first_row_is_header = \"false\"\n",
    "    delimiter = \",\"\n",
    "\n",
    "    # The applied options are for CSV files. For other file types, these will be ignored.\n",
    "    return spark.read.format(file_type) \\\n",
    "        .option(\"inferSchema\", infer_schema) \\\n",
    "        .option(\"header\", first_row_is_header) \\\n",
    "        .option(\"sep\", delimiter) \\\n",
    "        .load(file_location)"
   ]
  },
  {
   "cell_type": "markdown",
   "metadata": {},
   "source": [
    "Load training data"
   ]
  },
  {
   "cell_type": "code",
   "execution_count": 5,
   "metadata": {
    "application/vnd.databricks.v1+cell": {
     "inputWidgets": {},
     "nuid": "6482be4c-f067-47c9-b0ac-35c938b94601",
     "showTitle": false,
     "title": ""
    }
   },
   "outputs": [],
   "source": [
    "train_reviews = load_json(\"/home/ubuntu/notebooks/sample_amazon_review_5_train.json\")"
   ]
  },
  {
   "cell_type": "markdown",
   "metadata": {},
   "source": [
    "Load testing data"
   ]
  },
  {
   "cell_type": "code",
   "execution_count": 6,
   "metadata": {},
   "outputs": [],
   "source": [
    "test_reviews = load_json(\"/home/ubuntu/notebooks/sampled_amazon_review_5_val.json\")"
   ]
  },
  {
   "cell_type": "code",
   "execution_count": 7,
   "metadata": {},
   "outputs": [
    {
     "data": {
      "text/plain": [
       "DataFrame[asin: string, image: array<string>, overall: double, reviewText: string, reviewTime: string, reviewerID: string, reviewerName: string, style: struct<Capacity::string,Color Name::string,Color::string,Colorj::string,Configuration::string,Connectivity::string,Design::string,Diameter::string,Digital Storage Capacity::string,Display Height::string,Edition::string,Flavor Name::string,Flavor::string,Flex::string,Format::string,Gem Type::string,Gift Amount::string,Grip Type::string,Hand Orientation::string,Item Display Length::string,Item Display Weight::string,Item Package Quantity::string,Item Shape::string,Length::string,Loft::string,Material Type::string,Material::string,Metal Stamp::string,Metal Type::string,Model Number::string,Model::string,Number of Items::string,Offer Type::string,Outside Diameter::string,Overall Length::string,Package Quantity::string,Package Type::string,Part Number::string,Pattern::string,Platform for Display::string,Platform::string,Preamplifier Output Channel Quantity::string,Primary Stone Gem Type::string,Product Packaging::string,Scent Name::string,Scent::string,Service plan term::string,Shaft Material::string,Shape::string,Size Name::string,Size per Pearl::string,Size::string,Style Name::string,Style::string,Subscription Length::string,Team Name::string,Tension Supported::string,Total Diamond Weight::string,Unit Count::string,Wattage::string,Width::string,processor_description::string,style name::string,style::string>, summary: string, unixReviewTime: bigint, verified: boolean, vote: string]"
      ]
     },
     "execution_count": 7,
     "metadata": {},
     "output_type": "execute_result"
    }
   ],
   "source": [
    "train_reviews.cache()\n",
    "test_reviews.cache()"
   ]
  },
  {
   "cell_type": "code",
   "execution_count": 8,
   "metadata": {
    "application/vnd.databricks.v1+cell": {
     "inputWidgets": {},
     "nuid": "bd82bb99-1479-4d5c-be10-8c36df0f1d44",
     "showTitle": false,
     "title": ""
    }
   },
   "outputs": [],
   "source": [
    "# Create a view of train and test\n",
    "train_reviews.createOrReplaceTempView(\"train_reviews\")\n",
    "test_reviews.createOrReplaceTempView(\"test_reviews\")"
   ]
  },
  {
   "cell_type": "code",
   "execution_count": 9,
   "metadata": {
    "application/vnd.databricks.v1+cell": {
     "inputWidgets": {},
     "nuid": "b5f66379-6f7f-42ec-8e82-d0e0926a1721",
     "showTitle": false,
     "title": ""
    }
   },
   "outputs": [
    {
     "data": {
      "text/html": [
       "<div>\n",
       "<style scoped>\n",
       "    .dataframe tbody tr th:only-of-type {\n",
       "        vertical-align: middle;\n",
       "    }\n",
       "\n",
       "    .dataframe tbody tr th {\n",
       "        vertical-align: top;\n",
       "    }\n",
       "\n",
       "    .dataframe thead th {\n",
       "        text-align: right;\n",
       "    }\n",
       "</style>\n",
       "<table border=\"1\" class=\"dataframe\">\n",
       "  <thead>\n",
       "    <tr style=\"text-align: right;\">\n",
       "      <th></th>\n",
       "      <th>reviewText</th>\n",
       "      <th>overall</th>\n",
       "    </tr>\n",
       "  </thead>\n",
       "  <tbody>\n",
       "    <tr>\n",
       "      <th>0</th>\n",
       "      <td>This is a great start, and a very cool example of the potential of Echo in a connected home.  It's not perfect, though, and I don't get the sense that the Garageio manufacturer is incrementally enhancing this skill - I fear that's it's as good as its going to get.\\n\\nIssue #1\\n\\nEach garage door is given a name.  I have one with my name and one with my wife's name.  Our names are both single syllable, but start with different letters and have completely different phenomes.\\n\\nMe: Alexa, ask garageio to close Dean's door.\\nEcho: Closing Mary's door.\\nMe:  What the heck?!?\\n\\nIt happens all the time, even when standing right next to the Echo.  Sure, I could rename the doors to something that the Echo can distinguish between, but it shouldn't be necessary.  I recognize that this is likely an Amazon thing and not a Garageio thing, but the fact that Echo sits in my house and can't distinguish between the spoken names of two residents in the home is kinda sad.\\n\\nIssue #2\\n\\nWe have thre...</td>\n",
       "      <td>2.00</td>\n",
       "    </tr>\n",
       "    <tr>\n",
       "      <th>1</th>\n",
       "      <td>I've played the game a handful of times and its rare it actually gets my animal right. It takes the same general concept of 21 questions but the pay off is never there.</td>\n",
       "      <td>1.00</td>\n",
       "    </tr>\n",
       "    <tr>\n",
       "      <th>2</th>\n",
       "      <td>I have been using automatic for more than a year and Alexa took it to another next level . This skill can even do more based our historic driving data and also using the driving score.</td>\n",
       "      <td>4.00</td>\n",
       "    </tr>\n",
       "    <tr>\n",
       "      <th>3</th>\n",
       "      <td>Exactly what I needed for my mother!</td>\n",
       "      <td>5.00</td>\n",
       "    </tr>\n",
       "    <tr>\n",
       "      <th>4</th>\n",
       "      <td>It does not tell you when the reruns are on., only the next show you in the series.  Not bad but not usefull if you want to watch sonething like love it or list it or sone other show that does mot need to be the newest show. It woukd also be nice to be able to set your cable company and fet actual channels, yo be hobest if I have to look up what network is on what channel I may as well look up the time too.  Other then those things it does work as stated</td>\n",
       "      <td>3.00</td>\n",
       "    </tr>\n",
       "    <tr>\n",
       "      <th>...</th>\n",
       "      <td>...</td>\n",
       "      <td>...</td>\n",
       "    </tr>\n",
       "    <tr>\n",
       "      <th>359988</th>\n",
       "      <td>Editing has been done and corrections made so the 5 stars are now well and truly worth it. Once again Halloween LaVue has gotten into more trouble than you can shake a stick at, or in this case a wedding dress at. This time though Halloweens mum and BFF are also affected. That doesn't go down well at all.</td>\n",
       "      <td>5.00</td>\n",
       "    </tr>\n",
       "    <tr>\n",
       "      <th>359989</th>\n",
       "      <td>Thank you</td>\n",
       "      <td>5.00</td>\n",
       "    </tr>\n",
       "    <tr>\n",
       "      <th>359990</th>\n",
       "      <td>Beautiful shirt!! It is super cute and fits so nicely. It hangs beautifully on me. Absolutely love it. It isn't to thick and it's not too thin either it is just right and the garments stitching is good. It is a high quality shirt. Absolutely love the material. It is super soft.</td>\n",
       "      <td>5.00</td>\n",
       "    </tr>\n",
       "    <tr>\n",
       "      <th>359991</th>\n",
       "      <td>Top was too big, bottoms too small, cheaply made</td>\n",
       "      <td>1.00</td>\n",
       "    </tr>\n",
       "    <tr>\n",
       "      <th>359992</th>\n",
       "      <td>This is a great book for mental health professionals. I use it with my young clients who have experienced trauma in their lives.  It's strightforward and easy to understand.</td>\n",
       "      <td>5.00</td>\n",
       "    </tr>\n",
       "  </tbody>\n",
       "</table>\n",
       "<p>359993 rows × 2 columns</p>\n",
       "</div>"
      ],
      "text/plain": [
       "                                                                                                                                                                                                                                                                                                                                                                                                                                                                                                                                                                                                                                                                                                                                                                                                                                                                                                                                                                                                                                     reviewText  \\\n",
       "0       This is a great start, and a very cool example of the potential of Echo in a connected home.  It's not perfect, though, and I don't get the sense that the Garageio manufacturer is incrementally enhancing this skill - I fear that's it's as good as its going to get.\\n\\nIssue #1\\n\\nEach garage door is given a name.  I have one with my name and one with my wife's name.  Our names are both single syllable, but start with different letters and have completely different phenomes.\\n\\nMe: Alexa, ask garageio to close Dean's door.\\nEcho: Closing Mary's door.\\nMe:  What the heck?!?\\n\\nIt happens all the time, even when standing right next to the Echo.  Sure, I could rename the doors to something that the Echo can distinguish between, but it shouldn't be necessary.  I recognize that this is likely an Amazon thing and not a Garageio thing, but the fact that Echo sits in my house and can't distinguish between the spoken names of two residents in the home is kinda sad.\\n\\nIssue #2\\n\\nWe have thre...   \n",
       "1                                                                                                                                                                                                                                                                                                                                                                                                                                                                                                                                                                                                                                                                                                                                                                                                                                                                      I've played the game a handful of times and its rare it actually gets my animal right. It takes the same general concept of 21 questions but the pay off is never there.   \n",
       "2                                                                                                                                                                                                                                                                                                                                                                                                                                                                                                                                                                                                                                                                                                                                                                                                                                                      I have been using automatic for more than a year and Alexa took it to another next level . This skill can even do more based our historic driving data and also using the driving score.   \n",
       "3                                                                                                                                                                                                                                                                                                                                                                                                                                                                                                                                                                                                                                                                                                                                                                                                                                                                                                                                                                                                          Exactly what I needed for my mother!   \n",
       "4                                                                                                                                                                                                                                                                                                                                                                                                                                                                                                                                                                    It does not tell you when the reruns are on., only the next show you in the series.  Not bad but not usefull if you want to watch sonething like love it or list it or sone other show that does mot need to be the newest show. It woukd also be nice to be able to set your cable company and fet actual channels, yo be hobest if I have to look up what network is on what channel I may as well look up the time too.  Other then those things it does work as stated   \n",
       "...                                                                                                                                                                                                                                                                                                                                                                                                                                                                                                                                                                                                                                                                                                                                                                                                                                                                                                                                                                                                                                         ...   \n",
       "359988                                                                                                                                                                                                                                                                                                                                                                                                                                                                                                                                                                                                                                                                                                                       Editing has been done and corrections made so the 5 stars are now well and truly worth it. Once again Halloween LaVue has gotten into more trouble than you can shake a stick at, or in this case a wedding dress at. This time though Halloweens mum and BFF are also affected. That doesn't go down well at all.   \n",
       "359989                                                                                                                                                                                                                                                                                                                                                                                                                                                                                                                                                                                                                                                                                                                                                                                                                                                                                                                                                                                                                                Thank you   \n",
       "359990                                                                                                                                                                                                                                                                                                                                                                                                                                                                                                                                                                                                                                                                                                                                                   Beautiful shirt!! It is super cute and fits so nicely. It hangs beautifully on me. Absolutely love it. It isn't to thick and it's not too thin either it is just right and the garments stitching is good. It is a high quality shirt. Absolutely love the material. It is super soft.   \n",
       "359991                                                                                                                                                                                                                                                                                                                                                                                                                                                                                                                                                                                                                                                                                                                                                                                                                                                                                                                                                                                         Top was too big, bottoms too small, cheaply made   \n",
       "359992                                                                                                                                                                                                                                                                                                                                                                                                                                                                                                                                                                                                                                                                                                                                                                                                                                                            This is a great book for mental health professionals. I use it with my young clients who have experienced trauma in their lives.  It's strightforward and easy to understand.   \n",
       "\n",
       "        overall  \n",
       "0          2.00  \n",
       "1          1.00  \n",
       "2          4.00  \n",
       "3          5.00  \n",
       "4          3.00  \n",
       "...         ...  \n",
       "359988     5.00  \n",
       "359989     5.00  \n",
       "359990     5.00  \n",
       "359991     1.00  \n",
       "359992     5.00  \n",
       "\n",
       "[359993 rows x 2 columns]"
      ]
     },
     "execution_count": 9,
     "metadata": {},
     "output_type": "execute_result"
    }
   ],
   "source": [
    "spark.sql('select reviewText, overall from train_reviews').toPandas()"
   ]
  },
  {
   "cell_type": "markdown",
   "metadata": {
    "application/vnd.databricks.v1+cell": {
     "inputWidgets": {},
     "nuid": "0ea05d6a-fa87-49d8-b73f-18a80c328335",
     "showTitle": false,
     "title": ""
    }
   },
   "source": [
    "Filter out null reviews"
   ]
  },
  {
   "cell_type": "code",
   "execution_count": 10,
   "metadata": {
    "application/vnd.databricks.v1+cell": {
     "inputWidgets": {},
     "nuid": "f5786f40-5805-435e-af64-c713762a0a4e",
     "showTitle": false,
     "title": ""
    }
   },
   "outputs": [],
   "source": [
    "train_reviews = train_reviews.filter(train_reviews.reviewText.isNotNull())\n",
    "test_reviews = test_reviews.filter(test_reviews.reviewText.isNotNull())"
   ]
  },
  {
   "cell_type": "markdown",
   "metadata": {
    "application/vnd.databricks.v1+cell": {
     "inputWidgets": {},
     "nuid": "6eb478c1-045d-4754-931e-2e60cc691a3a",
     "showTitle": false,
     "title": ""
    }
   },
   "source": [
    "reviews.createOrReplaceTempView('reviews'): Creates a new temporary view using a SparkDataFrame in the Spark Session. If a temporary view with the same name already exists, replaces it."
   ]
  },
  {
   "cell_type": "code",
   "execution_count": 11,
   "metadata": {
    "application/vnd.databricks.v1+cell": {
     "inputWidgets": {},
     "nuid": "6445adce-7078-4bb6-b75d-9d02e824a904",
     "showTitle": false,
     "title": ""
    }
   },
   "outputs": [],
   "source": [
    "train_reviews.createOrReplaceTempView('train_reviews')\n",
    "test_reviews.createOrReplaceTempView('test_reviews')"
   ]
  },
  {
   "cell_type": "code",
   "execution_count": 12,
   "metadata": {
    "application/vnd.databricks.v1+cell": {
     "inputWidgets": {},
     "nuid": "744fe500-1a57-4e6f-b8d4-5f95d2832c08",
     "showTitle": false,
     "title": ""
    }
   },
   "outputs": [
    {
     "data": {
      "text/html": [
       "<div>\n",
       "<style scoped>\n",
       "    .dataframe tbody tr th:only-of-type {\n",
       "        vertical-align: middle;\n",
       "    }\n",
       "\n",
       "    .dataframe tbody tr th {\n",
       "        vertical-align: top;\n",
       "    }\n",
       "\n",
       "    .dataframe thead th {\n",
       "        text-align: right;\n",
       "    }\n",
       "</style>\n",
       "<table border=\"1\" class=\"dataframe\">\n",
       "  <thead>\n",
       "    <tr style=\"text-align: right;\">\n",
       "      <th></th>\n",
       "      <th>count(1)</th>\n",
       "    </tr>\n",
       "  </thead>\n",
       "  <tbody>\n",
       "    <tr>\n",
       "      <th>0</th>\n",
       "      <td>359835</td>\n",
       "    </tr>\n",
       "  </tbody>\n",
       "</table>\n",
       "</div>"
      ],
      "text/plain": [
       "   count(1)\n",
       "0    359835"
      ]
     },
     "execution_count": 12,
     "metadata": {},
     "output_type": "execute_result"
    }
   ],
   "source": [
    "spark.sql('SELECT COUNT(*) FROM train_reviews').toPandas()"
   ]
  },
  {
   "cell_type": "code",
   "execution_count": 13,
   "metadata": {},
   "outputs": [
    {
     "data": {
      "text/html": [
       "<div>\n",
       "<style scoped>\n",
       "    .dataframe tbody tr th:only-of-type {\n",
       "        vertical-align: middle;\n",
       "    }\n",
       "\n",
       "    .dataframe tbody tr th {\n",
       "        vertical-align: top;\n",
       "    }\n",
       "\n",
       "    .dataframe thead th {\n",
       "        text-align: right;\n",
       "    }\n",
       "</style>\n",
       "<table border=\"1\" class=\"dataframe\">\n",
       "  <thead>\n",
       "    <tr style=\"text-align: right;\">\n",
       "      <th></th>\n",
       "      <th>count(1)</th>\n",
       "    </tr>\n",
       "  </thead>\n",
       "  <tbody>\n",
       "    <tr>\n",
       "      <th>0</th>\n",
       "      <td>89964</td>\n",
       "    </tr>\n",
       "  </tbody>\n",
       "</table>\n",
       "</div>"
      ],
      "text/plain": [
       "   count(1)\n",
       "0     89964"
      ]
     },
     "execution_count": 13,
     "metadata": {},
     "output_type": "execute_result"
    }
   ],
   "source": [
    "spark.sql('SELECT COUNT(*) FROM test_reviews').toPandas()"
   ]
  },
  {
   "cell_type": "markdown",
   "metadata": {
    "application/vnd.databricks.v1+cell": {
     "inputWidgets": {},
     "nuid": "0fcd252e-57c4-427a-9583-2550e707a3a9",
     "showTitle": false,
     "title": ""
    }
   },
   "source": [
    "## Clean Data"
   ]
  },
  {
   "cell_type": "code",
   "execution_count": 14,
   "metadata": {
    "application/vnd.databricks.v1+cell": {
     "inputWidgets": {},
     "nuid": "7ef76b70-5612-40e0-8c6a-3e7fbe4514a9",
     "showTitle": false,
     "title": ""
    }
   },
   "outputs": [],
   "source": [
    "import re\n",
    "from html import unescape\n",
    "\n",
    "sw = stopwords.words(\"english\")\n",
    "\n",
    "\n",
    "def remove_stopwords(x):\n",
    "    string = ''\n",
    "    for x in x.split(' '):\n",
    "        if x.lower() not in sw:\n",
    "            string += x + ' '\n",
    "        else:\n",
    "            pass\n",
    "    return string\n",
    "\n",
    "\n",
    "def lower(text):\n",
    "    return text.lower()\n",
    "\n",
    "\n",
    "def removePunctuation(text):\n",
    "    return re.sub('[^A-Za-z0-9 ]+', '', text)\n",
    "\n",
    "\n",
    "@udf\n",
    "def fixHTML(text):\n",
    "    return unescape(text)\n",
    "\n",
    "\n",
    "# UDF = user defined function\n",
    "nosw = udf(remove_stopwords)\n",
    "rp = udf(removePunctuation)\n",
    "lc = udf(lower)\n",
    "# Register UDF with Spark\n",
    "spark.udf.register(\"nosw\", nosw)\n",
    "spark.udf.register(\"rp\", rp)\n",
    "spark.udf.register(\"lc\", lc)\n",
    "\n",
    "# Creates a new column in reviews which contains the review with no stop words\n",
    "train_reviews = train_reviews.withColumn(\n",
    "    'text_nosw', lc(rp(fixHTML(nosw('reviewText')))))\n",
    "test_reviews = test_reviews.withColumn(\n",
    "    'text_nosw', lc(rp(fixHTML(nosw('reviewText')))))"
   ]
  },
  {
   "cell_type": "markdown",
   "metadata": {},
   "source": [
    "Label reviews"
   ]
  },
  {
   "cell_type": "code",
   "execution_count": 15,
   "metadata": {
    "application/vnd.databricks.v1+cell": {
     "inputWidgets": {},
     "nuid": "6b95b116-06ff-4584-bd4f-82f7c5cecef2",
     "showTitle": false,
     "title": ""
    },
    "scrolled": false
   },
   "outputs": [
    {
     "data": {
      "text/html": [
       "<div>\n",
       "<style scoped>\n",
       "    .dataframe tbody tr th:only-of-type {\n",
       "        vertical-align: middle;\n",
       "    }\n",
       "\n",
       "    .dataframe tbody tr th {\n",
       "        vertical-align: top;\n",
       "    }\n",
       "\n",
       "    .dataframe thead th {\n",
       "        text-align: right;\n",
       "    }\n",
       "</style>\n",
       "<table border=\"1\" class=\"dataframe\">\n",
       "  <thead>\n",
       "    <tr style=\"text-align: right;\">\n",
       "      <th></th>\n",
       "      <th>sentiment</th>\n",
       "      <th>text</th>\n",
       "    </tr>\n",
       "  </thead>\n",
       "  <tbody>\n",
       "    <tr>\n",
       "      <th>0</th>\n",
       "      <td>0</td>\n",
       "      <td>great start cool example potential echo connected home  perfect though get sense garageio manufacturer incrementally enhancing skill  fear thats good going getissue 1each garage door given name  one name one wifes name  names single syllable start different letters completely different phenomesme alexa ask garageio close deans doorecho closing marys doorme  heckit happens time even standing right next echo  sure could rename doors something echo distinguish between necessary  recognize likely amazon thing garageio thing fact echo sits house cant distinguish spoken names two residents home kinda sadissue 2we three garage doors 3 door garageio black box  workalexa ask garageio doors openalexa ask garageio close doorswhats sadly necessaryalexa ask garageio deans door openalexa ask garageio marys door openalexa ask garageio close marys dooryou cant ask garageio doors open ask close doors  ask status door turn  much faster open garageio app scroll door status pages walk outside look gar...</td>\n",
       "    </tr>\n",
       "    <tr>\n",
       "      <th>1</th>\n",
       "      <td>0</td>\n",
       "      <td>ive played game handful times rare actually gets animal right takes general concept 21 questions pay never there</td>\n",
       "    </tr>\n",
       "    <tr>\n",
       "      <th>2</th>\n",
       "      <td>1</td>\n",
       "      <td>using automatic year alexa took another next level  skill even based historic driving data also using driving score</td>\n",
       "    </tr>\n",
       "    <tr>\n",
       "      <th>3</th>\n",
       "      <td>1</td>\n",
       "      <td>exactly needed mother</td>\n",
       "    </tr>\n",
       "    <tr>\n",
       "      <th>4</th>\n",
       "      <td>0</td>\n",
       "      <td>tell reruns on next show series  bad usefull want watch sonething like love list sone show mot need newest show woukd also nice able set cable company fet actual channels yo hobest look network channel may well look time too  things work stated</td>\n",
       "    </tr>\n",
       "    <tr>\n",
       "      <th>...</th>\n",
       "      <td>...</td>\n",
       "      <td>...</td>\n",
       "    </tr>\n",
       "    <tr>\n",
       "      <th>359830</th>\n",
       "      <td>1</td>\n",
       "      <td>editing done corrections made 5 stars well truly worth it halloween lavue gotten trouble shake stick at case wedding dress at time though halloweens mum bff also affected go well all</td>\n",
       "    </tr>\n",
       "    <tr>\n",
       "      <th>359831</th>\n",
       "      <td>1</td>\n",
       "      <td>thank</td>\n",
       "    </tr>\n",
       "    <tr>\n",
       "      <th>359832</th>\n",
       "      <td>1</td>\n",
       "      <td>beautiful shirt super cute fits nicely hangs beautifully me absolutely love it thick thin either right garments stitching good high quality shirt absolutely love material super soft</td>\n",
       "    </tr>\n",
       "    <tr>\n",
       "      <th>359833</th>\n",
       "      <td>0</td>\n",
       "      <td>top big bottoms small cheaply made</td>\n",
       "    </tr>\n",
       "    <tr>\n",
       "      <th>359834</th>\n",
       "      <td>1</td>\n",
       "      <td>great book mental health professionals use young clients experienced trauma lives  strightforward easy understand</td>\n",
       "    </tr>\n",
       "  </tbody>\n",
       "</table>\n",
       "<p>359835 rows × 2 columns</p>\n",
       "</div>"
      ],
      "text/plain": [
       "        sentiment  \\\n",
       "0               0   \n",
       "1               0   \n",
       "2               1   \n",
       "3               1   \n",
       "4               0   \n",
       "...           ...   \n",
       "359830          1   \n",
       "359831          1   \n",
       "359832          1   \n",
       "359833          0   \n",
       "359834          1   \n",
       "\n",
       "                                                                                                                                                                                                                                                                                                                                                                                                                                                                                                                                                                                                                                                                                                                                                                                                                                                                                                                                                                                                                                           text  \n",
       "0       great start cool example potential echo connected home  perfect though get sense garageio manufacturer incrementally enhancing skill  fear thats good going getissue 1each garage door given name  one name one wifes name  names single syllable start different letters completely different phenomesme alexa ask garageio close deans doorecho closing marys doorme  heckit happens time even standing right next echo  sure could rename doors something echo distinguish between necessary  recognize likely amazon thing garageio thing fact echo sits house cant distinguish spoken names two residents home kinda sadissue 2we three garage doors 3 door garageio black box  workalexa ask garageio doors openalexa ask garageio close doorswhats sadly necessaryalexa ask garageio deans door openalexa ask garageio marys door openalexa ask garageio close marys dooryou cant ask garageio doors open ask close doors  ask status door turn  much faster open garageio app scroll door status pages walk outside look gar...  \n",
       "1                                                                                                                                                                                                                                                                                                                                                                                                                                                                                                                                                                                                                                                                                                                                                                                                                                                                                                                             ive played game handful times rare actually gets animal right takes general concept 21 questions pay never there   \n",
       "2                                                                                                                                                                                                                                                                                                                                                                                                                                                                                                                                                                                                                                                                                                                                                                                                                                                                                                                          using automatic year alexa took another next level  skill even based historic driving data also using driving score   \n",
       "3                                                                                                                                                                                                                                                                                                                                                                                                                                                                                                                                                                                                                                                                                                                                                                                                                                                                                                                                                                                                                        exactly needed mother   \n",
       "4                                                                                                                                                                                                                                                                                                                                                                                                                                                                                                                                                                                                                                                                                                                                                                                         tell reruns on next show series  bad usefull want watch sonething like love list sone show mot need newest show woukd also nice able set cable company fet actual channels yo hobest look network channel may well look time too  things work stated   \n",
       "...                                                                                                                                                                                                                                                                                                                                                                                                                                                                                                                                                                                                                                                                                                                                                                                                                                                                                                                                                                                                                                         ...  \n",
       "359830                                                                                                                                                                                                                                                                                                                                                                                                                                                                                                                                                                                                                                                                                                                                                                                                                                                  editing done corrections made 5 stars well truly worth it halloween lavue gotten trouble shake stick at case wedding dress at time though halloweens mum bff also affected go well all   \n",
       "359831                                                                                                                                                                                                                                                                                                                                                                                                                                                                                                                                                                                                                                                                                                                                                                                                                                                                                                                                                                                                                                   thank   \n",
       "359832                                                                                                                                                                                                                                                                                                                                                                                                                                                                                                                                                                                                                                                                                                                                                                                                                                                   beautiful shirt super cute fits nicely hangs beautifully me absolutely love it thick thin either right garments stitching good high quality shirt absolutely love material super soft   \n",
       "359833                                                                                                                                                                                                                                                                                                                                                                                                                                                                                                                                                                                                                                                                                                                                                                                                                                                                                                                                                                                                      top big bottoms small cheaply made   \n",
       "359834                                                                                                                                                                                                                                                                                                                                                                                                                                                                                                                                                                                                                                                                                                                                                                                                                                                                                                                       great book mental health professionals use young clients experienced trauma lives  strightforward easy understand   \n",
       "\n",
       "[359835 rows x 2 columns]"
      ]
     },
     "execution_count": 15,
     "metadata": {},
     "output_type": "execute_result"
    }
   ],
   "source": [
    "from pyspark.sql.functions import lit, when, col, regexp_extract\n",
    "\n",
    "# label all reviews with greater than 3 stars as a positive review (1), else negative (0)\n",
    "labelled_train = train_reviews.withColumn(\n",
    "    'overall', when(col(\"overall\") > 3, 1).otherwise(0))\n",
    "labelled_test = test_reviews.withColumn(\n",
    "    'overall', when(col(\"overall\") > 3, 1).otherwise(0))\n",
    "# Drop all columns except reviewText and sentiment label\n",
    "labelled_train = labelled_train.select(\n",
    "    [c for c in labelled_train.columns if c in {'text_nosw', 'overall'}])\n",
    "labelled_test = labelled_test.select(\n",
    "    [c for c in labelled_test.columns if c in {'text_nosw', 'overall'}])\n",
    "\n",
    "# Rename text_nosw to text and overall to sentiment\n",
    "labelled_train = labelled_train.withColumnRenamed(\n",
    "    \"text_nosw\", \"text\").withColumnRenamed(\"overall\", \"sentiment\")\n",
    "labelled_test = labelled_test.withColumnRenamed(\n",
    "    \"text_nosw\", \"text\").withColumnRenamed(\"overall\", \"sentiment\")\n",
    "\n",
    "labelled_train.toPandas()"
   ]
  },
  {
   "cell_type": "code",
   "execution_count": 16,
   "metadata": {
    "application/vnd.databricks.v1+cell": {
     "inputWidgets": {},
     "nuid": "da6ee3da-3c2a-4a0c-af13-d7e7f580e793",
     "showTitle": false,
     "title": ""
    }
   },
   "outputs": [],
   "source": [
    "# need equal number of negative and positive reviews\n",
    "labelled_train.createOrReplaceTempView('labelled_train')\n",
    "labelled_test.createOrReplaceTempView('labelled_test')"
   ]
  },
  {
   "cell_type": "markdown",
   "metadata": {},
   "source": [
    "### Ensure there is not an imbalance in number of positive/negative reviews"
   ]
  },
  {
   "cell_type": "markdown",
   "metadata": {},
   "source": [
    "Sample a random number of reviews from the larger class to match the smaller class"
   ]
  },
  {
   "cell_type": "code",
   "execution_count": 17,
   "metadata": {},
   "outputs": [],
   "source": [
    "def balance_reviews(table_name):\n",
    "    query = '''\n",
    "    SELECT *\n",
    "    FROM {}\n",
    "    WHERE sentiment='{}'\n",
    "    '''\n",
    "    poscount = spark.sql(query.format(table_name, 1)).count()\n",
    "    print(\"numPositive: \" + str(poscount))\n",
    "\n",
    "    negcount = spark.sql(query.format(table_name, 0)).count()\n",
    "    print(\"numNegative: \" + str(negcount))\n",
    "\n",
    "    query = '''\n",
    "        (SELECT *\n",
    "        FROM {}\n",
    "        WHERE sentiment='0'\n",
    "        ORDER BY RAND() LIMIT {})\n",
    "        UNION\n",
    "        (SELECT *\n",
    "        FROM {}\n",
    "        WHERE sentiment='1'\n",
    "        ORDER BY RAND() LIMIT {})\n",
    "        '''.format(table_name, min(poscount, negcount), table_name, min(poscount, negcount))\n",
    "\n",
    "    sampled_reviews = spark.sql(query)\n",
    "    sampled_reviews.createOrReplaceTempView(table_name)\n",
    "    return sampled_reviews"
   ]
  },
  {
   "cell_type": "code",
   "execution_count": 18,
   "metadata": {},
   "outputs": [
    {
     "name": "stdout",
     "output_type": "stream",
     "text": [
      "numPositive: 293317\n",
      "numNegative: 66518\n",
      "numPositive: 73453\n",
      "numNegative: 16511\n"
     ]
    }
   ],
   "source": [
    "sampled_train_reviews = balance_reviews('labelled_train')\n",
    "sampled_test_reviews = balance_reviews('labelled_test')"
   ]
  },
  {
   "cell_type": "markdown",
   "metadata": {},
   "source": [
    "Compare number of positive and negative reviews after downsampling"
   ]
  },
  {
   "cell_type": "code",
   "execution_count": 19,
   "metadata": {},
   "outputs": [
    {
     "name": "stdout",
     "output_type": "stream",
     "text": [
      "+--------+\n",
      "|count(1)|\n",
      "+--------+\n",
      "|   64391|\n",
      "+--------+\n",
      "\n",
      "None\n",
      "+--------+\n",
      "|count(1)|\n",
      "+--------+\n",
      "|   60662|\n",
      "+--------+\n",
      "\n"
     ]
    }
   ],
   "source": [
    "query = '''\n",
    "SELECT COUNT(*)\n",
    "FROM labelled_train\n",
    "WHERE sentiment='0'\n",
    "'''\n",
    "print(spark.sql(query).show())\n",
    "\n",
    "query = '''\n",
    "SELECT COUNT(*)\n",
    "FROM labelled_train\n",
    "WHERE sentiment='1'\n",
    "'''\n",
    "spark.sql(query).show()"
   ]
  },
  {
   "cell_type": "code",
   "execution_count": 20,
   "metadata": {},
   "outputs": [
    {
     "name": "stdout",
     "output_type": "stream",
     "text": [
      "+--------+\n",
      "|count(1)|\n",
      "+--------+\n",
      "|   16111|\n",
      "+--------+\n",
      "\n",
      "None\n",
      "+--------+\n",
      "|count(1)|\n",
      "+--------+\n",
      "|   15272|\n",
      "+--------+\n",
      "\n"
     ]
    }
   ],
   "source": [
    "query = '''\n",
    "SELECT COUNT(*)\n",
    "FROM labelled_test\n",
    "WHERE sentiment='0'\n",
    "'''\n",
    "print(spark.sql(query).show())\n",
    "\n",
    "query = '''\n",
    "SELECT COUNT(*)\n",
    "FROM labelled_test\n",
    "WHERE sentiment='1'\n",
    "'''\n",
    "spark.sql(query).show()"
   ]
  },
  {
   "cell_type": "code",
   "execution_count": 21,
   "metadata": {
    "application/vnd.databricks.v1+cell": {
     "inputWidgets": {},
     "nuid": "0e129008-5939-4ecc-87ba-cbe8a4916554",
     "showTitle": false,
     "title": ""
    }
   },
   "outputs": [],
   "source": [
    "sc = spark.sparkContext\n",
    "##############################################\n",
    "# Compute Ngram\n",
    "\n",
    "\n",
    "def comp_ngram(df, ngram=2, input_col=\"split_text\", output_col=\"ngram\"):\n",
    "    from pyspark.ml.feature import NGram\n",
    "\n",
    "    ngram = NGram(n=ngram, inputCol=input_col, outputCol=output_col)\n",
    "    return ngram.transform(df)\n",
    "\n",
    "\n",
    "##############################################\n",
    "# Compute TF\n",
    "\n",
    "def CompTF(gram_df, input_col=\"ngram\", output_col=\"tf\", num_features=1 << 18):\n",
    "    # now make term frequency vectors out of data frame to feed machine\n",
    "    from pyspark.ml.feature import HashingTF\n",
    "    hashingtf = HashingTF(inputCol=input_col, outputCol=output_col, numFeatures=num_features)\n",
    "    return hashingtf.transform(gram_df)\n",
    "\n",
    "\n",
    "##############################################\n",
    "# Compute IDF\n",
    "\n",
    "def CompIDF(tf, input_col=\"tf\", output_col=\"idftf\", minDocFreq=5):\n",
    "    from pyspark.ml.feature import IDF\n",
    "    tf.cache()\n",
    "\n",
    "    idf = IDF(inputCol=input_col, outputCol=output_col, minDocFreq=5)\n",
    "    idfModel = idf.fit(tf)\n",
    "    return idfModel\n",
    "\n",
    "##############################################\n",
    "# Compute TFIDF\n",
    "\n",
    "\n",
    "def CompTFIDF(tf, idf):\n",
    "    tfidf = idf.transform(tf)\n",
    "    return tfidf\n",
    "\n",
    "##############################################\n",
    "# Feature Extraction\n",
    "\n",
    "\n",
    "def Convert_to_LabeledPoint(dataset):\n",
    "    return dataset.rdd.map(lambda x: LabeledPoint(\n",
    "        float(x.sentiment), MLLibVectors.fromML(x.idftf)))\n",
    "\n",
    "\n",
    "#########################################\n",
    "# Support Vector Machines\n",
    "\n",
    "#Training - SVM\n",
    "\n",
    "\n",
    "def SVM_train(training):\n",
    "    return SVMWithSGD.train(training, iterations=20)\n",
    "\n",
    "############################################\n",
    "# Testing\n",
    "\n",
    "\n",
    "def test(model, dataset):\n",
    "    predictionAndLabel = dataset.map(\n",
    "        lambda x: (x.label, model.predict(x.features)))\n",
    "\n",
    "    return 1.0 * predictionAndLabel.filter(lambda x: x[0] == x[1]).count() / dataset.count()\n",
    "\n",
    "##############################################\n",
    "# Testing with pred prob\n",
    "\n",
    "\n",
    "def test_wpp(model, labels, features):\n",
    "    labels_and_probs = labels.zip(model.predict(features)).map(\n",
    "        lambda x: {\"actual\": float(x[0]), \"probs\": float(x[1])})\n",
    "    return labels_and_probs\n",
    "\n",
    "#################################\n",
    "# Final Test\n",
    "\n",
    "\n",
    "def test_final(model, dataset):\n",
    "    labels_and_preds = dataset.map(\n",
    "        lambda x: {\"actual\": float(x.label), \"predicted\": float(model.predict(x.features))})\n",
    "    acc = 100.0 * \\\n",
    "        ((labels_and_preds.filter(\n",
    "            lambda x: x[\"actual\"] == x[\"predicted\"]).count()) / (dataset.count()))\n",
    "    return (labels_and_preds, acc)\n",
    "\n",
    "#############################\n",
    "# tpr and fpr\n",
    "\n",
    "\n",
    "def tf(labels_and_preds):\n",
    "    true_pos = (labels_and_preds.filter(\n",
    "        lambda x: x[\"predicted\"] == 1 and x[\"actual\"] == 1).count())\n",
    "    true_neg = (labels_and_preds.filter(\n",
    "        lambda x: x[\"predicted\"] == 0 and x[\"actual\"] == 0).count())\n",
    "    false_pos = (labels_and_preds.filter(\n",
    "        lambda x: x[\"predicted\"] == 1 and x[\"actual\"] == 0).count())\n",
    "    false_neg = (labels_and_preds.filter(\n",
    "        lambda x: x[\"predicted\"] == 0 and x[\"actual\"] == 1).count())\n",
    "\n",
    "    tpr = (true_pos)/(true_pos+false_neg)\n",
    "    fpr = (false_pos)/(false_pos+true_neg)\n",
    "    return (tpr, fpr)"
   ]
  },
  {
   "cell_type": "code",
   "execution_count": 22,
   "metadata": {},
   "outputs": [
    {
     "data": {
      "text/plain": [
       "DataFrame[sentiment: int, text: string, split_text: array<string>]"
      ]
     },
     "execution_count": 22,
     "metadata": {},
     "output_type": "execute_result"
    }
   ],
   "source": [
    "tokenizer = Tokenizer(inputCol=\"text\", outputCol=\"split_text\")\n",
    "tokenized_train = tokenizer.transform(sampled_train_reviews)\n",
    "tokenized_test = tokenizer.transform(sampled_test_reviews)\n",
    "\n",
    "# Cache tokenized dataset as it will be re-used a lot\n",
    "tokenized_train.cache()\n",
    "tokenized_test.cache()"
   ]
  },
  {
   "cell_type": "code",
   "execution_count": 23,
   "metadata": {},
   "outputs": [
    {
     "name": "stdout",
     "output_type": "stream",
     "text": [
      "+---------+--------------------+--------------------+\n",
      "|sentiment|                text|          split_text|\n",
      "+---------+--------------------+--------------------+\n",
      "|        0|debating whether ...|[debating, whethe...|\n",
      "|        0|bought january 20...|[bought, january,...|\n",
      "|        0|small female tiny...|[small, female, t...|\n",
      "|        0|came loose large ...|[came, loose, lar...|\n",
      "|        0|readers lee child...|[readers, lee, ch...|\n",
      "|        0|im nearly halfway...|[im, nearly, half...|\n",
      "|        0|got 4 add item wo...|[got, 4, add, ite...|\n",
      "|        0|        so so awful |     [so, so, awful]|\n",
      "|        0|checkr nexus 6p s...|[checkr, nexus, 6...|\n",
      "|        0|got item week ago...|[got, item, week,...|\n",
      "|        0|doesnt even work ...|[doesnt, even, wo...|\n",
      "|        0|bracket fit fence...|[bracket, fit, fe...|\n",
      "|        0|boots arrived tim...|[boots, arrived, ...|\n",
      "|        0|easy read book on...|[easy, read, book...|\n",
      "|        0|worst street figh...|[worst, street, f...|\n",
      "|        0|     get pay for me | [get, pay, for, me]|\n",
      "|        0|instructions inst...|[instructions, in...|\n",
      "|        0|disappointed book...|[disappointed, bo...|\n",
      "|        0|ive clarks shoe p...|[ive, clarks, sho...|\n",
      "|        0|best quality expe...|[best, quality, e...|\n",
      "+---------+--------------------+--------------------+\n",
      "only showing top 20 rows\n",
      "\n"
     ]
    }
   ],
   "source": [
    "tokenized_train.show()"
   ]
  },
  {
   "cell_type": "markdown",
   "metadata": {
    "application/vnd.databricks.v1+cell": {
     "inputWidgets": {},
     "nuid": "c19d1abe-b5c3-411f-abb8-8ae5366bdee0",
     "showTitle": false,
     "title": ""
    }
   },
   "source": [
    "# Naive Bayes Classification"
   ]
  },
  {
   "cell_type": "code",
   "execution_count": 24,
   "metadata": {},
   "outputs": [],
   "source": [
    "def construct_tfidf_input(tokenized_train, tokenized_test, ngram=2, num_features=1 << 18):\n",
    "    # now make n-gram input\n",
    "    train_gram_df = comp_ngram(tokenized_train, ngram=ngram)\n",
    "    test_gram_df = comp_ngram(tokenized_test, ngram=ngram)\n",
    "\n",
    "\n",
    "    # now make term frequency vectors out of data frame to feed machine\n",
    "    train_tf_df = CompTF(train_gram_df, num_features=num_features)\n",
    "    test_tf_df = CompTF(test_gram_df, num_features=num_features)\n",
    "    \n",
    "    # tf-idf\n",
    "    train_idfModel = CompIDF(train_tf_df)\n",
    "    test_idfModel = CompIDF(test_tf_df)\n",
    "\n",
    "    tfidf_train = CompTFIDF(train_tf_df, train_idfModel)\n",
    "    # Use the train idf model as there are more samples, thus probably more representative\n",
    "    tfidf_test = CompTFIDF(test_tf_df, train_idfModel)\n",
    "    return tfidf_train, tfidf_test\n"
   ]
  },
  {
   "cell_type": "code",
   "execution_count": 25,
   "metadata": {},
   "outputs": [],
   "source": [
    "# convert dataframe to rdd, to make a LabeledPoint tuple(label, feature, vector) for machine\n",
    "from pyspark.mllib.linalg import Vectors as MLLibVectors\n",
    "from pyspark.mllib.regression import LabeledPoint\n",
    "\n",
    "# After experimentation, ngram = 1 and num_features=5000 gave best for NB\n",
    "tfidf_train, tfidf_test = construct_tfidf_input(tokenized_train, tokenized_test, ngram=1, num_features=5000)\n",
    "\n",
    "# we also need to convert ml.sparsevector mllib.sparse vector, because naive bayes only accepts mllib.sparsevector type\n",
    "train_dataset = tfidf_train.rdd.map(lambda x: LabeledPoint(\n",
    "    float(x.sentiment), MLLibVectors.fromML(x.idftf)))\n",
    "\n",
    "test_dataset = tfidf_test.rdd.map(lambda x: LabeledPoint(\n",
    "    float(x.sentiment), MLLibVectors.fromML(x.idftf)))"
   ]
  },
  {
   "cell_type": "code",
   "execution_count": 37,
   "metadata": {},
   "outputs": [
    {
     "name": "stdout",
     "output_type": "stream",
     "text": [
      "+---------+--------------------+--------------------+--------------------+--------------------+--------------------+\n",
      "|sentiment|                text|          split_text|               ngram|                  tf|               idftf|\n",
      "+---------+--------------------+--------------------+--------------------+--------------------+--------------------+\n",
      "|        0|small female tiny...|[small, female, t...|[small, female, t...|(5000,[43,49,55,8...|(5000,[43,49,55,8...|\n",
      "|        0|quality would fin...|[quality, would, ...|[quality, would, ...|(5000,[23,288,322...|(5000,[23,288,322...|\n",
      "|        0|photographer must...|[photographer, mu...|[photographer, mu...|(5000,[44,65,150,...|(5000,[44,65,150,...|\n",
      "|        0|watching it quit ...|[watching, it, qu...|[watching, it, qu...|(5000,[357,718,22...|(5000,[357,718,22...|\n",
      "|        0|first off book at...|[first, off, book...|[first, off, book...|(5000,[148,228,26...|(5000,[148,228,26...|\n",
      "|        0|bad favorite tire...|[bad, favorite, t...|[bad, favorite, t...|(5000,[1057,1086,...|(5000,[1057,1086,...|\n",
      "|        0|keys started stic...|[keys, started, s...|[keys, started, s...|(5000,[373,474,74...|(5000,[373,474,74...|\n",
      "|        0|cute fun quirky c...|[cute, fun, quirk...|[cute, fun, quirk...|(5000,[349,911,12...|(5000,[349,911,12...|\n",
      "|        0|ok batteries seem...|[ok, batteries, s...|[ok, batteries, s...|(5000,[342,594,86...|(5000,[342,594,86...|\n",
      "|        0|purchased book st...|[purchased, book,...|[purchased, book,...|(5000,[38,43,133,...|(5000,[38,43,133,...|\n",
      "|        0|bought book pract...|[bought, book, pr...|[bought, book, pr...|(5000,[393,506,61...|(5000,[393,506,61...|\n",
      "|        0|cheap garbage bro...|[cheap, garbage, ...|[cheap, garbage, ...|(5000,[426,2198,2...|(5000,[426,2198,2...|\n",
      "|        0|bought trimmer la...|[bought, trimmer,...|[bought, trimmer,...|(5000,[133,146,15...|(5000,[133,146,15...|\n",
      "|        0|spoilers withinso...|[spoilers, within...|[spoilers, within...|(5000,[40,44,76,8...|(5000,[40,44,76,8...|\n",
      "|        0|others said 40 po...|[others, said, 40...|[others, said, 40...|(5000,[1787,1940,...|(5000,[1787,1940,...|\n",
      "|        0|add size  number ...|[add, size, , num...|[add, size, , num...|(5000,[252,891,11...|(5000,[252,891,11...|\n",
      "|        0|looking butterfly...|[looking, butterf...|[looking, butterf...|(5000,[1,53,213,4...|(5000,[1,53,213,4...|\n",
      "|        0|fit 120 mm port m...|[fit, 120, mm, po...|[fit, 120, mm, po...|(5000,[38,133,157...|(5000,[38,133,157...|\n",
      "|        0|okay work honestl...|[okay, work, hone...|[okay, work, hone...|(5000,[1,40,44,55...|(5000,[1,40,44,55...|\n",
      "|        0|worked fine coupl...|[worked, fine, co...|[worked, fine, co...|(5000,[80,133,143...|(5000,[80,133,143...|\n",
      "+---------+--------------------+--------------------+--------------------+--------------------+--------------------+\n",
      "only showing top 20 rows\n",
      "\n"
     ]
    }
   ],
   "source": [
    "tfidf_train.show()"
   ]
  },
  {
   "cell_type": "code",
   "execution_count": 38,
   "metadata": {},
   "outputs": [
    {
     "name": "stdout",
     "output_type": "stream",
     "text": [
      "************************TRAINING*******************************\n",
      "*****************************TRAINING COMPLETE************************************\n"
     ]
    }
   ],
   "source": [
    "# create Model\n",
    "# now train and save the model\n",
    "from pyspark.mllib.classification import NaiveBayes\n",
    "import shutil\n",
    "\n",
    "# training\n",
    "print(\"************************TRAINING*******************************\")\n",
    "model_train_NB = NaiveBayes.train(train_dataset)\n",
    "print(\"*****************************TRAINING COMPLETE************************************\")"
   ]
  },
  {
   "cell_type": "code",
   "execution_count": 39,
   "metadata": {
    "application/vnd.databricks.v1+cell": {
     "inputWidgets": {},
     "nuid": "8557882f-1ee9-443d-a9c0-7dd0f58160a5",
     "showTitle": false,
     "title": ""
    }
   },
   "outputs": [
    {
     "name": "stdout",
     "output_type": "stream",
     "text": [
      "TRAINING ACCURACY:-\n",
      "\n",
      "The accuracy for the training dataset tested on the training data itself using NB is 0.7866264221035524 %\n",
      "\n",
      "\n"
     ]
    }
   ],
   "source": [
    "# testing NB with training data\n",
    "\n",
    "accuracy_NB_train = test(model_train_NB, train_dataset)\n",
    "\n",
    "print(\"TRAINING ACCURACY:-\\n\")\n",
    "\n",
    "print(\"The accuracy for the training dataset tested on the training data itself using NB is\", accuracy_NB_train, \"%\")\n",
    "\n",
    "print(\"\\n\")"
   ]
  },
  {
   "cell_type": "code",
   "execution_count": 40,
   "metadata": {},
   "outputs": [
    {
     "name": "stdout",
     "output_type": "stream",
     "text": [
      "TESTING ACCURACY:-\n",
      "\n",
      "The accuracy for the testing dataset using NB is 0.771468584887644 %\n",
      "\n",
      "\n"
     ]
    }
   ],
   "source": [
    "accu_NB = test(model_train_NB, test_dataset)\n",
    "\n",
    "print(\"TESTING ACCURACY:-\\n\")\n",
    "\n",
    "print(\"The accuracy for the testing dataset using NB is\", accu_NB, \"%\")\n",
    "\n",
    "print(\"\\n\")"
   ]
  },
  {
   "cell_type": "markdown",
   "metadata": {},
   "source": [
    "### Find best ngram"
   ]
  },
  {
   "cell_type": "markdown",
   "metadata": {},
   "source": [
    "ngram = 1 provides the best test accuracy"
   ]
  },
  {
   "cell_type": "code",
   "execution_count": 53,
   "metadata": {},
   "outputs": [
    {
     "name": "stdout",
     "output_type": "stream",
     "text": [
      "NB accuracy with ngram 1 is 0.7048004987531172\n",
      "NB accuracy with ngram 2 is 0.6203241895261845\n",
      "NB accuracy with ngram 3 is 0.5185993349958438\n",
      "NB accuracy with ngram 4 is 0.49781795511221943\n",
      "NB accuracy with ngram 5 is 0.49438902743142144\n"
     ]
    }
   ],
   "source": [
    "for i in range(1, 6):\n",
    "    tfidf_train, tfidf_test = construct_tfidf_input(\n",
    "        tokenized_train, tokenized_test, ngram=i)\n",
    "    \n",
    "    train_dataset = tfidf_train.rdd.map(lambda x: LabeledPoint(\n",
    "        float(x.sentiment), MLLibVectors.fromML(x.idftf)))\n",
    "    test_dataset = tfidf_test.rdd.map(lambda x: LabeledPoint(\n",
    "        float(x.sentiment), MLLibVectors.fromML(x.idftf)))\n",
    "    \n",
    "    model_train_NB = NaiveBayes.train(train_dataset)\n",
    "    accuracy = test(model_train_NB, test_dataset)\n",
    "    print(\"NB accuracy with ngram {} is {}\".format(i, accuracy))"
   ]
  },
  {
   "cell_type": "markdown",
   "metadata": {},
   "source": [
    "### Word2Vec"
   ]
  },
  {
   "cell_type": "markdown",
   "metadata": {},
   "source": [
    "Let's try comparing accuracy between using tfidf/ngram and Word2Vec"
   ]
  },
  {
   "cell_type": "code",
   "execution_count": 26,
   "metadata": {},
   "outputs": [],
   "source": [
    "from pyspark.ml.feature import Word2Vec, MinMaxScaler\n",
    "\n",
    "\n",
    "def constructWord2VecData(train_set, test_set, vector_size=100, minCount=5):\n",
    "    # create an average word vector for each document\n",
    "    word2vec = Word2Vec(vectorSize=vector_size, minCount=minCount,\n",
    "                        inputCol='split_text', outputCol='word2vec')\n",
    "    model = word2vec.fit(train_set)\n",
    "    train_vec = model.transform(train_set)\n",
    "    model = word2vec.fit(test_set)\n",
    "    test_vec = model.transform(test_set)\n",
    "\n",
    "    scaler = MinMaxScaler(inputCol=\"word2vec\", outputCol=\"scaledFeatures\")\n",
    "    scaled_train = scaler.fit(train_vec).transform(train_vec)\n",
    "    scaled_test = scaler.fit(test_vec).transform(test_vec)\n",
    "    return scaled_train, scaled_test\n",
    "scaled_train, scaled_test = constructWord2VecData(tokenized_train, tokenized_test)"
   ]
  },
  {
   "cell_type": "code",
   "execution_count": 27,
   "metadata": {},
   "outputs": [
    {
     "name": "stdout",
     "output_type": "stream",
     "text": [
      "+---------+--------------------+--------------------+--------------------+--------------------+\n",
      "|sentiment|                text|          split_text|            word2vec|      scaledFeatures|\n",
      "+---------+--------------------+--------------------+--------------------+--------------------+\n",
      "|        0|debating whether ...|[debating, whethe...|[0.03041657559179...|[0.51633070350080...|\n",
      "|        0|bought january 20...|[bought, january,...|[-0.0699417433701...|[0.43708444194390...|\n",
      "|        0|small female tiny...|[small, female, t...|[9.81444050315379...|[0.49308774609352...|\n",
      "|        0|came loose large ...|[came, loose, lar...|[0.00876265610694...|[0.49923204954786...|\n",
      "|        0|readers lee child...|[readers, lee, ch...|[-0.1077638457063...|[0.40721885386541...|\n",
      "|        0|im nearly halfway...|[im, nearly, half...|[-0.1130789676235...|[0.40302185708415...|\n",
      "|        0|got 4 add item wo...|[got, 4, add, ite...|[0.03808785167833...|[0.52238819786217...|\n",
      "|        0|        so so awful |     [so, so, awful]|[-0.0209815204143...|[0.47574505996113...|\n",
      "|        0|checkr nexus 6p s...|[checkr, nexus, 6...|[-0.0205528985088...|[0.47608351405230...|\n",
      "|        0|got item week ago...|[got, item, week,...|[0.01536534460200...|[0.50444575165916...|\n",
      "|        0|doesnt even work ...|[doesnt, even, wo...|[-0.0344737329121...|[0.46509116089587...|\n",
      "|        0|bracket fit fence...|[bracket, fit, fe...|[0.09247082367686...|[0.56533079861330...|\n",
      "|        0|boots arrived tim...|[boots, arrived, ...|[0.02034385748864...|[0.50837695077110...|\n",
      "|        0|easy read book on...|[easy, read, book...|[-0.0791555319059...|[0.42980892852571...|\n",
      "|        0|worst street figh...|[worst, street, f...|[-0.0411964844758...|[0.45978265299822...|\n",
      "|        0|     get pay for me | [get, pay, for, me]|[-0.1308120945468...|[0.38901919114751...|\n",
      "|        0|instructions inst...|[instructions, in...|[-0.0014862969804...|[0.49113913582185...|\n",
      "|        0|disappointed book...|[disappointed, bo...|[-0.1198030702121...|[0.39771228237238...|\n",
      "|        0|ive clarks shoe p...|[ive, clarks, sho...|[-0.0783104524761...|[0.43047623130857...|\n",
      "|        0|best quality expe...|[best, quality, e...|[-0.0302832251181...|[0.46840012501693...|\n",
      "+---------+--------------------+--------------------+--------------------+--------------------+\n",
      "only showing top 20 rows\n",
      "\n"
     ]
    }
   ],
   "source": [
    "scaled_train.show()"
   ]
  },
  {
   "cell_type": "code",
   "execution_count": 28,
   "metadata": {},
   "outputs": [],
   "source": [
    "train_dataset_vec = scaled_train.rdd.map(lambda x: LabeledPoint(\n",
    "    float(x.sentiment), MLLibVectors.fromML(x.scaledFeatures)))\n",
    "test_dataset_vec = scaled_test.rdd.map(lambda x: LabeledPoint(\n",
    "    float(x.sentiment), MLLibVectors.fromML(x.scaledFeatures)))"
   ]
  },
  {
   "cell_type": "code",
   "execution_count": 29,
   "metadata": {},
   "outputs": [
    {
     "name": "stdout",
     "output_type": "stream",
     "text": [
      "NB accuracy on train dataset with word2vec is 0.6020087482907247\n",
      "NB accuracy on test dataset with word2vec is 0.5222891374310933\n"
     ]
    }
   ],
   "source": [
    "model_train_NB_vec = NaiveBayes.train(train_dataset_vec)\n",
    "train_accuracy = test(model_train_NB_vec, train_dataset_vec)\n",
    "print(\"NB accuracy on train dataset with word2vec is {}\".format(train_accuracy))\n",
    "accuracy = test(model_train_NB_vec, test_dataset_vec)\n",
    "print(\"NB accuracy on test dataset with word2vec is {}\".format(accuracy))"
   ]
  },
  {
   "cell_type": "markdown",
   "metadata": {},
   "source": [
    "### Accuracy on Word2Vec is generally quite poor"
   ]
  },
  {
   "cell_type": "markdown",
   "metadata": {},
   "source": [
    "## More detailed stats"
   ]
  },
  {
   "cell_type": "code",
   "execution_count": 33,
   "metadata": {
    "application/vnd.databricks.v1+cell": {
     "inputWidgets": {},
     "nuid": "ff5e540e-b755-4627-b1de-b2520a4c6f9c",
     "showTitle": false,
     "title": ""
    }
   },
   "outputs": [
    {
     "data": {
      "image/png": "[encoded data removed]",
      "text/plain": [
       "<Figure size 640x480 with 1 Axes>"
      ]
     },
     "metadata": {},
     "output_type": "display_data"
    }
   ],
   "source": [
    "objects = ('Training Accuracy', 'Testing Accuracy')\n",
    "y_pos = np.arange(len(objects))\n",
    "performance = [accuracy_NB_train * 100, accu_NB]\n",
    "plt.bar(y_pos, performance, align='center', alpha=0.5)\n",
    "plt.xticks(y_pos, objects)\n",
    "plt.xlabel('Classifications')\n",
    "plt.ylabel('Accuracy')\n",
    "plt.title('Naive Bayes Classifier - Accuracies')\n",
    "\n",
    "plt.show()"
   ]
  },
  {
   "cell_type": "markdown",
   "metadata": {},
   "source": [
    "Here we calculate more advanced metrics to ensure our model is actually generalizing and not just predicting 1 or 0 every time"
   ]
  },
  {
   "cell_type": "code",
   "execution_count": 28,
   "metadata": {
    "application/vnd.databricks.v1+cell": {
     "inputWidgets": {},
     "nuid": "ecbbc952-b8f9-40ef-a58c-04b5a0196ed4",
     "showTitle": false,
     "title": ""
    }
   },
   "outputs": [
    {
     "name": "stdout",
     "output_type": "stream",
     "text": [
      "\n",
      "Summary Stats_NB\n",
      "\n",
      "Class 0 precision_NB = 0.7188135390503528\n",
      "Class 0 recall_NB = 0.7460741108559369\n",
      "Class 0 F1 Measure_NB = 0.7321901745195382\n",
      "Class 1 precision_NB = 0.7219654750577681\n",
      "Class 1 recall_NB = 0.6931810766721044\n",
      "Class 1 F1 Measure_NB = 0.7072805353041046\n",
      "\n",
      "Avg/Weighted recall_NB = 0.7202888408194427\n",
      "Avg/Weighted precision_NB = 0.7203501028407091\n",
      "Avg/Weighted F(1) Score_NB = 0.7200467650216211\n",
      "\n",
      "Confusion matrix_NB=\n",
      "[[12020.  4091.]\n",
      " [ 4702. 10623.]]\n",
      "\n",
      "\n",
      "Area under ROC_NB = 0.7196275937640206\n"
     ]
    }
   ],
   "source": [
    "metrics = MulticlassMetrics(labels_and_preds_NB.map(\n",
    "    lambda x: (x[\"predicted\"], x[\"actual\"])))\n",
    "# Overall statistics\n",
    "print(\"\\nSummary Stats_NB\\n\")\n",
    "# Statistics by class\n",
    "labels = (sc.parallelize(\n",
    "    [row[0] for row in sampled_test_reviews.collect()])).distinct().collect()\n",
    "for label in sorted(labels):\n",
    "    print(\"Class %s precision_NB = %s\" % (label, metrics.precision(label)))\n",
    "    print(\"Class %s recall_NB = %s\" % (label, metrics.recall(label)))\n",
    "    print(\"Class %s F1 Measure_NB = %s\" %\n",
    "          (label, metrics.fMeasure(float(label), beta=1.0)))\n",
    "\n",
    "# Weighted stats\n",
    "print(\"\\nAvg/Weighted recall_NB = %s\" % metrics.weightedRecall)\n",
    "print(\"Avg/Weighted precision_NB = %s\" % metrics.weightedPrecision)\n",
    "print(\"Avg/Weighted F(1) Score_NB = %s\" % metrics.weightedFMeasure())\n",
    "\n",
    "cm = metrics.confusionMatrix().toArray()\n",
    "print(\"\\nConfusion matrix_NB=\")\n",
    "print(cm)\n",
    "print(\"\\n\")\n",
    "metrics2 = BinaryClassificationMetrics(\n",
    "    labels_and_preds_NB.map(lambda x: (x[\"predicted\"], x[\"actual\"])))\n",
    "\n",
    "# Area under ROC curve\n",
    "print(\"Area under ROC_NB = %s\" % metrics2.areaUnderROC)"
   ]
  },
  {
   "cell_type": "markdown",
   "metadata": {
    "application/vnd.databricks.v1+cell": {
     "inputWidgets": {},
     "nuid": "7ac566a4-2414-407c-b845-1cea3deb1776",
     "showTitle": false,
     "title": ""
    }
   },
   "source": [
    "# Logistic Regression"
   ]
  },
  {
   "cell_type": "code",
   "execution_count": 30,
   "metadata": {
    "application/vnd.databricks.v1+cell": {
     "inputWidgets": {},
     "nuid": "58ae3d3d-f78b-4859-a7f6-192dec6e2efa",
     "showTitle": false,
     "title": ""
    }
   },
   "outputs": [
    {
     "name": "stdout",
     "output_type": "stream",
     "text": [
      "************************TRAINING*******************************\n",
      "*****************************TRAINING COMPLETE************************************\n"
     ]
    }
   ],
   "source": [
    "#######################################################\n",
    "# Accuracy of Training data using train.csv itself using LG\n",
    "# training\n",
    "print(\"************************TRAINING*******************************\")\n",
    "model_train_LG = LogisticRegressionWithSGD.train(train_dataset, iterations=10, regType='l2')\n",
    "print(\"*****************************TRAINING COMPLETE************************************\")"
   ]
  },
  {
   "cell_type": "code",
   "execution_count": 31,
   "metadata": {},
   "outputs": [
    {
     "name": "stdout",
     "output_type": "stream",
     "text": [
      "TRAINING ACCURACY:-\n",
      "\n",
      "The accuracy for the training dataset tested on the training data itself using LG is 0.7887135854397735 %\n",
      "\n",
      "\n"
     ]
    }
   ],
   "source": [
    "# testing NB with training data\n",
    "\n",
    "accuracy_LG_train = test(model_train_LG, train_dataset)\n",
    "\n",
    "print(\"TRAINING ACCURACY:-\\n\")\n",
    "\n",
    "print(\"The accuracy for the training dataset tested on the training data itself using LG is\", accuracy_LG_train, \"%\")\n",
    "\n",
    "print(\"\\n\")"
   ]
  },
  {
   "cell_type": "code",
   "execution_count": 32,
   "metadata": {},
   "outputs": [
    {
     "name": "stdout",
     "output_type": "stream",
     "text": [
      "TESTING ACCURACY:-\n",
      "\n",
      "The accuracy for the testing dataset using LG is 78.27804862505178 %\n",
      "\n",
      "\n"
     ]
    }
   ],
   "source": [
    "labels_and_preds_LG, accu_LG = test_final(model_train_LG, test_dataset)\n",
    "\n",
    "print(\"TESTING ACCURACY:-\\n\")\n",
    "\n",
    "print(\"The accuracy for the testing dataset using LG is\", accu_LG, \"%\")\n",
    "\n",
    "print(\"\\n\")"
   ]
  },
  {
   "cell_type": "markdown",
   "metadata": {},
   "source": [
    "### Try pyspark ml Logistic Regression instead of Pyspark mllib"
   ]
  },
  {
   "cell_type": "code",
   "execution_count": 33,
   "metadata": {},
   "outputs": [],
   "source": [
    "from pyspark.ml.tuning import CrossValidator, ParamGridBuilder\n",
    "from pyspark.ml.regression import LinearRegression\n",
    "from pyspark.ml.classification import LogisticRegression\n",
    "from pyspark.ml.evaluation import BinaryClassificationEvaluator\n",
    "\n",
    "lr_model = LogisticRegression(\n",
    "    labelCol='sentiment', featuresCol='idftf', maxIter=100, regParam=0.7).fit(tfidf_train)"
   ]
  },
  {
   "cell_type": "code",
   "execution_count": 34,
   "metadata": {},
   "outputs": [],
   "source": [
    "prediction_train = lr_model.transform(tfidf_train)\n",
    "prediction_test = lr_model.transform(tfidf_test)"
   ]
  },
  {
   "cell_type": "code",
   "execution_count": 35,
   "metadata": {},
   "outputs": [],
   "source": [
    "# evaluator = BinaryClassificationEvaluator(labelCol='sentiment')\n",
    "# print(evaluator.evaluate(prediction_train))\n",
    "# print(evaluator.evaluate(prediction_test))"
   ]
  },
  {
   "cell_type": "code",
   "execution_count": 36,
   "metadata": {},
   "outputs": [
    {
     "name": "stdout",
     "output_type": "stream",
     "text": [
      "0.808201322639201\n"
     ]
    },
    {
     "data": {
      "text/plain": [
       "0.7953031896249562"
      ]
     },
     "execution_count": 36,
     "metadata": {},
     "output_type": "execute_result"
    }
   ],
   "source": [
    "train_accuracy = prediction_train.filter(\n",
    "    prediction_train.sentiment == prediction_train.prediction).count() / float(tfidf_train.count())\n",
    "print(train_accuracy)\n",
    "test_accuracy = prediction_test.filter(\n",
    "    prediction_test.sentiment == prediction_test.prediction).count() / float(tfidf_test.count())\n",
    "test_accuracy"
   ]
  },
  {
   "cell_type": "markdown",
   "metadata": {},
   "source": [
    "### Test Word2Vec with Logistic Regression"
   ]
  },
  {
   "cell_type": "code",
   "execution_count": 37,
   "metadata": {},
   "outputs": [
    {
     "name": "stdout",
     "output_type": "stream",
     "text": [
      "LG accuracy on train dataset with word2vec is 0.6740581993234869\n",
      "LG accuracy on test dataset with word2vec is 0.5576267405920403\n"
     ]
    }
   ],
   "source": [
    "model_train_LG_vec = LogisticRegressionWithSGD.train(train_dataset_vec, iterations=100, regType='l2')\n",
    "train_accuracy = test(model_train_LG_vec, train_dataset_vec)\n",
    "print(\"LG accuracy on train dataset with word2vec is {}\".format(train_accuracy))\n",
    "accuracy = test(model_train_LG_vec, test_dataset_vec)\n",
    "print(\"LG accuracy on test dataset with word2vec is {}\".format(accuracy))"
   ]
  },
  {
   "cell_type": "code",
   "execution_count": 38,
   "metadata": {
    "application/vnd.databricks.v1+cell": {
     "inputWidgets": {},
     "nuid": "cffdcb4f-7f85-41f3-9eb2-0aa9c200865a",
     "showTitle": false,
     "title": ""
    }
   },
   "outputs": [
    {
     "data": {
      "image/png": "[encoded data removed]",
      "text/plain": [
       "<Figure size 640x480 with 1 Axes>"
      ]
     },
     "metadata": {},
     "output_type": "display_data"
    }
   ],
   "source": [
    "objects = ('Training Accuracy', 'Testing Accuracy')\n",
    "y_pos = np.arange(len(objects))\n",
    "performance = [accuracy_LG_train * 100.0, accu_LG]\n",
    "plt.bar(y_pos, performance, align='center', alpha=0.5)\n",
    "plt.xticks(y_pos, objects)\n",
    "plt.xlabel('Classifications')\n",
    "plt.ylabel('Accuracy')\n",
    "plt.title('Logistic Regression Classifier - Accuracies')\n",
    "\n",
    "plt.show()"
   ]
  },
  {
   "cell_type": "code",
   "execution_count": 39,
   "metadata": {
    "application/vnd.databricks.v1+cell": {
     "inputWidgets": {},
     "nuid": "defc9ba1-5199-4fbf-bf51-614a1f2b1882",
     "showTitle": false,
     "title": ""
    }
   },
   "outputs": [
    {
     "name": "stdout",
     "output_type": "stream",
     "text": [
      "\n",
      "Summary Stats_LG\n",
      "\n",
      "Class 0 precision_LG = 0.8209697472026523\n",
      "Class 0 recall_LG = 0.7377568121159457\n",
      "Class 0 F1 Measure_LG = 0.7771421099087907\n",
      "Class 1 precision_LG = 0.7500739426205265\n",
      "Class 1 recall_LG = 0.8302776322682033\n",
      "Class 1 F1 Measure_LG = 0.7881405973210679\n",
      "\n",
      "Avg/Weighted recall_LG = 0.7827804862505178\n",
      "Avg/Weighted precision_LG = 0.7864695169003157\n",
      "Avg/Weighted F(1) Score_LG = 0.7824943356284573\n",
      "\n",
      "Confusion matrix_LG=\n",
      "[[11886.  4225.]\n",
      " [ 2592. 12680.]]\n",
      "\n",
      "\n",
      "Area under ROC_LG = 0.7840172221920746\n"
     ]
    }
   ],
   "source": [
    "metrics = MulticlassMetrics(labels_and_preds_LG.map(\n",
    "    lambda x: (x[\"predicted\"], x[\"actual\"])))\n",
    "# Overall statistics\n",
    "print(\"\\nSummary Stats_LG\\n\")\n",
    "# Statistics by class\n",
    "labels = (sc.parallelize(\n",
    "    [row[0] for row in sampled_test_reviews.collect()])).distinct().collect()\n",
    "for label in sorted(labels):\n",
    "    print(\"Class %s precision_LG = %s\" % (label, metrics.precision(label)))\n",
    "    print(\"Class %s recall_LG = %s\" % (label, metrics.recall(label)))\n",
    "    print(\"Class %s F1 Measure_LG = %s\" %\n",
    "          (label, metrics.fMeasure(float(label), beta=1.0)))\n",
    "\n",
    "# Weighted stats\n",
    "print(\"\\nAvg/Weighted recall_LG = %s\" % metrics.weightedRecall)\n",
    "print(\"Avg/Weighted precision_LG = %s\" % metrics.weightedPrecision)\n",
    "print(\"Avg/Weighted F(1) Score_LG = %s\" % metrics.weightedFMeasure())\n",
    "\n",
    "cm = metrics.confusionMatrix().toArray()\n",
    "print(\"\\nConfusion matrix_LG=\")\n",
    "print(cm)\n",
    "print(\"\\n\")\n",
    "metrics2 = BinaryClassificationMetrics(\n",
    "    labels_and_preds_LG.map(lambda x: (x[\"predicted\"], x[\"actual\"])))\n",
    "\n",
    "# Area under ROC curve\n",
    "print(\"Area under ROC_LG = %s\" % metrics2.areaUnderROC)"
   ]
  },
  {
   "cell_type": "markdown",
   "metadata": {
    "application/vnd.databricks.v1+cell": {
     "inputWidgets": {},
     "nuid": "b6f4baba-d5f0-49f2-b171-ac412232c6d7",
     "showTitle": false,
     "title": ""
    }
   },
   "source": [
    "# Support Vector Machines"
   ]
  },
  {
   "cell_type": "code",
   "execution_count": 40,
   "metadata": {
    "application/vnd.databricks.v1+cell": {
     "inputWidgets": {},
     "nuid": "bf416d99-ade1-4059-8c6b-4a60cc7b47b1",
     "showTitle": false,
     "title": ""
    }
   },
   "outputs": [
    {
     "name": "stdout",
     "output_type": "stream",
     "text": [
      "TRAINING ACCURACY:-\n",
      "\n",
      "The accuracy for the training dataset tested on the training data itself using SVM is 0.8010683470208632 %\n",
      "\n",
      "\n"
     ]
    }
   ],
   "source": [
    "# Accuracy of Training data using train.csv itself using SVM\n",
    "\n",
    "model_train_SVM = SVMWithSGD.train(train_dataset, iterations=20)\n",
    "accuracy_SVM = test(model_train_SVM, train_dataset)\n",
    "print(\"TRAINING ACCURACY:-\\n\")\n",
    "print(\"The accuracy for the training dataset tested on the training data itself using SVM is\", accuracy_SVM, \"%\")\n",
    "print(\"\\n\")"
   ]
  },
  {
   "cell_type": "code",
   "execution_count": 41,
   "metadata": {},
   "outputs": [
    {
     "name": "stdout",
     "output_type": "stream",
     "text": [
      "TESTING ACCURACY:-\n",
      "\n",
      "The accuracy for the testing dataset using SVM is 79.36781059809451 %\n",
      "\n",
      "\n"
     ]
    }
   ],
   "source": [
    "labels_and_preds_SVM, accu_SVM = test_final(model_train_SVM, test_dataset)\n",
    "\n",
    "print(\"TESTING ACCURACY:-\\n\")\n",
    "\n",
    "print(\"The accuracy for the testing dataset using SVM is\", accu_SVM, \"%\")\n",
    "\n",
    "print(\"\\n\")"
   ]
  },
  {
   "cell_type": "code",
   "execution_count": 43,
   "metadata": {
    "application/vnd.databricks.v1+cell": {
     "inputWidgets": {},
     "nuid": "8392e2b8-abaa-48fd-ac48-47d32f655253",
     "showTitle": false,
     "title": ""
    }
   },
   "outputs": [
    {
     "data": {
      "image/png": "[encoded data removed]",
      "text/plain": [
       "<Figure size 640x480 with 1 Axes>"
      ]
     },
     "metadata": {},
     "output_type": "display_data"
    }
   ],
   "source": [
    "objects = ('Training Accuracy', 'Testing Accuracy')\n",
    "y_pos = np.arange(len(objects))\n",
    "performance = [accuracy_SVM * 100, accu_SVM]\n",
    "plt.bar(y_pos, performance, align='center', alpha=0.5)\n",
    "plt.xticks(y_pos, objects)\n",
    "plt.xlabel('Classifications')\n",
    "plt.ylabel('Accuracy')\n",
    "plt.title('Support Vector Machine Classifier - Accuracies')\n",
    "\n",
    "plt.show()"
   ]
  },
  {
   "cell_type": "code",
   "execution_count": 44,
   "metadata": {
    "application/vnd.databricks.v1+cell": {
     "inputWidgets": {},
     "nuid": "2a4fe88b-96ec-4bd1-a4a4-b01c2bd48ae1",
     "showTitle": false,
     "title": ""
    }
   },
   "outputs": [
    {
     "name": "stdout",
     "output_type": "stream",
     "text": [
      "\n",
      "Summary Stats_SVM\n",
      "\n",
      "Class 0 precision_SVM = 0.8133454734651405\n",
      "Class 0 recall_SVM = 0.7762398361368009\n",
      "Class 0 F1 Measure_SVM = 0.7943595769682725\n",
      "Class 1 precision_SVM = 0.7747860311113888\n",
      "Class 1 recall_SVM = 0.8120743844944998\n",
      "Class 1 F1 Measure_SVM = 0.7929921033281115\n",
      "\n",
      "Avg/Weighted recall_SVM = 0.793678105980945\n",
      "Avg/Weighted precision_SVM = 0.7945811805796135\n",
      "Avg/Weighted F(1) Score_SVM = 0.7936941193181901\n",
      "\n",
      "Confusion matrix_SVM=\n",
      "[[12506.  3605.]\n",
      " [ 2870. 12402.]]\n",
      "\n",
      "\n",
      "Area under ROC_SVM = 0.7941571103156503\n"
     ]
    }
   ],
   "source": [
    "metrics = MulticlassMetrics(labels_and_preds_SVM.map(\n",
    "    lambda x: (x[\"predicted\"], x[\"actual\"])))\n",
    "# Overall statistics\n",
    "print(\"\\nSummary Stats_SVM\\n\")\n",
    "# Statistics by class\n",
    "labels = (sc.parallelize(\n",
    "    [row[0] for row in sampled_test_reviews.collect()])).distinct().collect()\n",
    "for label in sorted(labels):\n",
    "    print(\"Class %s precision_SVM = %s\" % (label, metrics.precision(label)))\n",
    "    print(\"Class %s recall_SVM = %s\" % (label, metrics.recall(label)))\n",
    "    print(\"Class %s F1 Measure_SVM = %s\" %\n",
    "          (label, metrics.fMeasure(float(label), beta=1.0)))\n",
    "\n",
    "# Weighted stats\n",
    "print(\"\\nAvg/Weighted recall_SVM = %s\" % metrics.weightedRecall)\n",
    "print(\"Avg/Weighted precision_SVM = %s\" % metrics.weightedPrecision)\n",
    "print(\"Avg/Weighted F(1) Score_SVM = %s\" % metrics.weightedFMeasure())\n",
    "\n",
    "cm = metrics.confusionMatrix().toArray()\n",
    "print(\"\\nConfusion matrix_SVM=\")\n",
    "print(cm)\n",
    "print(\"\\n\")\n",
    "metrics2 = BinaryClassificationMetrics(\n",
    "    labels_and_preds_SVM.map(lambda x: (x[\"predicted\"], x[\"actual\"])))\n",
    "\n",
    "# Area under ROC curve\n",
    "print(\"Area under ROC_SVM = %s\" % metrics2.areaUnderROC)"
   ]
  },
  {
   "cell_type": "code",
   "execution_count": 45,
   "metadata": {},
   "outputs": [
    {
     "name": "stdout",
     "output_type": "stream",
     "text": [
      "SVM accuracy on train dataset with word2vec is 0.5154214613004087\n",
      "SVM accuracy on test dataset with word2vec is 0.5133671095816206\n"
     ]
    }
   ],
   "source": [
    "model_train_SVM_vec = SVMWithSGD.train(train_dataset_vec)\n",
    "train_accuracy = test(model_train_SVM_vec, train_dataset_vec)\n",
    "print(\"SVM accuracy on train dataset with word2vec is {}\".format(train_accuracy))\n",
    "accuracy = test(model_train_SVM_vec, test_dataset_vec)\n",
    "print(\"SVM accuracy on test dataset with word2vec is {}\".format(accuracy))"
   ]
  },
  {
   "cell_type": "markdown",
   "metadata": {},
   "source": [
    "# Summary"
   ]
  },
  {
   "cell_type": "markdown",
   "metadata": {},
   "source": [
    "All the models performed within 3% accuracy of each other on the test set, so there is no clear winner. However, Naive Bayes gives a good baseline, but there is not really any hyper parameters to tune so we can probably get higher accuracy using Logistic regression or SVM. The purpose of this model is to train using the labeled amazon reviews and once we are happy on it's accuracy with the Amazon reviews, we can use it in a domain where there are no labels, such as determining the sentiment regarding a certain topic on Twitter."
   ]
  },
  {
   "cell_type": "markdown",
   "metadata": {},
   "source": [
    "# Further tuning"
   ]
  },
  {
   "cell_type": "markdown",
   "metadata": {},
   "source": [
    "I chose the SVM model to try to tune further to get the highest accuracy"
   ]
  },
  {
   "cell_type": "code",
   "execution_count": 77,
   "metadata": {},
   "outputs": [],
   "source": [
    "# Try count vectorizer instead of Hashing TF\n",
    "from pyspark.ml.feature import CountVectorizer\n",
    "\n",
    "# now make n-gram input\n",
    "train_gram_df = comp_ngram(tokenized_train, ngram=2)\n",
    "test_gram_df = comp_ngram(tokenized_test, ngram=2)\n",
    "\n",
    "\n",
    "# now make term frequency vectors out of data frame to feed machine\n",
    "count_vectorizer = CountVectorizer(vocabSize=20000, inputCol=\"split_text\", outputCol=\"tf\")\n",
    "train_cv_model = count_vectorizer.fit(tokenized_train)\n",
    "train_cv = train_cv_model.transform(tokenized_train)\n",
    "test_cv = train_cv_model.transform(tokenized_test)\n",
    "\n",
    "# tf-idf\n",
    "train_idfModel = CompIDF(train_cv)\n",
    "test_idfModel = CompIDF(test_cv)\n",
    "\n",
    "tfidf_train = CompTFIDF(train_cv, train_idfModel)\n",
    "tfidf_test = CompTFIDF(test_cv, test_idfModel)"
   ]
  },
  {
   "cell_type": "code",
   "execution_count": 78,
   "metadata": {},
   "outputs": [],
   "source": [
    "train_dataset_cv = tfidf_train.rdd.map(lambda x: LabeledPoint(\n",
    "    float(x.sentiment), MLLibVectors.fromML(x.idftf)))\n",
    "test_dataset_cv = tfidf_test.rdd.map(lambda x: LabeledPoint(\n",
    "    float(x.sentiment), MLLibVectors.fromML(x.idftf)))"
   ]
  },
  {
   "cell_type": "code",
   "execution_count": 95,
   "metadata": {},
   "outputs": [
    {
     "name": "stdout",
     "output_type": "stream",
     "text": [
      "TRAINING ACCURACY:-\n",
      "\n",
      "The accuracy for the training dataset tested on the training data itself using SVM is 0.8476805834326245 %\n",
      "\n",
      "\n"
     ]
    }
   ],
   "source": [
    "model_train_SVM = SVMWithSGD.train(train_dataset_cv, iterations=400, miniBatchFraction=0.5, regParam=0)\n",
    "accuracy_SVM = test(model_train_SVM, train_dataset_cv)\n",
    "print(\"TRAINING ACCURACY:-\\n\")\n",
    "print(\"The accuracy for the training dataset tested on the training data itself using SVM is\", accuracy_SVM, \"%\")\n",
    "print(\"\\n\")"
   ]
  },
  {
   "cell_type": "code",
   "execution_count": 96,
   "metadata": {},
   "outputs": [
    {
     "name": "stdout",
     "output_type": "stream",
     "text": [
      "TESTING ACCURACY:-\n",
      "\n",
      "The accuracy for the testing dataset using SVM is 82.16869005512538 %\n",
      "\n",
      "\n"
     ]
    }
   ],
   "source": [
    "labels_and_preds_SVM, accu_SVM = test_final(model_train_SVM, test_dataset_cv)\n",
    "\n",
    "print(\"TESTING ACCURACY:-\\n\")\n",
    "\n",
    "print(\"The accuracy for the testing dataset using SVM is\", accu_SVM, \"%\")\n",
    "\n",
    "print(\"\\n\")"
   ]
  },
  {
   "cell_type": "markdown",
   "metadata": {},
   "source": [
    "The best accuracy I was able to get was 82%"
   ]
  },
  {
   "cell_type": "code",
   "execution_count": null,
   "metadata": {},
   "outputs": [],
   "source": []
  }
 ],
 "metadata": {
  "application/vnd.databricks.v1+notebook": {
   "dashboards": [],
   "language": "python",
   "notebookName": "SENG550Project",
   "notebookOrigID": 3731395440371343,
   "widgets": {}
  },
  "kernelspec": {
   "display_name": "Python 3",
   "language": "python",
   "name": "python3"
  },
  "language_info": {
   "codemirror_mode": {
    "name": "ipython",
    "version": 3
   },
   "file_extension": ".py",
   "mimetype": "text/x-python",
   "name": "python",
   "nbconvert_exporter": "python",
   "pygments_lexer": "ipython3",
   "version": "3.6.9"
  },
  "toc": {
   "base_numbering": 1,
   "nav_menu": {},
   "number_sections": true,
   "sideBar": true,
   "skip_h1_title": false,
   "title_cell": "Table of Contents",
   "title_sidebar": "Contents",
   "toc_cell": false,
   "toc_position": {},
   "toc_section_display": true,
   "toc_window_display": false
  }
 },
 "nbformat": 4,
 "nbformat_minor": 1
}
